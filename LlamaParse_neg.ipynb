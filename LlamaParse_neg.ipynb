{
 "cells": [
  {
   "cell_type": "markdown",
   "id": "9d650e8d-4a73-4e31-ab64-5be261817523",
   "metadata": {},
   "source": [
    "# LlamaParse Agent document parser example\n",
    "OpenAI Agent, Document parsing using LlamaParse.\n",
    "\n",
    "Please set your OpenAI API key and AgentOps key in a local .env file for load_dotenv():\n",
    "```\n",
    "OPENAI_API_KEY=sk...\n",
    "AGENTOPS_API_KEY=\n",
    "LLAMA_CLOUD_API_KEY=\n",
    "```\n",
    "or set it in the environment explicity using \n",
    "```\n",
    "import os\n",
    "os.environ[\"OPENAI_API_KEY\"] = \"sk...\"\n",
    "os.environ[\"AGENTOPS_API_KEY\"] = \"..\"\n",
    "os.environ[\"LLAMA_CLOUD_API_KEY\"] = \"..\"\n",
    "```"
   ]
  },
  {
   "cell_type": "code",
   "execution_count": 1,
   "id": "a42e0d18-f70e-43cb-b620-233b4f6af529",
   "metadata": {},
   "outputs": [
    {
     "name": "stdout",
     "output_type": "stream",
     "text": [
      "Requirement already satisfied: llama-parse in /Users/arunesh/github/llm_agents/lab01_release/.venv/lib/python3.11/site-packages (0.5.14)\n",
      "Requirement already satisfied: llama-index in /Users/arunesh/github/llm_agents/lab01_release/.venv/lib/python3.11/site-packages (0.11.23)\n",
      "Collecting llama-index-postprocessor-sbert-rerank\n",
      "  Downloading llama_index_postprocessor_sbert_rerank-0.3.0-py3-none-any.whl (3.0 kB)\n",
      "Requirement already satisfied: click<9.0.0,>=8.1.7 in /Users/arunesh/github/llm_agents/lab01_release/.venv/lib/python3.11/site-packages (from llama-parse) (8.1.7)\n",
      "Requirement already satisfied: llama-index-core>=0.11.0 in /Users/arunesh/github/llm_agents/lab01_release/.venv/lib/python3.11/site-packages (from llama-parse) (0.11.23)\n",
      "Requirement already satisfied: llama-index-agent-openai<0.4.0,>=0.3.4 in /Users/arunesh/github/llm_agents/lab01_release/.venv/lib/python3.11/site-packages (from llama-index) (0.3.4)\n",
      "Requirement already satisfied: llama-index-cli<0.4.0,>=0.3.1 in /Users/arunesh/github/llm_agents/lab01_release/.venv/lib/python3.11/site-packages (from llama-index) (0.3.1)\n",
      "Requirement already satisfied: llama-index-embeddings-openai<0.3.0,>=0.2.4 in /Users/arunesh/github/llm_agents/lab01_release/.venv/lib/python3.11/site-packages (from llama-index) (0.2.5)\n",
      "Requirement already satisfied: llama-index-indices-managed-llama-cloud>=0.3.0 in /Users/arunesh/github/llm_agents/lab01_release/.venv/lib/python3.11/site-packages (from llama-index) (0.6.0)\n",
      "Requirement already satisfied: llama-index-legacy<0.10.0,>=0.9.48 in /Users/arunesh/github/llm_agents/lab01_release/.venv/lib/python3.11/site-packages (from llama-index) (0.9.48.post4)\n",
      "Requirement already satisfied: llama-index-llms-openai<0.3.0,>=0.2.10 in /Users/arunesh/github/llm_agents/lab01_release/.venv/lib/python3.11/site-packages (from llama-index) (0.2.16)\n",
      "Requirement already satisfied: llama-index-multi-modal-llms-openai<0.3.0,>=0.2.0 in /Users/arunesh/github/llm_agents/lab01_release/.venv/lib/python3.11/site-packages (from llama-index) (0.2.3)\n",
      "Requirement already satisfied: llama-index-program-openai<0.3.0,>=0.2.0 in /Users/arunesh/github/llm_agents/lab01_release/.venv/lib/python3.11/site-packages (from llama-index) (0.2.0)\n",
      "Requirement already satisfied: llama-index-question-gen-openai<0.3.0,>=0.2.0 in /Users/arunesh/github/llm_agents/lab01_release/.venv/lib/python3.11/site-packages (from llama-index) (0.2.0)\n",
      "Requirement already satisfied: llama-index-readers-file<0.4.0,>=0.3.0 in /Users/arunesh/github/llm_agents/lab01_release/.venv/lib/python3.11/site-packages (from llama-index) (0.3.0)\n",
      "Requirement already satisfied: llama-index-readers-llama-parse>=0.3.0 in /Users/arunesh/github/llm_agents/lab01_release/.venv/lib/python3.11/site-packages (from llama-index) (0.3.0)\n",
      "Requirement already satisfied: nltk>3.8.1 in /Users/arunesh/github/llm_agents/lab01_release/.venv/lib/python3.11/site-packages (from llama-index) (3.9.1)\n",
      "  Downloading llama_index_postprocessor_sbert_rerank-0.2.0-py3-none-any.whl (3.0 kB)\n",
      "Requirement already satisfied: openai>=1.14.0 in /Users/arunesh/github/llm_agents/lab01_release/.venv/lib/python3.11/site-packages (from llama-index-agent-openai<0.4.0,>=0.3.4->llama-index) (1.44.1)\n",
      "Requirement already satisfied: PyYAML>=6.0.1 in /Users/arunesh/github/llm_agents/lab01_release/.venv/lib/python3.11/site-packages (from llama-index-core>=0.11.0->llama-parse) (6.0.2)\n",
      "Requirement already satisfied: SQLAlchemy[asyncio]>=1.4.49 in /Users/arunesh/github/llm_agents/lab01_release/.venv/lib/python3.11/site-packages (from llama-index-core>=0.11.0->llama-parse) (2.0.36)\n",
      "Requirement already satisfied: aiohttp<4.0.0,>=3.8.6 in /Users/arunesh/github/llm_agents/lab01_release/.venv/lib/python3.11/site-packages (from llama-index-core>=0.11.0->llama-parse) (3.11.2)\n",
      "Requirement already satisfied: dataclasses-json in /Users/arunesh/github/llm_agents/lab01_release/.venv/lib/python3.11/site-packages (from llama-index-core>=0.11.0->llama-parse) (0.6.7)\n",
      "Requirement already satisfied: deprecated>=1.2.9.3 in /Users/arunesh/github/llm_agents/lab01_release/.venv/lib/python3.11/site-packages (from llama-index-core>=0.11.0->llama-parse) (1.2.15)\n",
      "Requirement already satisfied: dirtyjson<2.0.0,>=1.0.8 in /Users/arunesh/github/llm_agents/lab01_release/.venv/lib/python3.11/site-packages (from llama-index-core>=0.11.0->llama-parse) (1.0.8)\n",
      "Requirement already satisfied: filetype<2.0.0,>=1.2.0 in /Users/arunesh/github/llm_agents/lab01_release/.venv/lib/python3.11/site-packages (from llama-index-core>=0.11.0->llama-parse) (1.2.0)\n",
      "Requirement already satisfied: fsspec>=2023.5.0 in /Users/arunesh/github/llm_agents/lab01_release/.venv/lib/python3.11/site-packages (from llama-index-core>=0.11.0->llama-parse) (2024.10.0)\n",
      "Requirement already satisfied: httpx in /Users/arunesh/github/llm_agents/lab01_release/.venv/lib/python3.11/site-packages (from llama-index-core>=0.11.0->llama-parse) (0.27.2)\n",
      "Requirement already satisfied: nest-asyncio<2.0.0,>=1.5.8 in /Users/arunesh/github/llm_agents/lab01_release/.venv/lib/python3.11/site-packages (from llama-index-core>=0.11.0->llama-parse) (1.6.0)\n",
      "Requirement already satisfied: networkx>=3.0 in /Users/arunesh/github/llm_agents/lab01_release/.venv/lib/python3.11/site-packages (from llama-index-core>=0.11.0->llama-parse) (3.4.2)\n",
      "Requirement already satisfied: numpy<2.0.0 in /Users/arunesh/github/llm_agents/lab01_release/.venv/lib/python3.11/site-packages (from llama-index-core>=0.11.0->llama-parse) (1.26.4)\n",
      "Requirement already satisfied: pillow>=9.0.0 in /Users/arunesh/github/llm_agents/lab01_release/.venv/lib/python3.11/site-packages (from llama-index-core>=0.11.0->llama-parse) (11.0.0)\n",
      "Requirement already satisfied: pydantic<3.0.0,>=2.7.0 in /Users/arunesh/github/llm_agents/lab01_release/.venv/lib/python3.11/site-packages (from llama-index-core>=0.11.0->llama-parse) (2.9.1)\n",
      "Requirement already satisfied: requests>=2.31.0 in /Users/arunesh/github/llm_agents/lab01_release/.venv/lib/python3.11/site-packages (from llama-index-core>=0.11.0->llama-parse) (2.32.3)\n",
      "Requirement already satisfied: tenacity!=8.4.0,<9.0.0,>=8.2.0 in /Users/arunesh/github/llm_agents/lab01_release/.venv/lib/python3.11/site-packages (from llama-index-core>=0.11.0->llama-parse) (8.5.0)\n",
      "Requirement already satisfied: tiktoken>=0.3.3 in /Users/arunesh/github/llm_agents/lab01_release/.venv/lib/python3.11/site-packages (from llama-index-core>=0.11.0->llama-parse) (0.7.0)\n",
      "Requirement already satisfied: tqdm<5.0.0,>=4.66.1 in /Users/arunesh/github/llm_agents/lab01_release/.venv/lib/python3.11/site-packages (from llama-index-core>=0.11.0->llama-parse) (4.66.5)\n",
      "Requirement already satisfied: typing-extensions>=4.5.0 in /Users/arunesh/github/llm_agents/lab01_release/.venv/lib/python3.11/site-packages (from llama-index-core>=0.11.0->llama-parse) (4.12.2)\n",
      "Requirement already satisfied: typing-inspect>=0.8.0 in /Users/arunesh/github/llm_agents/lab01_release/.venv/lib/python3.11/site-packages (from llama-index-core>=0.11.0->llama-parse) (0.9.0)\n",
      "Requirement already satisfied: wrapt in /Users/arunesh/github/llm_agents/lab01_release/.venv/lib/python3.11/site-packages (from llama-index-core>=0.11.0->llama-parse) (1.16.0)\n",
      "Requirement already satisfied: llama-cloud>=0.1.5 in /Users/arunesh/github/llm_agents/lab01_release/.venv/lib/python3.11/site-packages (from llama-index-indices-managed-llama-cloud>=0.3.0->llama-index) (0.1.5)\n",
      "Requirement already satisfied: pandas in /Users/arunesh/github/llm_agents/lab01_release/.venv/lib/python3.11/site-packages (from llama-index-legacy<0.10.0,>=0.9.48->llama-index) (2.2.3)\n",
      "Requirement already satisfied: beautifulsoup4<5.0.0,>=4.12.3 in /Users/arunesh/github/llm_agents/lab01_release/.venv/lib/python3.11/site-packages (from llama-index-readers-file<0.4.0,>=0.3.0->llama-index) (4.12.3)\n",
      "Requirement already satisfied: pypdf<6.0.0,>=5.1.0 in /Users/arunesh/github/llm_agents/lab01_release/.venv/lib/python3.11/site-packages (from llama-index-readers-file<0.4.0,>=0.3.0->llama-index) (5.1.0)\n",
      "Requirement already satisfied: striprtf<0.0.27,>=0.0.26 in /Users/arunesh/github/llm_agents/lab01_release/.venv/lib/python3.11/site-packages (from llama-index-readers-file<0.4.0,>=0.3.0->llama-index) (0.0.26)\n",
      "Requirement already satisfied: joblib in /Users/arunesh/github/llm_agents/lab01_release/.venv/lib/python3.11/site-packages (from nltk>3.8.1->llama-index) (1.4.2)\n",
      "Requirement already satisfied: regex>=2021.8.3 in /Users/arunesh/github/llm_agents/lab01_release/.venv/lib/python3.11/site-packages (from nltk>3.8.1->llama-index) (2024.7.24)\n",
      "Requirement already satisfied: aiohappyeyeballs>=2.3.0 in /Users/arunesh/github/llm_agents/lab01_release/.venv/lib/python3.11/site-packages (from aiohttp<4.0.0,>=3.8.6->llama-index-core>=0.11.0->llama-parse) (2.4.3)\n",
      "Requirement already satisfied: aiosignal>=1.1.2 in /Users/arunesh/github/llm_agents/lab01_release/.venv/lib/python3.11/site-packages (from aiohttp<4.0.0,>=3.8.6->llama-index-core>=0.11.0->llama-parse) (1.3.1)\n",
      "Requirement already satisfied: attrs>=17.3.0 in /Users/arunesh/github/llm_agents/lab01_release/.venv/lib/python3.11/site-packages (from aiohttp<4.0.0,>=3.8.6->llama-index-core>=0.11.0->llama-parse) (24.2.0)\n",
      "Requirement already satisfied: frozenlist>=1.1.1 in /Users/arunesh/github/llm_agents/lab01_release/.venv/lib/python3.11/site-packages (from aiohttp<4.0.0,>=3.8.6->llama-index-core>=0.11.0->llama-parse) (1.5.0)\n",
      "Requirement already satisfied: multidict<7.0,>=4.5 in /Users/arunesh/github/llm_agents/lab01_release/.venv/lib/python3.11/site-packages (from aiohttp<4.0.0,>=3.8.6->llama-index-core>=0.11.0->llama-parse) (6.1.0)\n",
      "Requirement already satisfied: propcache>=0.2.0 in /Users/arunesh/github/llm_agents/lab01_release/.venv/lib/python3.11/site-packages (from aiohttp<4.0.0,>=3.8.6->llama-index-core>=0.11.0->llama-parse) (0.2.0)\n",
      "Requirement already satisfied: yarl<2.0,>=1.17.0 in /Users/arunesh/github/llm_agents/lab01_release/.venv/lib/python3.11/site-packages (from aiohttp<4.0.0,>=3.8.6->llama-index-core>=0.11.0->llama-parse) (1.17.2)\n",
      "Requirement already satisfied: soupsieve>1.2 in /Users/arunesh/github/llm_agents/lab01_release/.venv/lib/python3.11/site-packages (from beautifulsoup4<5.0.0,>=4.12.3->llama-index-readers-file<0.4.0,>=0.3.0->llama-index) (2.6)\n",
      "Requirement already satisfied: anyio in /Users/arunesh/github/llm_agents/lab01_release/.venv/lib/python3.11/site-packages (from httpx->llama-index-core>=0.11.0->llama-parse) (4.4.0)\n",
      "Requirement already satisfied: certifi in /Users/arunesh/github/llm_agents/lab01_release/.venv/lib/python3.11/site-packages (from httpx->llama-index-core>=0.11.0->llama-parse) (2024.8.30)\n",
      "Requirement already satisfied: httpcore==1.* in /Users/arunesh/github/llm_agents/lab01_release/.venv/lib/python3.11/site-packages (from httpx->llama-index-core>=0.11.0->llama-parse) (1.0.5)\n",
      "Requirement already satisfied: idna in /Users/arunesh/github/llm_agents/lab01_release/.venv/lib/python3.11/site-packages (from httpx->llama-index-core>=0.11.0->llama-parse) (3.8)\n",
      "Requirement already satisfied: sniffio in /Users/arunesh/github/llm_agents/lab01_release/.venv/lib/python3.11/site-packages (from httpx->llama-index-core>=0.11.0->llama-parse) (1.3.1)\n",
      "Requirement already satisfied: h11<0.15,>=0.13 in /Users/arunesh/github/llm_agents/lab01_release/.venv/lib/python3.11/site-packages (from httpcore==1.*->httpx->llama-index-core>=0.11.0->llama-parse) (0.14.0)\n",
      "Requirement already satisfied: distro<2,>=1.7.0 in /Users/arunesh/github/llm_agents/lab01_release/.venv/lib/python3.11/site-packages (from openai>=1.14.0->llama-index-agent-openai<0.4.0,>=0.3.4->llama-index) (1.9.0)\n",
      "Requirement already satisfied: jiter<1,>=0.4.0 in /Users/arunesh/github/llm_agents/lab01_release/.venv/lib/python3.11/site-packages (from openai>=1.14.0->llama-index-agent-openai<0.4.0,>=0.3.4->llama-index) (0.5.0)\n",
      "Requirement already satisfied: annotated-types>=0.6.0 in /Users/arunesh/github/llm_agents/lab01_release/.venv/lib/python3.11/site-packages (from pydantic<3.0.0,>=2.7.0->llama-index-core>=0.11.0->llama-parse) (0.7.0)\n",
      "Requirement already satisfied: pydantic-core==2.23.3 in /Users/arunesh/github/llm_agents/lab01_release/.venv/lib/python3.11/site-packages (from pydantic<3.0.0,>=2.7.0->llama-index-core>=0.11.0->llama-parse) (2.23.3)\n",
      "Requirement already satisfied: charset-normalizer<4,>=2 in /Users/arunesh/github/llm_agents/lab01_release/.venv/lib/python3.11/site-packages (from requests>=2.31.0->llama-index-core>=0.11.0->llama-parse) (3.3.2)\n",
      "Requirement already satisfied: urllib3<3,>=1.21.1 in /Users/arunesh/github/llm_agents/lab01_release/.venv/lib/python3.11/site-packages (from requests>=2.31.0->llama-index-core>=0.11.0->llama-parse) (2.2.2)\n",
      "Requirement already satisfied: greenlet!=0.4.17 in /Users/arunesh/github/llm_agents/lab01_release/.venv/lib/python3.11/site-packages (from SQLAlchemy[asyncio]>=1.4.49->llama-index-core>=0.11.0->llama-parse) (3.1.1)\n",
      "Requirement already satisfied: mypy-extensions>=0.3.0 in /Users/arunesh/github/llm_agents/lab01_release/.venv/lib/python3.11/site-packages (from typing-inspect>=0.8.0->llama-index-core>=0.11.0->llama-parse) (1.0.0)\n",
      "Requirement already satisfied: marshmallow<4.0.0,>=3.18.0 in /Users/arunesh/github/llm_agents/lab01_release/.venv/lib/python3.11/site-packages (from dataclasses-json->llama-index-core>=0.11.0->llama-parse) (3.23.1)\n",
      "Requirement already satisfied: python-dateutil>=2.8.2 in /Users/arunesh/github/llm_agents/lab01_release/.venv/lib/python3.11/site-packages (from pandas->llama-index-legacy<0.10.0,>=0.9.48->llama-index) (2.9.0.post0)\n",
      "Requirement already satisfied: pytz>=2020.1 in /Users/arunesh/github/llm_agents/lab01_release/.venv/lib/python3.11/site-packages (from pandas->llama-index-legacy<0.10.0,>=0.9.48->llama-index) (2024.2)\n",
      "Requirement already satisfied: tzdata>=2022.7 in /Users/arunesh/github/llm_agents/lab01_release/.venv/lib/python3.11/site-packages (from pandas->llama-index-legacy<0.10.0,>=0.9.48->llama-index) (2024.1)\n",
      "Requirement already satisfied: packaging>=17.0 in /Users/arunesh/github/llm_agents/lab01_release/.venv/lib/python3.11/site-packages (from marshmallow<4.0.0,>=3.18.0->dataclasses-json->llama-index-core>=0.11.0->llama-parse) (23.2)\n",
      "Requirement already satisfied: six>=1.5 in /Users/arunesh/github/llm_agents/lab01_release/.venv/lib/python3.11/site-packages (from python-dateutil>=2.8.2->pandas->llama-index-legacy<0.10.0,>=0.9.48->llama-index) (1.16.0)\n",
      "Installing collected packages: llama-index-postprocessor-sbert-rerank\n",
      "Successfully installed llama-index-postprocessor-sbert-rerank-0.2.0\n",
      "\n",
      "\u001b[1m[\u001b[0m\u001b[34;49mnotice\u001b[0m\u001b[1;39;49m]\u001b[0m\u001b[39;49m A new release of pip available: \u001b[0m\u001b[31;49m22.3.1\u001b[0m\u001b[39;49m -> \u001b[0m\u001b[32;49m24.3.1\u001b[0m\n",
      "\u001b[1m[\u001b[0m\u001b[34;49mnotice\u001b[0m\u001b[1;39;49m]\u001b[0m\u001b[39;49m To update, run: \u001b[0m\u001b[32;49mpip install --upgrade pip\u001b[0m\n"
     ]
    }
   ],
   "source": [
    "!pip install llama-parse llama-index llama-index-postprocessor-sbert-rerank\n"
   ]
  },
  {
   "cell_type": "code",
   "execution_count": 2,
   "id": "d2e01907-955f-4c50-8941-c474affa2f24",
   "metadata": {},
   "outputs": [
    {
     "data": {
      "text/plain": [
       "True"
      ]
     },
     "execution_count": 2,
     "metadata": {},
     "output_type": "execute_result"
    }
   ],
   "source": [
    "import os\n",
    "from dotenv import load_dotenv\n",
    "load_dotenv()"
   ]
  },
  {
   "cell_type": "code",
   "execution_count": 3,
   "id": "90bbd6fa-870a-4792-bd07-30425ddbc0b5",
   "metadata": {},
   "outputs": [],
   "source": [
    "from llama_index.core import Settings\n",
    "from llama_index.embeddings.openai import OpenAIEmbedding\n",
    "from llama_index.llms.openai import OpenAI\n",
    "\n",
    "Settings.embed_model = OpenAIEmbedding(model=\"text-embedding-3-small\")\n",
    "Settings.llm = OpenAI(model=\"gpt-3.5-turbo\", temperature=0.2)"
   ]
  },
  {
   "cell_type": "code",
   "execution_count": 7,
   "id": "f5724acf-2ba0-4a3d-abd2-5f5154140a22",
   "metadata": {},
   "outputs": [
    {
     "name": "stdout",
     "output_type": "stream",
     "text": [
      "--2024-11-17 16:44:05--  https://arxiv.org/pdf/2405.15793.pdf\n",
      "Resolving arxiv.org (arxiv.org)... 151.101.67.42, 151.101.3.42, 151.101.131.42, ...\n",
      "Connecting to arxiv.org (arxiv.org)|151.101.67.42|:443... connected.\n",
      "HTTP request sent, awaiting response... 301 Moved Permanently\n",
      "Location: http://arxiv.org/pdf/2405.15793 [following]\n",
      "--2024-11-17 16:44:05--  http://arxiv.org/pdf/2405.15793\n",
      "Connecting to arxiv.org (arxiv.org)|151.101.67.42|:80... connected.\n",
      "HTTP request sent, awaiting response... 200 OK\n",
      "Length: 4963538 (4.7M) [application/pdf]\n",
      "Saving to: ‘paper_1.pdf’\n",
      "\n",
      "paper_1.pdf         100%[===================>]   4.73M  17.1MB/s    in 0.3s    \n",
      "\n",
      "2024-11-17 16:44:05 (17.1 MB/s) - ‘paper_1.pdf’ saved [4963538/4963538]\n",
      "\n"
     ]
    }
   ],
   "source": [
    "# swe agents paper: https://arxiv.org/abs/2405.15793\n",
    "!wget https://arxiv.org/pdf/2405.15793.pdf -O paper_1.pdf"
   ]
  },
  {
   "cell_type": "code",
   "execution_count": 8,
   "id": "c14d7ddf-e88f-4ae6-aba6-56981c2dde82",
   "metadata": {},
   "outputs": [],
   "source": [
    "from llama_parse import LlamaParse\n",
    "\n",
    "parser = LlamaParse(\n",
    "    result_type=\"markdown\",\n",
    ")"
   ]
  },
  {
   "cell_type": "code",
   "execution_count": 9,
   "id": "cb6a6fdf-759f-44c2-b91c-ba0425deefde",
   "metadata": {},
   "outputs": [
    {
     "name": "stdout",
     "output_type": "stream",
     "text": [
      "Started parsing the file under job_id b16749c7-1853-494f-b212-70c939c71244\n",
      "........................"
     ]
    }
   ],
   "source": [
    "documents = await parser.aload_data(\"paper_1.pdf\")"
   ]
  },
  {
   "cell_type": "code",
   "execution_count": 21,
   "id": "a3fbec5f-1ae6-4ef0-a991-0963e208f3cd",
   "metadata": {},
   "outputs": [
    {
     "name": "stderr",
     "output_type": "stream",
     "text": [
      "1it [00:00, 19508.39it/s]\n",
      "0it [00:00, ?it/s]\n",
      "0it [00:00, ?it/s]\n",
      "0it [00:00, ?it/s]\n",
      "0it [00:00, ?it/s]\n",
      "3it [00:00, 44620.26it/s]\n",
      "0it [00:00, ?it/s]\n",
      "0it [00:00, ?it/s]\n",
      "0it [00:00, ?it/s]\n",
      "0it [00:00, ?it/s]\n",
      "0it [00:00, ?it/s]\n",
      "0it [00:00, ?it/s]\n",
      "0it [00:00, ?it/s]\n",
      "0it [00:00, ?it/s]\n",
      "0it [00:00, ?it/s]\n",
      "0it [00:00, ?it/s]\n",
      "1it [00:00, 38836.15it/s]\n",
      "0it [00:00, ?it/s]\n",
      "0it [00:00, ?it/s]\n",
      "0it [00:00, ?it/s]\n",
      "0it [00:00, ?it/s]\n",
      "0it [00:00, ?it/s]\n",
      "0it [00:00, ?it/s]\n",
      "0it [00:00, ?it/s]\n",
      "1it [00:00, 25575.02it/s]\n",
      "2it [00:00, 29433.71it/s]\n",
      "2it [00:00, 31184.42it/s]\n",
      "1it [00:00, 13189.64it/s]\n",
      "2it [00:00, 28435.96it/s]\n",
      "1it [00:00, 16578.28it/s]\n",
      "1it [00:00, 13530.01it/s]\n",
      "0it [00:00, ?it/s]\n",
      "2it [00:00, 27324.46it/s]\n",
      "2it [00:00, 57065.36it/s]\n",
      "3it [00:00, 30247.38it/s]\n",
      "1it [00:00, 14716.86it/s]\n",
      "1it [00:00, 13357.66it/s]\n",
      "1it [00:00, 14315.03it/s]\n",
      "1it [00:00, 16710.37it/s]\n",
      "0it [00:00, ?it/s]\n",
      "0it [00:00, ?it/s]\n",
      "0it [00:00, ?it/s]\n",
      "0it [00:00, ?it/s]\n",
      "0it [00:00, ?it/s]\n",
      "0it [00:00, ?it/s]\n",
      "0it [00:00, ?it/s]\n",
      "0it [00:00, ?it/s]\n",
      "0it [00:00, ?it/s]\n",
      "0it [00:00, ?it/s]\n",
      "0it [00:00, ?it/s]\n",
      "0it [00:00, ?it/s]\n",
      "1it [00:00, 32263.88it/s]\n",
      "0it [00:00, ?it/s]\n",
      "0it [00:00, ?it/s]\n",
      "0it [00:00, ?it/s]\n",
      "0it [00:00, ?it/s]\n",
      "1it [00:00, 17476.27it/s]\n",
      "0it [00:00, ?it/s]\n",
      "0it [00:00, ?it/s]\n",
      "1it [00:00, 486.63it/s]\n",
      "0it [00:00, ?it/s]\n",
      "0it [00:00, ?it/s]\n",
      "2it [00:00, 12826.62it/s]\n",
      "0it [00:00, ?it/s]\n",
      "0it [00:00, ?it/s]\n",
      "0it [00:00, ?it/s]\n",
      "0it [00:00, ?it/s]\n",
      "0it [00:00, ?it/s]\n",
      "0it [00:00, ?it/s]\n",
      "0it [00:00, ?it/s]\n",
      "0it [00:00, ?it/s]\n",
      "0it [00:00, ?it/s]\n",
      "0it [00:00, ?it/s]\n",
      "0it [00:00, ?it/s]\n",
      "0it [00:00, ?it/s]\n",
      "0it [00:00, ?it/s]\n",
      "0it [00:00, ?it/s]\n",
      "0it [00:00, ?it/s]\n",
      "0it [00:00, ?it/s]\n",
      "0it [00:00, ?it/s]\n",
      "0it [00:00, ?it/s]\n",
      "0it [00:00, ?it/s]\n",
      "0it [00:00, ?it/s]\n",
      "0it [00:00, ?it/s]\n",
      "0it [00:00, ?it/s]\n",
      "0it [00:00, ?it/s]\n",
      "0it [00:00, ?it/s]\n",
      "0it [00:00, ?it/s]\n",
      "0it [00:00, ?it/s]\n",
      "0it [00:00, ?it/s]\n",
      "0it [00:00, ?it/s]\n",
      "0it [00:00, ?it/s]\n",
      "0it [00:00, ?it/s]\n",
      "0it [00:00, ?it/s]\n",
      "0it [00:00, ?it/s]\n",
      "0it [00:00, ?it/s]\n",
      "0it [00:00, ?it/s]\n",
      "0it [00:00, ?it/s]\n",
      "0it [00:00, ?it/s]\n",
      "0it [00:00, ?it/s]\n",
      "0it [00:00, ?it/s]\n",
      "0it [00:00, ?it/s]\n",
      "0it [00:00, ?it/s]\n",
      "0it [00:00, ?it/s]\n",
      "0it [00:00, ?it/s]\n",
      "0it [00:00, ?it/s]\n",
      "0it [00:00, ?it/s]\n",
      "1it [00:00, 50533.78it/s]\n",
      "0it [00:00, ?it/s]\n",
      "0it [00:00, ?it/s]\n",
      "0it [00:00, ?it/s]\n",
      "0it [00:00, ?it/s]\n",
      "0it [00:00, ?it/s]\n",
      "0it [00:00, ?it/s]\n",
      "0it [00:00, ?it/s]\n",
      "0it [00:00, ?it/s]\n",
      "0it [00:00, ?it/s]\n",
      "0it [00:00, ?it/s]\n"
     ]
    }
   ],
   "source": [
    "import nest_asyncio\n",
    "\n",
    "nest_asyncio.apply()\n",
    "\n",
    "from llama_index.core.node_parser import (\n",
    "    MarkdownElementNodeParser,\n",
    "    SentenceSplitter,\n",
    ")\n",
    "\n",
    "# explicitly extract tables with the MarkdownElementNodeParser\n",
    "node_parser = MarkdownElementNodeParser(num_workers=8)\n",
    "nodes = node_parser.get_nodes_from_documents(documents)\n",
    "nodes, objects = node_parser.get_nodes_and_objects(nodes)\n",
    "\n",
    "# Chain splitters to ensure chunk size requirements are met\n",
    "nodes = SentenceSplitter(chunk_size=512, chunk_overlap=20).get_nodes_from_documents(\n",
    "    nodes\n",
    ")"
   ]
  },
  {
   "cell_type": "code",
   "execution_count": 22,
   "id": "1529429a-080e-46b0-9252-33c685298310",
   "metadata": {},
   "outputs": [],
   "source": [
    "from llama_index.core import VectorStoreIndex, SummaryIndex\n",
    "\n",
    "vector_index = VectorStoreIndex(nodes=nodes)\n",
    "summary_index = SummaryIndex(nodes=nodes)"
   ]
  },
  {
   "cell_type": "code",
   "execution_count": 13,
   "id": "30592339-b2e3-4f41-a939-3a59bf7ffd26",
   "metadata": {},
   "outputs": [
    {
     "name": "stdout",
     "output_type": "stream",
     "text": [
      "Collecting llama-index-postprocessor-colbert-rerank\n",
      "  Downloading llama_index_postprocessor_colbert_rerank-0.3.0-py3-none-any.whl (3.5 kB)\n",
      "Collecting llama-index-core<0.13.0,>=0.12.0\n",
      "  Using cached llama_index_core-0.12.0-py3-none-any.whl (1.6 MB)\n",
      "Collecting torch<3.0.0,>=2.2.0\n",
      "  Downloading torch-2.5.1-cp311-none-macosx_11_0_arm64.whl (63.9 MB)\n",
      "\u001b[2K     \u001b[90m━━━━━━━━━━━━━━━━━━━━━━━━━━━━━━━━━━━━━━━━\u001b[0m \u001b[32m63.9/63.9 MB\u001b[0m \u001b[31m26.0 MB/s\u001b[0m eta \u001b[36m0:00:00\u001b[0m00:01\u001b[0m00:01\u001b[0m\n",
      "\u001b[?25hCollecting transformers<5.0.0,>=4.37.2\n",
      "  Downloading transformers-4.46.2-py3-none-any.whl (10.0 MB)\n",
      "\u001b[2K     \u001b[90m━━━━━━━━━━━━━━━━━━━━━━━━━━━━━━━━━━━━━━━━\u001b[0m \u001b[32m10.0/10.0 MB\u001b[0m \u001b[31m31.4 MB/s\u001b[0m eta \u001b[36m0:00:00\u001b[0m00:01\u001b[0m0:01\u001b[0m\n",
      "\u001b[?25hRequirement already satisfied: PyYAML>=6.0.1 in /Users/arunesh/github/llm_agents/lab01_release/.venv/lib/python3.11/site-packages (from llama-index-core<0.13.0,>=0.12.0->llama-index-postprocessor-colbert-rerank) (6.0.2)\n",
      "Requirement already satisfied: SQLAlchemy[asyncio]>=1.4.49 in /Users/arunesh/github/llm_agents/lab01_release/.venv/lib/python3.11/site-packages (from llama-index-core<0.13.0,>=0.12.0->llama-index-postprocessor-colbert-rerank) (2.0.36)\n",
      "Requirement already satisfied: aiohttp<4.0.0,>=3.8.6 in /Users/arunesh/github/llm_agents/lab01_release/.venv/lib/python3.11/site-packages (from llama-index-core<0.13.0,>=0.12.0->llama-index-postprocessor-colbert-rerank) (3.11.2)\n",
      "Requirement already satisfied: dataclasses-json in /Users/arunesh/github/llm_agents/lab01_release/.venv/lib/python3.11/site-packages (from llama-index-core<0.13.0,>=0.12.0->llama-index-postprocessor-colbert-rerank) (0.6.7)\n",
      "Requirement already satisfied: deprecated>=1.2.9.3 in /Users/arunesh/github/llm_agents/lab01_release/.venv/lib/python3.11/site-packages (from llama-index-core<0.13.0,>=0.12.0->llama-index-postprocessor-colbert-rerank) (1.2.15)\n",
      "Requirement already satisfied: dirtyjson<2.0.0,>=1.0.8 in /Users/arunesh/github/llm_agents/lab01_release/.venv/lib/python3.11/site-packages (from llama-index-core<0.13.0,>=0.12.0->llama-index-postprocessor-colbert-rerank) (1.0.8)\n",
      "Requirement already satisfied: filetype<2.0.0,>=1.2.0 in /Users/arunesh/github/llm_agents/lab01_release/.venv/lib/python3.11/site-packages (from llama-index-core<0.13.0,>=0.12.0->llama-index-postprocessor-colbert-rerank) (1.2.0)\n",
      "Requirement already satisfied: fsspec>=2023.5.0 in /Users/arunesh/github/llm_agents/lab01_release/.venv/lib/python3.11/site-packages (from llama-index-core<0.13.0,>=0.12.0->llama-index-postprocessor-colbert-rerank) (2024.10.0)\n",
      "Requirement already satisfied: httpx in /Users/arunesh/github/llm_agents/lab01_release/.venv/lib/python3.11/site-packages (from llama-index-core<0.13.0,>=0.12.0->llama-index-postprocessor-colbert-rerank) (0.27.2)\n",
      "Requirement already satisfied: nest-asyncio<2.0.0,>=1.5.8 in /Users/arunesh/github/llm_agents/lab01_release/.venv/lib/python3.11/site-packages (from llama-index-core<0.13.0,>=0.12.0->llama-index-postprocessor-colbert-rerank) (1.6.0)\n",
      "Requirement already satisfied: networkx>=3.0 in /Users/arunesh/github/llm_agents/lab01_release/.venv/lib/python3.11/site-packages (from llama-index-core<0.13.0,>=0.12.0->llama-index-postprocessor-colbert-rerank) (3.4.2)\n",
      "Requirement already satisfied: nltk>3.8.1 in /Users/arunesh/github/llm_agents/lab01_release/.venv/lib/python3.11/site-packages (from llama-index-core<0.13.0,>=0.12.0->llama-index-postprocessor-colbert-rerank) (3.9.1)\n",
      "Requirement already satisfied: numpy in /Users/arunesh/github/llm_agents/lab01_release/.venv/lib/python3.11/site-packages (from llama-index-core<0.13.0,>=0.12.0->llama-index-postprocessor-colbert-rerank) (1.26.4)\n",
      "Requirement already satisfied: pillow>=9.0.0 in /Users/arunesh/github/llm_agents/lab01_release/.venv/lib/python3.11/site-packages (from llama-index-core<0.13.0,>=0.12.0->llama-index-postprocessor-colbert-rerank) (11.0.0)\n",
      "Requirement already satisfied: pydantic<3.0.0,>=2.7.0 in /Users/arunesh/github/llm_agents/lab01_release/.venv/lib/python3.11/site-packages (from llama-index-core<0.13.0,>=0.12.0->llama-index-postprocessor-colbert-rerank) (2.9.1)\n",
      "Requirement already satisfied: requests>=2.31.0 in /Users/arunesh/github/llm_agents/lab01_release/.venv/lib/python3.11/site-packages (from llama-index-core<0.13.0,>=0.12.0->llama-index-postprocessor-colbert-rerank) (2.32.3)\n",
      "Requirement already satisfied: tenacity!=8.4.0,<9.0.0,>=8.2.0 in /Users/arunesh/github/llm_agents/lab01_release/.venv/lib/python3.11/site-packages (from llama-index-core<0.13.0,>=0.12.0->llama-index-postprocessor-colbert-rerank) (8.5.0)\n",
      "Requirement already satisfied: tiktoken>=0.3.3 in /Users/arunesh/github/llm_agents/lab01_release/.venv/lib/python3.11/site-packages (from llama-index-core<0.13.0,>=0.12.0->llama-index-postprocessor-colbert-rerank) (0.7.0)\n",
      "Requirement already satisfied: tqdm<5.0.0,>=4.66.1 in /Users/arunesh/github/llm_agents/lab01_release/.venv/lib/python3.11/site-packages (from llama-index-core<0.13.0,>=0.12.0->llama-index-postprocessor-colbert-rerank) (4.66.5)\n",
      "Requirement already satisfied: typing-extensions>=4.5.0 in /Users/arunesh/github/llm_agents/lab01_release/.venv/lib/python3.11/site-packages (from llama-index-core<0.13.0,>=0.12.0->llama-index-postprocessor-colbert-rerank) (4.12.2)\n",
      "Requirement already satisfied: typing-inspect>=0.8.0 in /Users/arunesh/github/llm_agents/lab01_release/.venv/lib/python3.11/site-packages (from llama-index-core<0.13.0,>=0.12.0->llama-index-postprocessor-colbert-rerank) (0.9.0)\n",
      "Requirement already satisfied: wrapt in /Users/arunesh/github/llm_agents/lab01_release/.venv/lib/python3.11/site-packages (from llama-index-core<0.13.0,>=0.12.0->llama-index-postprocessor-colbert-rerank) (1.16.0)\n",
      "Collecting filelock\n",
      "  Using cached filelock-3.16.1-py3-none-any.whl (16 kB)\n",
      "Requirement already satisfied: jinja2 in /Users/arunesh/github/llm_agents/lab01_release/.venv/lib/python3.11/site-packages (from torch<3.0.0,>=2.2.0->llama-index-postprocessor-colbert-rerank) (3.1.4)\n",
      "Collecting sympy==1.13.1\n",
      "  Using cached sympy-1.13.1-py3-none-any.whl (6.2 MB)\n",
      "Collecting mpmath<1.4,>=1.1.0\n",
      "  Using cached mpmath-1.3.0-py3-none-any.whl (536 kB)\n",
      "Collecting huggingface-hub<1.0,>=0.23.2\n",
      "  Downloading huggingface_hub-0.26.2-py3-none-any.whl (447 kB)\n",
      "\u001b[2K     \u001b[90m━━━━━━━━━━━━━━━━━━━━━━━━━━━━━━━━━━━━━━\u001b[0m \u001b[32m447.5/447.5 kB\u001b[0m \u001b[31m23.6 MB/s\u001b[0m eta \u001b[36m0:00:00\u001b[0m\n",
      "\u001b[?25hRequirement already satisfied: packaging>=20.0 in /Users/arunesh/github/llm_agents/lab01_release/.venv/lib/python3.11/site-packages (from transformers<5.0.0,>=4.37.2->llama-index-postprocessor-colbert-rerank) (23.2)\n",
      "Requirement already satisfied: regex!=2019.12.17 in /Users/arunesh/github/llm_agents/lab01_release/.venv/lib/python3.11/site-packages (from transformers<5.0.0,>=4.37.2->llama-index-postprocessor-colbert-rerank) (2024.7.24)\n",
      "Collecting safetensors>=0.4.1\n",
      "  Using cached safetensors-0.4.5-cp311-cp311-macosx_11_0_arm64.whl (381 kB)\n",
      "Collecting tokenizers<0.21,>=0.20\n",
      "  Downloading tokenizers-0.20.3-cp311-cp311-macosx_11_0_arm64.whl (2.6 MB)\n",
      "\u001b[2K     \u001b[90m━━━━━━━━━━━━━━━━━━━━━━━━━━━━━━━━━━━━━━━━\u001b[0m \u001b[32m2.6/2.6 MB\u001b[0m \u001b[31m31.3 MB/s\u001b[0m eta \u001b[36m0:00:00\u001b[0ma \u001b[36m0:00:01\u001b[0m\n",
      "\u001b[?25hRequirement already satisfied: aiohappyeyeballs>=2.3.0 in /Users/arunesh/github/llm_agents/lab01_release/.venv/lib/python3.11/site-packages (from aiohttp<4.0.0,>=3.8.6->llama-index-core<0.13.0,>=0.12.0->llama-index-postprocessor-colbert-rerank) (2.4.3)\n",
      "Requirement already satisfied: aiosignal>=1.1.2 in /Users/arunesh/github/llm_agents/lab01_release/.venv/lib/python3.11/site-packages (from aiohttp<4.0.0,>=3.8.6->llama-index-core<0.13.0,>=0.12.0->llama-index-postprocessor-colbert-rerank) (1.3.1)\n",
      "Requirement already satisfied: attrs>=17.3.0 in /Users/arunesh/github/llm_agents/lab01_release/.venv/lib/python3.11/site-packages (from aiohttp<4.0.0,>=3.8.6->llama-index-core<0.13.0,>=0.12.0->llama-index-postprocessor-colbert-rerank) (24.2.0)\n",
      "Requirement already satisfied: frozenlist>=1.1.1 in /Users/arunesh/github/llm_agents/lab01_release/.venv/lib/python3.11/site-packages (from aiohttp<4.0.0,>=3.8.6->llama-index-core<0.13.0,>=0.12.0->llama-index-postprocessor-colbert-rerank) (1.5.0)\n",
      "Requirement already satisfied: multidict<7.0,>=4.5 in /Users/arunesh/github/llm_agents/lab01_release/.venv/lib/python3.11/site-packages (from aiohttp<4.0.0,>=3.8.6->llama-index-core<0.13.0,>=0.12.0->llama-index-postprocessor-colbert-rerank) (6.1.0)\n",
      "Requirement already satisfied: propcache>=0.2.0 in /Users/arunesh/github/llm_agents/lab01_release/.venv/lib/python3.11/site-packages (from aiohttp<4.0.0,>=3.8.6->llama-index-core<0.13.0,>=0.12.0->llama-index-postprocessor-colbert-rerank) (0.2.0)\n",
      "Requirement already satisfied: yarl<2.0,>=1.17.0 in /Users/arunesh/github/llm_agents/lab01_release/.venv/lib/python3.11/site-packages (from aiohttp<4.0.0,>=3.8.6->llama-index-core<0.13.0,>=0.12.0->llama-index-postprocessor-colbert-rerank) (1.17.2)\n",
      "Requirement already satisfied: click in /Users/arunesh/github/llm_agents/lab01_release/.venv/lib/python3.11/site-packages (from nltk>3.8.1->llama-index-core<0.13.0,>=0.12.0->llama-index-postprocessor-colbert-rerank) (8.1.7)\n",
      "Requirement already satisfied: joblib in /Users/arunesh/github/llm_agents/lab01_release/.venv/lib/python3.11/site-packages (from nltk>3.8.1->llama-index-core<0.13.0,>=0.12.0->llama-index-postprocessor-colbert-rerank) (1.4.2)\n",
      "Requirement already satisfied: annotated-types>=0.6.0 in /Users/arunesh/github/llm_agents/lab01_release/.venv/lib/python3.11/site-packages (from pydantic<3.0.0,>=2.7.0->llama-index-core<0.13.0,>=0.12.0->llama-index-postprocessor-colbert-rerank) (0.7.0)\n",
      "Requirement already satisfied: pydantic-core==2.23.3 in /Users/arunesh/github/llm_agents/lab01_release/.venv/lib/python3.11/site-packages (from pydantic<3.0.0,>=2.7.0->llama-index-core<0.13.0,>=0.12.0->llama-index-postprocessor-colbert-rerank) (2.23.3)\n",
      "Requirement already satisfied: charset-normalizer<4,>=2 in /Users/arunesh/github/llm_agents/lab01_release/.venv/lib/python3.11/site-packages (from requests>=2.31.0->llama-index-core<0.13.0,>=0.12.0->llama-index-postprocessor-colbert-rerank) (3.3.2)\n",
      "Requirement already satisfied: idna<4,>=2.5 in /Users/arunesh/github/llm_agents/lab01_release/.venv/lib/python3.11/site-packages (from requests>=2.31.0->llama-index-core<0.13.0,>=0.12.0->llama-index-postprocessor-colbert-rerank) (3.8)\n",
      "Requirement already satisfied: urllib3<3,>=1.21.1 in /Users/arunesh/github/llm_agents/lab01_release/.venv/lib/python3.11/site-packages (from requests>=2.31.0->llama-index-core<0.13.0,>=0.12.0->llama-index-postprocessor-colbert-rerank) (2.2.2)\n",
      "Requirement already satisfied: certifi>=2017.4.17 in /Users/arunesh/github/llm_agents/lab01_release/.venv/lib/python3.11/site-packages (from requests>=2.31.0->llama-index-core<0.13.0,>=0.12.0->llama-index-postprocessor-colbert-rerank) (2024.8.30)\n",
      "Requirement already satisfied: greenlet!=0.4.17 in /Users/arunesh/github/llm_agents/lab01_release/.venv/lib/python3.11/site-packages (from SQLAlchemy[asyncio]>=1.4.49->llama-index-core<0.13.0,>=0.12.0->llama-index-postprocessor-colbert-rerank) (3.1.1)\n",
      "Requirement already satisfied: mypy-extensions>=0.3.0 in /Users/arunesh/github/llm_agents/lab01_release/.venv/lib/python3.11/site-packages (from typing-inspect>=0.8.0->llama-index-core<0.13.0,>=0.12.0->llama-index-postprocessor-colbert-rerank) (1.0.0)\n",
      "Requirement already satisfied: marshmallow<4.0.0,>=3.18.0 in /Users/arunesh/github/llm_agents/lab01_release/.venv/lib/python3.11/site-packages (from dataclasses-json->llama-index-core<0.13.0,>=0.12.0->llama-index-postprocessor-colbert-rerank) (3.23.1)\n",
      "Requirement already satisfied: anyio in /Users/arunesh/github/llm_agents/lab01_release/.venv/lib/python3.11/site-packages (from httpx->llama-index-core<0.13.0,>=0.12.0->llama-index-postprocessor-colbert-rerank) (4.4.0)\n",
      "Requirement already satisfied: httpcore==1.* in /Users/arunesh/github/llm_agents/lab01_release/.venv/lib/python3.11/site-packages (from httpx->llama-index-core<0.13.0,>=0.12.0->llama-index-postprocessor-colbert-rerank) (1.0.5)\n",
      "Requirement already satisfied: sniffio in /Users/arunesh/github/llm_agents/lab01_release/.venv/lib/python3.11/site-packages (from httpx->llama-index-core<0.13.0,>=0.12.0->llama-index-postprocessor-colbert-rerank) (1.3.1)\n",
      "Requirement already satisfied: h11<0.15,>=0.13 in /Users/arunesh/github/llm_agents/lab01_release/.venv/lib/python3.11/site-packages (from httpcore==1.*->httpx->llama-index-core<0.13.0,>=0.12.0->llama-index-postprocessor-colbert-rerank) (0.14.0)\n",
      "Requirement already satisfied: MarkupSafe>=2.0 in /Users/arunesh/github/llm_agents/lab01_release/.venv/lib/python3.11/site-packages (from jinja2->torch<3.0.0,>=2.2.0->llama-index-postprocessor-colbert-rerank) (3.0.2)\n",
      "Installing collected packages: mpmath, sympy, safetensors, filelock, torch, huggingface-hub, tokenizers, llama-index-core, transformers, llama-index-postprocessor-colbert-rerank\n",
      "  Attempting uninstall: llama-index-core\n",
      "    Found existing installation: llama-index-core 0.11.23\n",
      "    Uninstalling llama-index-core-0.11.23:\n",
      "      Successfully uninstalled llama-index-core-0.11.23\n",
      "\u001b[31mERROR: pip's dependency resolver does not currently take into account all the packages that are installed. This behaviour is the source of the following dependency conflicts.\n",
      "llama-index-question-gen-openai 0.2.0 requires llama-index-core<0.12.0,>=0.11.0, but you have llama-index-core 0.12.0 which is incompatible.\n",
      "llama-index-program-openai 0.2.0 requires llama-index-core<0.12.0,>=0.11.0, but you have llama-index-core 0.12.0 which is incompatible.\n",
      "llama-index-postprocessor-sbert-rerank 0.2.0 requires llama-index-core<0.12.0,>=0.11.0, but you have llama-index-core 0.12.0 which is incompatible.\n",
      "llama-index-agent-openai 0.3.4 requires llama-index-core<0.12.0,>=0.11.0, but you have llama-index-core 0.12.0 which is incompatible.\n",
      "llama-index-multi-modal-llms-openai 0.2.3 requires llama-index-core<0.12.0,>=0.11.0, but you have llama-index-core 0.12.0 which is incompatible.\n",
      "llama-index 0.11.23 requires llama-index-core<0.12.0,>=0.11.23, but you have llama-index-core 0.12.0 which is incompatible.\n",
      "llama-index-embeddings-openai 0.2.5 requires llama-index-core<0.12.0,>=0.11.0, but you have llama-index-core 0.12.0 which is incompatible.\n",
      "llama-index-cli 0.3.1 requires llama-index-core<0.12.0,>=0.11.0, but you have llama-index-core 0.12.0 which is incompatible.\n",
      "llama-index-readers-llama-parse 0.3.0 requires llama-index-core<0.12.0,>=0.11.0, but you have llama-index-core 0.12.0 which is incompatible.\n",
      "llama-index-llms-openai 0.2.16 requires llama-index-core<0.12.0,>=0.11.7, but you have llama-index-core 0.12.0 which is incompatible.\n",
      "llama-index-readers-file 0.3.0 requires llama-index-core<0.12.0,>=0.11.0, but you have llama-index-core 0.12.0 which is incompatible.\n",
      "llama-index-indices-managed-llama-cloud 0.6.0 requires llama-index-core<0.12.0,>=0.11.13.post1, but you have llama-index-core 0.12.0 which is incompatible.\u001b[0m\u001b[31m\n",
      "\u001b[0mSuccessfully installed filelock-3.16.1 huggingface-hub-0.26.2 llama-index-core-0.12.0 llama-index-postprocessor-colbert-rerank-0.3.0 mpmath-1.3.0 safetensors-0.4.5 sympy-1.13.1 tokenizers-0.20.3 torch-2.5.1 transformers-4.46.2\n",
      "\n",
      "\u001b[1m[\u001b[0m\u001b[34;49mnotice\u001b[0m\u001b[1;39;49m]\u001b[0m\u001b[39;49m A new release of pip available: \u001b[0m\u001b[31;49m22.3.1\u001b[0m\u001b[39;49m -> \u001b[0m\u001b[32;49m24.3.1\u001b[0m\n",
      "\u001b[1m[\u001b[0m\u001b[34;49mnotice\u001b[0m\u001b[1;39;49m]\u001b[0m\u001b[39;49m To update, run: \u001b[0m\u001b[32;49mpip install --upgrade pip\u001b[0m\n"
     ]
    }
   ],
   "source": [
    "!pip install llama-index-postprocessor-colbert-rerank"
   ]
  },
  {
   "cell_type": "code",
   "execution_count": 24,
   "id": "830e3785-0146-4c96-b2fd-f48c127a2ff4",
   "metadata": {},
   "outputs": [],
   "source": [
    "from llama_index.agent.openai import OpenAIAgent\n",
    "from llama_index.core.tools import QueryEngineTool, ToolMetadata\n",
    "from llama_index.postprocessor.colbert_rerank import ColbertRerank\n",
    "\n",
    "tools = [\n",
    "    QueryEngineTool(\n",
    "        vector_index.as_query_engine(\n",
    "            similarity_top_k=8, node_postprocessors=[ColbertRerank(top_n=3)]\n",
    "        ),\n",
    "        metadata=ToolMetadata(\n",
    "            name=\"search\",\n",
    "            description=\"Search the document, pass the entire user message in the query\",\n",
    "        ),\n",
    "    ),\n",
    "    QueryEngineTool(\n",
    "        summary_index.as_query_engine(),\n",
    "        metadata=ToolMetadata(\n",
    "            name=\"summarize\",\n",
    "            description=\"Summarize the document using the user message\",\n",
    "        ),\n",
    "    ),\n",
    "]\n",
    "\n",
    "agent = OpenAIAgent.from_tools(tools=tools, verbose=True)"
   ]
  },
  {
   "cell_type": "code",
   "execution_count": 25,
   "id": "6236e14a-99d3-4bf3-a409-de6a79e6be32",
   "metadata": {},
   "outputs": [
    {
     "name": "stdout",
     "output_type": "stream",
     "text": [
      "Added user message to memory: What is the summary of the paper?\n"
     ]
    }
   ],
   "source": [
    "# Takes long time.\n",
    "resp = agent.chat(\"What is the summary of the paper?\")"
   ]
  },
  {
   "cell_type": "code",
   "execution_count": 26,
   "id": "46db18a8-bd6b-409e-a344-6f7748f3e09e",
   "metadata": {},
   "outputs": [
    {
     "name": "stdout",
     "output_type": "stream",
     "text": [
      "Sure, please provide the text of the paper so I can generate a summary for you.\n"
     ]
    }
   ],
   "source": [
    "print(str(resp))"
   ]
  },
  {
   "cell_type": "code",
   "execution_count": null,
   "id": "dd2fcd83-59ea-4038-a1eb-6ceb91fa857a",
   "metadata": {},
   "outputs": [],
   "source": [
    "resp = agent.chat(\"How do the authors evaluate their work?\")"
   ]
  },
  {
   "cell_type": "code",
   "execution_count": null,
   "id": "b7b419a5-8ccd-4133-8626-3e978c00bf78",
   "metadata": {},
   "outputs": [],
   "source": [
    "print(str(resp))"
   ]
  }
 ],
 "metadata": {
  "kernelspec": {
   "display_name": "Python 3 (ipykernel)",
   "language": "python",
   "name": "python3"
  },
  "language_info": {
   "codemirror_mode": {
    "name": "ipython",
    "version": 3
   },
   "file_extension": ".py",
   "mimetype": "text/x-python",
   "name": "python",
   "nbconvert_exporter": "python",
   "pygments_lexer": "ipython3",
   "version": "3.11.1"
  }
 },
 "nbformat": 4,
 "nbformat_minor": 5
}
