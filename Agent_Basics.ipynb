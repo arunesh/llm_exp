{
 "cells": [
  {
   "cell_type": "markdown",
   "id": "88dede7f-51d4-42ed-a28a-3946ca3630e5",
   "metadata": {},
   "source": [
    "# Basics of Agents\n",
    "We shall look at the basics of the Chat Completions API and prompting which are the underpinnings of \n",
    "Agentic operations such as tool calls.\n",
    "\n",
    "Please set your OpenAI API key and AgentOps key in a local .env file for load_dotenv():\n",
    "```\n",
    "OPENAI_API_KEY=sk...\n",
    "AGENTOPS_API_KEY=\n",
    "```\n",
    "or set it in the environment explicity using \n",
    "```\n",
    "import os\n",
    "os.environ[\"OPENAI_API_KEY\"] = \"sk...\"\n",
    "os.environ[\"AGENTOPS_API_KEY\"] = \"..\"\n",
    "```"
   ]
  },
  {
   "cell_type": "code",
   "execution_count": 1,
   "id": "15e0e0d7-5c4d-48ca-8427-ef8d5e4e1a3d",
   "metadata": {},
   "outputs": [],
   "source": [
    "import os\n",
    "from dotenv import load_dotenv"
   ]
  },
  {
   "cell_type": "code",
   "execution_count": 2,
   "id": "1d5edcaf-73b8-4d8c-8f43-19905a836933",
   "metadata": {},
   "outputs": [
    {
     "data": {
      "text/plain": [
       "True"
      ]
     },
     "execution_count": 2,
     "metadata": {},
     "output_type": "execute_result"
    }
   ],
   "source": [
    "load_dotenv()"
   ]
  },
  {
   "cell_type": "code",
   "execution_count": 3,
   "id": "045c82ad-3944-4bff-904f-f065b307ce95",
   "metadata": {},
   "outputs": [
    {
     "name": "stdout",
     "output_type": "stream",
     "text": [
      "ChatCompletionMessage(content='fetch_review(Starbucks)', refusal=None, role='assistant', function_call=None, tool_calls=None)\n"
     ]
    }
   ],
   "source": [
    "from openai import OpenAI\n",
    "client = OpenAI()\n",
    "\n",
    "# https://platform.openai.com/docs/api-reference/chat/create\n",
    "\n",
    "TEST_PROMPT = \"\"\"\n",
    "You are an helpful AI Assistant, with the ability to fetch restaurants and answer questions based on provided restaurant\n",
    "reviews. Use the tool calling to fetch reviews for a given restaurant requested by the user.\n",
    "When the reviews are given as a list, copy them to the output for the next AI assistant to work on. Do not summarize.\n",
    "\n",
    "Tool Call: fetch_review(restaurant_name) where restaurant_name is the name of the restaurant. Do not output anything else.\n",
    "\"\"\"\n",
    "\n",
    "\n",
    "completion = client.chat.completions.create(\n",
    "    model=\"gpt-4o\",\n",
    "    messages=[\n",
    "        {\"role\": \"system\", \"content\": TEST_PROMPT},\n",
    "        {\n",
    "            \"role\": \"user\",\n",
    "            \"name\": \"Joe\",\n",
    "            \"content\": \"Fetch reviews for Starbucks.\"\n",
    "        }\n",
    "    ]\n",
    ")\n",
    "\n",
    "print(completion.choices[0].message)"
   ]
  },
  {
   "cell_type": "code",
   "execution_count": 4,
   "id": "59effaf3-e5ba-40d3-9cd7-e47871289c45",
   "metadata": {},
   "outputs": [
    {
     "name": "stdout",
     "output_type": "stream",
     "text": [
      "fetch_review(Starbucks)\n"
     ]
    }
   ],
   "source": [
    "print(completion.choices[0].message.content)"
   ]
  },
  {
   "cell_type": "code",
   "execution_count": 5,
   "id": "20eb336e-eee2-470c-bd57-cfad03fa7db1",
   "metadata": {},
   "outputs": [],
   "source": [
    "import agentops\n",
    "\n",
    "from autogen import ConversableAgent"
   ]
  },
  {
   "cell_type": "code",
   "execution_count": 6,
   "id": "a2e48921-8a0d-4747-a5df-6066ed4c14bc",
   "metadata": {},
   "outputs": [
    {
     "name": "stderr",
     "output_type": "stream",
     "text": [
      "🖇 AgentOps:  WARNING: agentops is out of date. Please update with the command: 'pip install --upgrade agentops'\n",
      "🖇 AgentOps: \u001b[34m\u001b[34mSession Replay: https://app.agentops.ai/drilldown?session_id=808a54dc-3353-4c15-b37d-81e50795779d\u001b[0m\u001b[0m\n"
     ]
    }
   ],
   "source": [
    "agentops.init(os.environ.get(\"AGENTOPS_API_KEY\"), default_tags=[\"simple-autogen-example\"])\n",
    "\n",
    "# Microsoft Autogen: ConversableAgent: https://microsoft.github.io/autogen/0.2/docs/tutorial/introduction/\n",
    "cathy = ConversableAgent(\n",
    "    \"cathy\",\n",
    "    system_message=\"Your name is Cathy and you are a part of a duo of comedians.\",\n",
    "    llm_config={\"config_list\": [{\"model\": \"gpt-4\", \"temperature\": 0.9, \"api_key\": os.environ.get(\"OPENAI_API_KEY\")}]},\n",
    "    human_input_mode=\"NEVER\",  # Never ask for human input.\n",
    ")\n",
    "\n",
    "joe = ConversableAgent(\n",
    "    \"joe\",\n",
    "    system_message=\"Your name is Joe and you are a part of a duo of comedians.\",\n",
    "    llm_config={\"config_list\": [{\"model\": \"gpt-4\", \"temperature\": 0.7, \"api_key\": os.environ.get(\"OPENAI_API_KEY\")}]},\n",
    "    human_input_mode=\"NEVER\",  # Never ask for human input.\n",
    ")"
   ]
  },
  {
   "cell_type": "code",
   "execution_count": 7,
   "id": "cb22742d-9ef6-4123-a88f-00731a611436",
   "metadata": {},
   "outputs": [
    {
     "name": "stdout",
     "output_type": "stream",
     "text": [
      "\u001b[33mjoe\u001b[0m (to cathy):\n",
      "\n",
      "Tell me a joke\n",
      "\n",
      "--------------------------------------------------------------------------------\n",
      "\u001b[33mcathy\u001b[0m (to joe):\n",
      "\n",
      "Sure, here's one: \n",
      "\n",
      "Why don't we ever tell secrets on a farm?\n",
      "\n",
      "Because the potatoes have eyes, the corn has ears, and the beans stalk!\n",
      "\n",
      "--------------------------------------------------------------------------------\n",
      "\u001b[33mjoe\u001b[0m (to cathy):\n",
      "\n",
      "Good one, Cathy! Here's another one for you:\n",
      "\n",
      "Why don’t scientists trust atoms?\n",
      "\n",
      "Because they make up everything!\n",
      "\n",
      "--------------------------------------------------------------------------------\n",
      "\u001b[33mcathy\u001b[0m (to joe):\n",
      "\n",
      "Oh, Joe, that's a good one! A little science humor. Here's another chemistry joke for you:\n",
      "\n",
      "Why can't you trust an atom that's been split?\n",
      "\n",
      "Because it's gone fission!\n",
      "\n",
      "--------------------------------------------------------------------------------\n"
     ]
    },
    {
     "name": "stderr",
     "output_type": "stream",
     "text": [
      "🖇 AgentOps: Session Stats - \u001b[1mDuration:\u001b[0m 5.4s | \u001b[1mCost:\u001b[0m $0.006480 | \u001b[1mLLMs:\u001b[0m 3 | \u001b[1mTools:\u001b[0m 0 | \u001b[1mActions:\u001b[0m 16 | \u001b[1mErrors:\u001b[0m 0\n",
      "🖇 AgentOps: \u001b[34m\u001b[34mSession Replay: https://app.agentops.ai/drilldown?session_id=808a54dc-3353-4c15-b37d-81e50795779d\u001b[0m\u001b[0m\n"
     ]
    }
   ],
   "source": [
    "chat_result = joe.initiate_chat(cathy, message=\"Tell me a joke\", max_turns=2)\n",
    "\n",
    "# Close your AgentOps session to indicate that it completed.\n",
    "agentops.end_session(\"Success\")"
   ]
  },
  {
   "cell_type": "markdown",
   "id": "47d19950-432f-42f7-ae4d-41fffb3a6105",
   "metadata": {},
   "source": [
    "## Lab 1: Basic functions\n",
    "Functions below load restaurant reviews and fetch reviews for a given restaurant."
   ]
  },
  {
   "cell_type": "code",
   "execution_count": 8,
   "id": "8ea9227b-6dbd-4ba4-8fc0-77b9ab25bfc0",
   "metadata": {},
   "outputs": [],
   "source": [
    "from typing import Annotated, Literal\n",
    "from typing import Dict\n",
    "from typing import List\n",
    "restaurant_datafile=\"restaurant-data.txt\"\n",
    "\n",
    "\n",
    "def load_restaurant_reviews() -> Dict[str, List[str]]:\n",
    "    restaurant_map :Dict[str, List[str]] = {}\n",
    "    with open(restaurant_datafile) as file:\n",
    "        for line in file:\n",
    "            # print(line)\n",
    "            splits = line.split(\".\")\n",
    "             # Use setdefault to ensure the key has a list, then append the value\n",
    "            restaurant_map.setdefault(splits[0], []).append('.'.join(splits[1:]))\n",
    "    # Iterate through the dictionary\n",
    "    # for key, value in restaurant_map.items():\n",
    "    #    print(f\"Key: {key}, Value: {value}\")\n",
    "    return restaurant_map\n",
    "    \n",
    "def fetch_restaurant_reviews(restaurant_name: Annotated[str, \"restaurant name\"]) -> Dict[str, List[str]]:\n",
    "    reviews = load_restaurant_reviews()\n",
    "    return {restaurant_name: reviews[restaurant_name]}"
   ]
  },
  {
   "cell_type": "code",
   "execution_count": 9,
   "id": "07eb2c09-b798-4b44-8db0-df783978530e",
   "metadata": {},
   "outputs": [
    {
     "data": {
      "text/plain": [
       "{'Starbucks': [' Starbucks consistently serves good coffee and tasty pastries. The customer service is enjoyable, with baristas who are usually friendly and efficient.\\n',\n",
       "  ' The coffee was good and consistently prepared. The baristas provided amazing customer service, being both friendly and efficient.\\n',\n",
       "  ' Starbucks consistently delivers good coffee and pastries. The customer service was incredible, with friendly baristas who remembered my usual order.\\n',\n",
       "  \" Starbucks consistently serves good coffee and tasty pastries. The customer service is awesome, with friendly baristas who remember regular customers' orders.\\n\",\n",
       "  ' Both the food and service at Starbucks were great. The coffee was satisfying, and the barista was incredibly friendly and efficient.\\n',\n",
       "  ' Starbucks consistently serves good coffee and tasty snacks. The customer service is incredible, with friendly baristas who often remember regular customers.\\n',\n",
       "  ' Starbucks consistently delivers good coffee and pastries. The customer service is generally satisfying, with efficient baristas who handle the morning rush well.\\n',\n",
       "  ' Starbucks offers good coffee and a variety of enjoyable snacks. The customer service is consistently satisfying, with friendly baristas and quick service.\\n',\n",
       "  \" Starbucks consistently delivers good coffee and snacks. The customer service is incredible, with friendly baristas who often remember regular customers' orders.\\n\",\n",
       "  ' Starbucks provided good quality coffee and pastries. The customer service was incredible, with friendly baristas who remembered my usual order.\\n',\n",
       "  ' Starbucks consistently serves enjoyable coffee and pastries. The baristas are friendly and efficient, making for a satisfying experience overall.\\n',\n",
       "  \" Starbucks consistently serves good coffee and pastries. The customer service is awesome, with friendly baristas who remember regular customers' orders.\\n\",\n",
       "  ' Starbucks consistently serves good coffee and snacks. The customer service was incredible, with friendly baristas who remembered my usual order.\\n',\n",
       "  ' Starbucks provided good quality coffee and tasty snacks. The customer service was incredible, with baristas who were friendly and efficient.\\n',\n",
       "  ' Starbucks provided a satisfying coffee experience with good pastries. The customer service was incredible, with friendly baristas who remembered our usual orders.\\n',\n",
       "  ' Starbucks consistently delivers good coffee and pastries. The customer service is incredible, with friendly baristas who go above and beyond.\\n',\n",
       "  ' The coffee was good, consistently brewed to perfection. The customer service was incredible, with friendly baristas who remember regular customers.\\n',\n",
       "  ' The coffee was good and consistently prepared. The baristas provided amazing customer service, friendly and efficient even during rush hours.\\n',\n",
       "  ' Starbucks consistently serves good coffee and pastries. The customer service is incredible, with friendly baristas who remember regular customers.\\n',\n",
       "  \" Starbucks provided good, reliable coffee and pastries. The customer service was incredible, with friendly baristas who remembered regular customers' orders.\\n\",\n",
       "  \" Starbucks consistently serves good coffee and pastries. The customer service is incredible, with friendly baristas who often remember regular customers' orders.\\n\",\n",
       "  \" Starbucks' beverages were satisfying, with consistently good coffee and seasonal specials. The customer service was amazing, with baristas who remembered regular customers and their orders.\\n\",\n",
       "  ' The coffee and pastries at Starbucks were good, consistently meeting expectations. The customer service was incredible, with friendly baristas who remember regular customers.\\n',\n",
       "  ' Starbucks consistently provides good coffee and tasty snacks. The customer service is enjoyable, with baristas who are friendly and efficient.\\n',\n",
       "  ' Starbucks consistently serves enjoyable coffee and pastries. The customer service is incredible, with friendly baristas who remember regular customers.\\n',\n",
       "  \" Starbucks consistently serves good coffee and tasty snacks. The customer service is incredible, with friendly baristas who remember regulars' orders.\\n\",\n",
       "  \" Starbucks consistently serves good coffee and pastries. The customer service is incredible, with friendly baristas who remember regular customers' orders.\\n\",\n",
       "  ' Starbucks offered good coffee and tasty snacks. The customer service was incredible, with friendly baristas and quick service.\\n',\n",
       "  ' Starbucks consistently serves good coffee and pastries. The customer service is incredible, with friendly baristas who remember regular customers.\\n',\n",
       "  ' Starbucks consistently serves good coffee and snacks. The customer service is awesome, with friendly baristas who go above and beyond.\\n',\n",
       "  ' Starbucks provided a satisfying selection of coffee and pastries. The customer service was awesome, with baristas who were friendly and efficient in handling orders.\\n',\n",
       "  \" Starbucks consistently serves good coffee and tasty pastries. The customer service is awesome, with friendly baristas who remember regular customers' orders.\\n\",\n",
       "  ' Starbucks consistently serves good coffee and pastries. The customer service is awesome, with baristas who are friendly and efficient.\\n',\n",
       "  \" Starbucks offers good coffee and a variety of enjoyable pastries. The baristas provide satisfying customer service, often remembering regular customers' orders.\\n\",\n",
       "  ' Starbucks consistently serves good coffee and pastries. The customer service is incredible, with friendly baristas who remember regular customers.\\n',\n",
       "  ' Starbucks consistently serves good coffee and tasty snacks. The customer service is amazing, with baristas who are friendly, efficient, and attentive to details.\\n',\n",
       "  ' Starbucks provided good coffee and snacks with consistent quality. The customer service was incredible, making every visit an amazing experience.\\n',\n",
       "  ' Starbucks provides a consistently good coffee experience with a variety of options. The customer service is equally enjoyable, with baristas who are often friendly and efficient.\\n',\n",
       "  \" Starbucks offered good quality coffee and pastries. The customer service was incredible, with friendly baristas who remembered regular customers' orders.\\n\",\n",
       "  \" Starbucks' food options were average, with pre-packaged sandwiches and pastries. However, the customer service was amazing, with friendly baristas who remembered regular customers' orders.\\n\"]}"
      ]
     },
     "execution_count": 9,
     "metadata": {},
     "output_type": "execute_result"
    }
   ],
   "source": [
    "fetch_restaurant_reviews(\"Starbucks\")"
   ]
  },
  {
   "cell_type": "markdown",
   "id": "8a2a50a5-d35b-485e-a240-fee9fe6825bd",
   "metadata": {},
   "source": [
    "## Lab 1: Part 1 Two agent design to fetch reviews\n",
    "Two Autogen ConversibleAgents to fetch reviews. We need a two agent design since one is a simple user agent used to\n",
    "represent the user's queries. The second one is an LLM agent, using \"gpt-4\" as the LLM. Example shows \"tool use\" by registering\n",
    "the tool description with the LLM agent, so that it can output a tool use call. The user agent receives that call and is able to execute the tool."
   ]
  },
  {
   "cell_type": "code",
   "execution_count": 10,
   "id": "09dd91b7-1fc0-46ae-be92-6a0c6c923c5d",
   "metadata": {},
   "outputs": [
    {
     "name": "stderr",
     "output_type": "stream",
     "text": [
      "🖇 AgentOps: \u001b[34m\u001b[34mSession Replay: https://app.agentops.ai/drilldown?session_id=556fca72-dcf9-4575-8fb0-d9147aaa2b75\u001b[0m\u001b[0m\n"
     ]
    }
   ],
   "source": [
    "ENTRYPOINT_AGENT_PROMPT = \"\"\"\n",
    "You are an helpful AI Assistant, with the ability to fetch restaurants and answer questions based on provided restaurant\n",
    "reviews. Use the tool calling to fetch reviews for a given restaurant requested by the user.\n",
    "When the reviews are given as a list, copy them to the output for the next AI assistant to work on. Do not summarize.\n",
    "\"\"\"\n",
    "\n",
    "agentops.start_session()\n",
    "\n",
    "restaurant_review_agent = ConversableAgent(\"Restaurant Review agent\",\n",
    "    system_message=ENTRYPOINT_AGENT_PROMPT,\n",
    "    llm_config={\"config_list\": [{\"model\": \"gpt-4\", \"temperature\": 0.9, \"api_key\": os.environ.get(\"OPENAI_API_KEY\")}]},\n",
    "    human_input_mode=\"NEVER\",  # Never ask for human input.\n",
    ")\n",
    "\n",
    "\n",
    "# The user proxy agent is used for interacting with the assistant agent\n",
    "# and executes tool calls.\n",
    "user_proxy = ConversableAgent(\n",
    "    name=\"User\",\n",
    "    llm_config=False,\n",
    "    is_termination_msg=lambda msg: msg.get(\"content\") is not None and \"TERMINATE\" in msg[\"content\"],\n",
    "    human_input_mode=\"NEVER\",\n",
    ")\n",
    "\n"
   ]
  },
  {
   "cell_type": "code",
   "execution_count": 11,
   "id": "42928f7b-373d-4488-98c0-dcb90706f925",
   "metadata": {},
   "outputs": [
    {
     "data": {
      "text/plain": [
       "<function __main__.fetch_restaurant_reviews(restaurant_name: typing.Annotated[str, 'restaurant name']) -> Dict[str, List[str]]>"
      ]
     },
     "execution_count": 11,
     "metadata": {},
     "output_type": "execute_result"
    }
   ],
   "source": [
    "# Tool use: https://microsoft.github.io/autogen/0.2/docs/tutorial/tool-use/\n",
    "# Register the tool signature with the assistant agent.\n",
    "restaurant_review_agent.register_for_llm(name=\"fetch_restaurant_reviews\",\n",
    "                                         description=\"Fetch reviews for a given restaurant name.\")(fetch_restaurant_reviews)\n",
    "\n",
    "# Register the tool function with the user proxy agent.\n",
    "user_proxy.register_for_execution(name=\"fetch_restaurant_reviews\")(fetch_restaurant_reviews)"
   ]
  },
  {
   "cell_type": "code",
   "execution_count": 12,
   "id": "478f0892-194b-4325-822d-6628d6610b69",
   "metadata": {},
   "outputs": [
    {
     "name": "stdout",
     "output_type": "stream",
     "text": [
      "\u001b[33mUser\u001b[0m (to Restaurant Review agent):\n",
      "\n",
      "Fetch reviews for Starbucks.\n",
      "\n",
      "--------------------------------------------------------------------------------\n",
      "\u001b[33mRestaurant Review agent\u001b[0m (to User):\n",
      "\n",
      "\u001b[32m***** Suggested tool call (call_SlJa6rpOV4dSosgR62O0NW69): fetch_restaurant_reviews *****\u001b[0m\n",
      "Arguments: \n",
      "{\n",
      "  \"restaurant_name\": \"Starbucks\"\n",
      "}\n",
      "\u001b[32m*****************************************************************************************\u001b[0m\n",
      "\n",
      "--------------------------------------------------------------------------------\n",
      "\u001b[35m\n",
      ">>>>>>>> EXECUTING FUNCTION fetch_restaurant_reviews...\u001b[0m\n",
      "\u001b[33mUser\u001b[0m (to Restaurant Review agent):\n",
      "\n",
      "\u001b[33mUser\u001b[0m (to Restaurant Review agent):\n",
      "\n",
      "\u001b[32m***** Response from calling tool (call_SlJa6rpOV4dSosgR62O0NW69) *****\u001b[0m\n",
      "{\"Starbucks\": [\" Starbucks consistently serves good coffee and tasty pastries. The customer service is enjoyable, with baristas who are usually friendly and efficient.\\n\", \" The coffee was good and consistently prepared. The baristas provided amazing customer service, being both friendly and efficient.\\n\", \" Starbucks consistently delivers good coffee and pastries. The customer service was incredible, with friendly baristas who remembered my usual order.\\n\", \" Starbucks consistently serves good coffee and tasty pastries. The customer service is awesome, with friendly baristas who remember regular customers' orders.\\n\", \" Both the food and service at Starbucks were great. The coffee was satisfying, and the barista was incredibly friendly and efficient.\\n\", \" Starbucks consistently serves good coffee and tasty snacks. The customer service is incredible, with friendly baristas who often remember regular customers.\\n\", \" Starbucks consistently delivers good coffee and pastries. The customer service is generally satisfying, with efficient baristas who handle the morning rush well.\\n\", \" Starbucks offers good coffee and a variety of enjoyable snacks. The customer service is consistently satisfying, with friendly baristas and quick service.\\n\", \" Starbucks consistently delivers good coffee and snacks. The customer service is incredible, with friendly baristas who often remember regular customers' orders.\\n\", \" Starbucks provided good quality coffee and pastries. The customer service was incredible, with friendly baristas who remembered my usual order.\\n\", \" Starbucks consistently serves enjoyable coffee and pastries. The baristas are friendly and efficient, making for a satisfying experience overall.\\n\", \" Starbucks consistently serves good coffee and pastries. The customer service is awesome, with friendly baristas who remember regular customers' orders.\\n\", \" Starbucks consistently serves good coffee and snacks. The customer service was incredible, with friendly baristas who remembered my usual order.\\n\", \" Starbucks provided good quality coffee and tasty snacks. The customer service was incredible, with baristas who were friendly and efficient.\\n\", \" Starbucks provided a satisfying coffee experience with good pastries. The customer service was incredible, with friendly baristas who remembered our usual orders.\\n\", \" Starbucks consistently delivers good coffee and pastries. The customer service is incredible, with friendly baristas who go above and beyond.\\n\", \" The coffee was good, consistently brewed to perfection. The customer service was incredible, with friendly baristas who remember regular customers.\\n\", \" The coffee was good and consistently prepared. The baristas provided amazing customer service, friendly and efficient even during rush hours.\\n\", \" Starbucks consistently serves good coffee and pastries. The customer service is incredible, with friendly baristas who remember regular customers.\\n\", \" Starbucks provided good, reliable coffee and pastries. The customer service was incredible, with friendly baristas who remembered regular customers' orders.\\n\", \" Starbucks consistently serves good coffee and pastries. The customer service is incredible, with friendly baristas who often remember regular customers' orders.\\n\", \" Starbucks' beverages were satisfying, with consistently good coffee and seasonal specials. The customer service was amazing, with baristas who remembered regular customers and their orders.\\n\", \" The coffee and pastries at Starbucks were good, consistently meeting expectations. The customer service was incredible, with friendly baristas who remember regular customers.\\n\", \" Starbucks consistently provides good coffee and tasty snacks. The customer service is enjoyable, with baristas who are friendly and efficient.\\n\", \" Starbucks consistently serves enjoyable coffee and pastries. The customer service is incredible, with friendly baristas who remember regular customers.\\n\", \" Starbucks consistently serves good coffee and tasty snacks. The customer service is incredible, with friendly baristas who remember regulars' orders.\\n\", \" Starbucks consistently serves good coffee and pastries. The customer service is incredible, with friendly baristas who remember regular customers' orders.\\n\", \" Starbucks offered good coffee and tasty snacks. The customer service was incredible, with friendly baristas and quick service.\\n\", \" Starbucks consistently serves good coffee and pastries. The customer service is incredible, with friendly baristas who remember regular customers.\\n\", \" Starbucks consistently serves good coffee and snacks. The customer service is awesome, with friendly baristas who go above and beyond.\\n\", \" Starbucks provided a satisfying selection of coffee and pastries. The customer service was awesome, with baristas who were friendly and efficient in handling orders.\\n\", \" Starbucks consistently serves good coffee and tasty pastries. The customer service is awesome, with friendly baristas who remember regular customers' orders.\\n\", \" Starbucks consistently serves good coffee and pastries. The customer service is awesome, with baristas who are friendly and efficient.\\n\", \" Starbucks offers good coffee and a variety of enjoyable pastries. The baristas provide satisfying customer service, often remembering regular customers' orders.\\n\", \" Starbucks consistently serves good coffee and pastries. The customer service is incredible, with friendly baristas who remember regular customers.\\n\", \" Starbucks consistently serves good coffee and tasty snacks. The customer service is amazing, with baristas who are friendly, efficient, and attentive to details.\\n\", \" Starbucks provided good coffee and snacks with consistent quality. The customer service was incredible, making every visit an amazing experience.\\n\", \" Starbucks provides a consistently good coffee experience with a variety of options. The customer service is equally enjoyable, with baristas who are often friendly and efficient.\\n\", \" Starbucks offered good quality coffee and pastries. The customer service was incredible, with friendly baristas who remembered regular customers' orders.\\n\", \" Starbucks' food options were average, with pre-packaged sandwiches and pastries. However, the customer service was amazing, with friendly baristas who remembered regular customers' orders.\\n\"]}\n",
      "\u001b[32m**********************************************************************\u001b[0m\n",
      "\n",
      "--------------------------------------------------------------------------------\n",
      "\u001b[33mRestaurant Review agent\u001b[0m (to User):\n",
      "\n",
      "Here are some reviews for Starbucks:\n",
      "\n",
      "1. \"Starbucks consistently serves good coffee and tasty pastries. The customer service is enjoyable, with baristas who are usually friendly and efficient.\"\n",
      "\n",
      "2. \"The coffee was good and consistently prepared. The baristas provided amazing customer service, being both friendly and efficient.\"\n",
      "\n",
      "3. \"Starbucks consistently delivers good coffee and pastries. The customer service was incredible, with friendly baristas who remembered my usual order.\"\n",
      "\n",
      "4. \"Starbucks consistently serves good coffee and tasty pastries. The customer service is awesome, with friendly baristas who remember regular customers' orders.\"\n",
      "\n",
      "5. \"Both the food and service at Starbucks were great. The coffee was satisfying, and the barista was incredibly friendly and efficient.\"\n",
      "\n",
      "6. \"Starbucks consistently serves good coffee and tasty snacks. The customer service is incredible, with friendly baristas who often remember regular customers.\"\n",
      "\n",
      "7. \"Starbucks consistently delivers good coffee and pastries. The customer service is generally satisfying, with efficient baristas who handle the morning rush well.\"\n",
      "\n",
      "8. \"Starbucks offers good coffee and a variety of enjoyable snacks. The customer service is consistently satisfying, with friendly baristas and quick service.\"\n",
      "\n",
      "9. \"Starbucks consistently delivers good coffee and snacks. The customer service is incredible, with friendly baristas who often remember regular customers' orders.\"\n",
      "\n",
      "10. \"Starbucks provided good quality coffee and pastries. The customer service was incredible, with friendly baristas who remembered my usual order.\" \n",
      "\n",
      "And many more.\n",
      "\n",
      "--------------------------------------------------------------------------------\n"
     ]
    },
    {
     "name": "stderr",
     "output_type": "stream",
     "text": [
      "🖇 AgentOps: Session Stats - \u001b[1mDuration:\u001b[0m 13.7s | \u001b[1mCost:\u001b[0m $0.060330 | \u001b[1mLLMs:\u001b[0m 3 | \u001b[1mTools:\u001b[0m 1 | \u001b[1mActions:\u001b[0m 15 | \u001b[1mErrors:\u001b[0m 0\n",
      "🖇 AgentOps: \u001b[34m\u001b[34mSession Replay: https://app.agentops.ai/drilldown?session_id=556fca72-dcf9-4575-8fb0-d9147aaa2b75\u001b[0m\u001b[0m\n"
     ]
    }
   ],
   "source": [
    "# Termination: use max_turns = 2\n",
    "chat_result = user_proxy.initiate_chat(restaurant_review_agent, message=\"Fetch reviews for Starbucks.\", max_turns=2)\n",
    "agentops.end_session(\"Success\")"
   ]
  },
  {
   "cell_type": "markdown",
   "id": "9a10ddba-6fb1-451c-9112-d1ca984ae7ff",
   "metadata": {},
   "source": [
    "## Part 2: Compute a score for each review\n",
    "We use the \"Sequence\" chat pattern from Autogen to send the fetched reviews to a scoring agent.\n",
    "Example below shows how to send these to the food scoring agent. The prompt uses the food scoring logic to compute\n",
    "a score."
   ]
  },
  {
   "cell_type": "code",
   "execution_count": 13,
   "id": "462930fb-2c98-4393-b659-15524b901ce3",
   "metadata": {},
   "outputs": [
    {
     "name": "stderr",
     "output_type": "stream",
     "text": [
      "🖇 AgentOps: Could not create agent - no sessions detected. Create a session by calling agentops.start_session()\n"
     ]
    }
   ],
   "source": [
    "# Sequence patterns: https://microsoft.github.io/autogen/0.2/docs/tutorial/conversation-patterns\n",
    "FOODSCORE_AGENT_PROMPT = \"\"\"\n",
    "You are an helpful AI Assistant, with the ability to analyze and rate (from 1 to 5) the food service at a restaurant given the reviews.\n",
    "Use the following table:\n",
    "Score 1/5 has one of these adjectives: awful, horrible, or disgusting.\n",
    "Score 2/5 has one of these adjectives: bad, unpleasant, or offensive.\n",
    "Score 3/5 has one of these adjectives: average, uninspiring, or forgettable.\n",
    "Score 4/5 has one of these adjectives: good, enjoyable, or satisfying.\n",
    "Score 5/5 has one of these adjectives: awesome, incredible, or amazing.\n",
    "Given a review, use the above table to output a rating as an integer. Only output the integer and nothing else.\n",
    "\"\"\"\n",
    "\n",
    "food_score_agent = ConversableAgent(\"Food Score agent\",\n",
    "    system_message=FOODSCORE_AGENT_PROMPT,\n",
    "    llm_config={\"config_list\": [{\"model\": \"gpt-4\", \"temperature\": 0.9, \"api_key\": os.environ.get(\"OPENAI_API_KEY\")}]},\n",
    "    human_input_mode=\"NEVER\",  # Never ask for human input.\n",
    ")"
   ]
  },
  {
   "cell_type": "code",
   "execution_count": 14,
   "id": "12b8259e-1b8d-4f87-a62d-35d178f4a253",
   "metadata": {},
   "outputs": [
    {
     "name": "stdout",
     "output_type": "stream",
     "text": [
      "\u001b[34m\n",
      "********************************************************************************\u001b[0m\n",
      "\u001b[34mStarting a new chat....\u001b[0m\n",
      "\u001b[34m\n",
      "********************************************************************************\u001b[0m\n"
     ]
    },
    {
     "name": "stderr",
     "output_type": "stream",
     "text": [
      "🖇 AgentOps: Could not record event - no sessions detected. Create a session by calling agentops.start_session()\n"
     ]
    },
    {
     "name": "stdout",
     "output_type": "stream",
     "text": [
      "\u001b[33mUser\u001b[0m (to Restaurant Review agent):\n",
      "\n",
      "Whats the overall score for Starbucks ?\n",
      "\n",
      "--------------------------------------------------------------------------------\n"
     ]
    },
    {
     "name": "stderr",
     "output_type": "stream",
     "text": [
      "🖇 AgentOps: Could not record event - no sessions detected. Create a session by calling agentops.start_session()\n",
      "🖇 AgentOps: Could not record event - no sessions detected. Create a session by calling agentops.start_session()\n",
      "🖇 AgentOps: Could not record event - no sessions detected. Create a session by calling agentops.start_session()\n",
      "🖇 AgentOps: Could not record event - no sessions detected. Create a session by calling agentops.start_session()\n",
      "🖇 AgentOps: Could not record event - no sessions detected. Create a session by calling agentops.start_session()\n",
      "🖇 AgentOps: Could not record event - no sessions detected. Create a session by calling agentops.start_session()\n"
     ]
    },
    {
     "name": "stdout",
     "output_type": "stream",
     "text": [
      "\u001b[33mRestaurant Review agent\u001b[0m (to User):\n",
      "\n",
      "\u001b[32m***** Suggested tool call (call_MS1CYsivOetITdyDB5L5Ce48): fetch_restaurant_reviews *****\u001b[0m\n",
      "Arguments: \n",
      "{\n",
      "  \"restaurant_name\": \"Starbucks\"\n",
      "}\n",
      "\u001b[32m*****************************************************************************************\u001b[0m\n",
      "\n",
      "--------------------------------------------------------------------------------\n"
     ]
    },
    {
     "name": "stderr",
     "output_type": "stream",
     "text": [
      "🖇 AgentOps: Could not record event - no sessions detected. Create a session by calling agentops.start_session()\n",
      "🖇 AgentOps: Could not record event - no sessions detected. Create a session by calling agentops.start_session()\n"
     ]
    },
    {
     "name": "stdout",
     "output_type": "stream",
     "text": [
      "\u001b[35m\n",
      ">>>>>>>> EXECUTING FUNCTION fetch_restaurant_reviews...\u001b[0m\n"
     ]
    },
    {
     "name": "stderr",
     "output_type": "stream",
     "text": [
      "🖇 AgentOps: Could not record event - no sessions detected. Create a session by calling agentops.start_session()\n",
      "🖇 AgentOps: Could not record event - no sessions detected. Create a session by calling agentops.start_session()\n",
      "🖇 AgentOps: Could not record event - no sessions detected. Create a session by calling agentops.start_session()\n"
     ]
    },
    {
     "name": "stdout",
     "output_type": "stream",
     "text": [
      "\u001b[33mUser\u001b[0m (to Restaurant Review agent):\n",
      "\n",
      "\u001b[33mUser\u001b[0m (to Restaurant Review agent):\n",
      "\n",
      "\u001b[32m***** Response from calling tool (call_MS1CYsivOetITdyDB5L5Ce48) *****\u001b[0m\n",
      "{\"Starbucks\": [\" Starbucks consistently serves good coffee and tasty pastries. The customer service is enjoyable, with baristas who are usually friendly and efficient.\\n\", \" The coffee was good and consistently prepared. The baristas provided amazing customer service, being both friendly and efficient.\\n\", \" Starbucks consistently delivers good coffee and pastries. The customer service was incredible, with friendly baristas who remembered my usual order.\\n\", \" Starbucks consistently serves good coffee and tasty pastries. The customer service is awesome, with friendly baristas who remember regular customers' orders.\\n\", \" Both the food and service at Starbucks were great. The coffee was satisfying, and the barista was incredibly friendly and efficient.\\n\", \" Starbucks consistently serves good coffee and tasty snacks. The customer service is incredible, with friendly baristas who often remember regular customers.\\n\", \" Starbucks consistently delivers good coffee and pastries. The customer service is generally satisfying, with efficient baristas who handle the morning rush well.\\n\", \" Starbucks offers good coffee and a variety of enjoyable snacks. The customer service is consistently satisfying, with friendly baristas and quick service.\\n\", \" Starbucks consistently delivers good coffee and snacks. The customer service is incredible, with friendly baristas who often remember regular customers' orders.\\n\", \" Starbucks provided good quality coffee and pastries. The customer service was incredible, with friendly baristas who remembered my usual order.\\n\", \" Starbucks consistently serves enjoyable coffee and pastries. The baristas are friendly and efficient, making for a satisfying experience overall.\\n\", \" Starbucks consistently serves good coffee and pastries. The customer service is awesome, with friendly baristas who remember regular customers' orders.\\n\", \" Starbucks consistently serves good coffee and snacks. The customer service was incredible, with friendly baristas who remembered my usual order.\\n\", \" Starbucks provided good quality coffee and tasty snacks. The customer service was incredible, with baristas who were friendly and efficient.\\n\", \" Starbucks provided a satisfying coffee experience with good pastries. The customer service was incredible, with friendly baristas who remembered our usual orders.\\n\", \" Starbucks consistently delivers good coffee and pastries. The customer service is incredible, with friendly baristas who go above and beyond.\\n\", \" The coffee was good, consistently brewed to perfection. The customer service was incredible, with friendly baristas who remember regular customers.\\n\", \" The coffee was good and consistently prepared. The baristas provided amazing customer service, friendly and efficient even during rush hours.\\n\", \" Starbucks consistently serves good coffee and pastries. The customer service is incredible, with friendly baristas who remember regular customers.\\n\", \" Starbucks provided good, reliable coffee and pastries. The customer service was incredible, with friendly baristas who remembered regular customers' orders.\\n\", \" Starbucks consistently serves good coffee and pastries. The customer service is incredible, with friendly baristas who often remember regular customers' orders.\\n\", \" Starbucks' beverages were satisfying, with consistently good coffee and seasonal specials. The customer service was amazing, with baristas who remembered regular customers and their orders.\\n\", \" The coffee and pastries at Starbucks were good, consistently meeting expectations. The customer service was incredible, with friendly baristas who remember regular customers.\\n\", \" Starbucks consistently provides good coffee and tasty snacks. The customer service is enjoyable, with baristas who are friendly and efficient.\\n\", \" Starbucks consistently serves enjoyable coffee and pastries. The customer service is incredible, with friendly baristas who remember regular customers.\\n\", \" Starbucks consistently serves good coffee and tasty snacks. The customer service is incredible, with friendly baristas who remember regulars' orders.\\n\", \" Starbucks consistently serves good coffee and pastries. The customer service is incredible, with friendly baristas who remember regular customers' orders.\\n\", \" Starbucks offered good coffee and tasty snacks. The customer service was incredible, with friendly baristas and quick service.\\n\", \" Starbucks consistently serves good coffee and pastries. The customer service is incredible, with friendly baristas who remember regular customers.\\n\", \" Starbucks consistently serves good coffee and snacks. The customer service is awesome, with friendly baristas who go above and beyond.\\n\", \" Starbucks provided a satisfying selection of coffee and pastries. The customer service was awesome, with baristas who were friendly and efficient in handling orders.\\n\", \" Starbucks consistently serves good coffee and tasty pastries. The customer service is awesome, with friendly baristas who remember regular customers' orders.\\n\", \" Starbucks consistently serves good coffee and pastries. The customer service is awesome, with baristas who are friendly and efficient.\\n\", \" Starbucks offers good coffee and a variety of enjoyable pastries. The baristas provide satisfying customer service, often remembering regular customers' orders.\\n\", \" Starbucks consistently serves good coffee and pastries. The customer service is incredible, with friendly baristas who remember regular customers.\\n\", \" Starbucks consistently serves good coffee and tasty snacks. The customer service is amazing, with baristas who are friendly, efficient, and attentive to details.\\n\", \" Starbucks provided good coffee and snacks with consistent quality. The customer service was incredible, making every visit an amazing experience.\\n\", \" Starbucks provides a consistently good coffee experience with a variety of options. The customer service is equally enjoyable, with baristas who are often friendly and efficient.\\n\", \" Starbucks offered good quality coffee and pastries. The customer service was incredible, with friendly baristas who remembered regular customers' orders.\\n\", \" Starbucks' food options were average, with pre-packaged sandwiches and pastries. However, the customer service was amazing, with friendly baristas who remembered regular customers' orders.\\n\"]}\n",
      "\u001b[32m**********************************************************************\u001b[0m\n",
      "\n",
      "--------------------------------------------------------------------------------\n"
     ]
    },
    {
     "name": "stderr",
     "output_type": "stream",
     "text": [
      "🖇 AgentOps: Could not record event - no sessions detected. Create a session by calling agentops.start_session()\n",
      "🖇 AgentOps: Could not record event - no sessions detected. Create a session by calling agentops.start_session()\n",
      "🖇 AgentOps: Could not record event - no sessions detected. Create a session by calling agentops.start_session()\n",
      "🖇 AgentOps: Could not record event - no sessions detected. Create a session by calling agentops.start_session()\n",
      "🖇 AgentOps: Could not record event - no sessions detected. Create a session by calling agentops.start_session()\n",
      "🖇 AgentOps: Could not record event - no sessions detected. Create a session by calling agentops.start_session()\n"
     ]
    },
    {
     "name": "stdout",
     "output_type": "stream",
     "text": [
      "\u001b[33mRestaurant Review agent\u001b[0m (to User):\n",
      "\n",
      "Here are the reviews for Starbucks:\n",
      "\n",
      "1. \" Starbucks consistently serves good coffee and tasty pastries. The customer service is enjoyable, with baristas who are usually friendly and efficient.\"\n",
      "2. \" The coffee was good and consistently prepared. The baristas provided amazing customer service, being both friendly and efficient.\"\n",
      "3. \" Starbucks consistently delivers good coffee and pastries. The customer service was incredible, with friendly baristas who remembered my usual order.\"\n",
      "4. \" Starbucks consistently serves good coffee and tasty pastries. The customer service is awesome, with friendly baristas who remember regular customers' orders.\"\n",
      "5. \" Both the food and service at Starbucks were great. The coffee was satisfying, and the barista was incredibly friendly and efficient.\"\n",
      "6. \" Starbucks consistently serves good coffee and tasty snacks. The customer service is incredible, with friendly baristas who often remember regular customers.\"\n",
      "7. \" Starbucks consistently delivers good coffee and pastries. The customer service is generally satisfying, with efficient baristas who handle the morning rush well.\"\n",
      "8. \" Starbucks offers good coffee and a variety of enjoyable snacks. The customer service is consistently satisfying, with friendly baristas and quick service.\"\n",
      "9. \" Starbucks consistently delivers good coffee and snacks. The customer service is incredible, with friendly baristas who often remember regular customers' orders.\"\n",
      "10. \" Starbucks provided good quality coffee and pastries. The customer service was incredible, with friendly baristas who remembered my usual order.\"\n",
      "11. \" Starbucks consistently serves enjoyable coffee and pastries. The baristas are friendly and efficient, making for a satisfying experience overall.\"\n",
      "12. \" Starbucks consistently serves good coffee and pastries. The customer service is awesome, with friendly baristas who remember regular customers' orders.\"\n",
      "13. \" Starbucks consistently serves good coffee and snacks. The customer service was incredible, with friendly baristas who remembered my usual order.\"\n",
      "14. \" Starbucks provided good quality coffee and tasty snacks. The customer service was incredible, with baristas who were friendly and efficient.\"\n",
      "15. \" Starbucks provided a satisfying coffee experience with good pastries. The customer service was incredible, with friendly baristas who remembered our usual orders.\"\n",
      "16. \" Starbucks consistently delivers good coffee and pastries. The customer service is incredible, with friendly baristas who go above and beyond.\"\n",
      "17. \" The coffee was good, consistently brewed to perfection. The customer service was incredible, with friendly baristas who remember regular customers.\"\n",
      "18. \" The coffee was good and consistently prepared. The baristas provided amazing customer service, friendly and efficient even during rush hours.\"\n",
      "19. \" Starbucks consistently serves good coffee and pastries. The customer service is incredible, with friendly baristas who remember regular customers.\"\n",
      "20. \" Starbucks provided good, reliable coffee and pastries. The customer service was incredible, with friendly baristas who remembered regular customers' orders.\"\n",
      "21. \" Starbucks consistently serves good coffee and pastries. The customer service is incredible, with friendly baristas who often remember regular customers' orders.\"\n",
      "22. \" Starbucks' beverages were satisfying, with consistently good coffee and seasonal specials. The customer service was amazing, with baristas who remembered regular customers and their orders.\"\n",
      "23. \" The coffee and pastries at Starbucks were good, consistently meeting expectations. The customer service was incredible, with friendly baristas who remember regular customers.\"\n",
      "24. \" Starbucks consistently provides good coffee and tasty snacks. The customer service is enjoyable, with baristas who are friendly and efficient.\"\n",
      "25. \" Starbucks consistently serves enjoyable coffee and pastries. The customer service is incredible, with friendly baristas who remember regular customers.\"\n",
      "26. \" Starbucks consistently serves good coffee and tasty snacks. The customer service is incredible, with friendly baristas who remember regulars' orders.\"\n",
      "27. \" Starbucks consistently serves good coffee and pastries. The customer service is incredible, with friendly baristas who remember regular customers' orders.\"\n",
      "28. \" Starbucks offered good coffee and tasty snacks. The customer service was incredible, with friendly baristas and quick service.\"\n",
      "29. \" Starbucks consistently serves good coffee and pastries. The customer service is incredible, with friendly baristas who remember regular customers.\"\n",
      "30. \" Starbucks consistently serves good coffee and snacks. The customer service is awesome, with friendly baristas who go above and beyond.\"\n",
      "31. \" Starbucks provided a satisfying selection of coffee and pastries. The customer service was awesome, with baristas who were friendly and efficient in handling orders.\"\n",
      "32. \" Starbucks consistently serves good coffee and tasty pastries. The customer service is awesome, with friendly baristas who remember regular customers' orders.\"\n",
      "33. \" Starbucks consistently serves good coffee and pastries. The customer service is awesome, with baristas who are friendly and efficient.\"\n",
      "34. \" Starbucks offers good coffee and a variety of enjoyable pastries. The baristas provide satisfying customer service, often remembering regular customers' orders.\"\n",
      "35. \" Starbucks consistently serves good coffee and pastries. The customer service is incredible, with friendly baristas who remember regular customers.\"\n",
      "36. \" Starbucks consistently serves good coffee and tasty snacks. The customer service is amazing, with baristas who are friendly, efficient, and attentive to details.\"\n",
      "37. \" Starbucks provided good coffee and snacks with consistent quality. The customer service was incredible, making every visit an amazing experience.\"\n",
      "38. \" Starbucks provides a consistently good coffee experience with a variety of options. The customer service is equally enjoyable, with baristas who are often friendly and efficient.\"\n",
      "39. \" Starbucks offered good quality coffee and pastries. The customer service was incredible, with friendly baristas who remembered regular customers' orders.\"\n",
      "40. \" Starbucks' food options were average, with pre-packaged sandwiches and pastries. However, the customer service was amazing, with friendly baristas who remembered regular customers' orders.\"\n",
      "\n",
      "--------------------------------------------------------------------------------\n",
      "\u001b[34m\n",
      "********************************************************************************\u001b[0m\n",
      "\u001b[34mStarting a new chat....\u001b[0m\n",
      "\u001b[34m\n",
      "********************************************************************************\u001b[0m\n"
     ]
    },
    {
     "name": "stderr",
     "output_type": "stream",
     "text": [
      "🖇 AgentOps: Could not record event - no sessions detected. Create a session by calling agentops.start_session()\n"
     ]
    },
    {
     "name": "stdout",
     "output_type": "stream",
     "text": [
      "\u001b[33mUser\u001b[0m (to Food Score agent):\n",
      "\n",
      "Given these reviews, generate a score for the food.\n",
      "Context: \n",
      "Here are the reviews for Starbucks:\n",
      "\n",
      "1. \" Starbucks consistently serves good coffee and tasty pastries. The customer service is enjoyable, with baristas who are usually friendly and efficient.\"\n",
      "2. \" The coffee was good and consistently prepared. The baristas provided amazing customer service, being both friendly and efficient.\"\n",
      "3. \" Starbucks consistently delivers good coffee and pastries. The customer service was incredible, with friendly baristas who remembered my usual order.\"\n",
      "4. \" Starbucks consistently serves good coffee and tasty pastries. The customer service is awesome, with friendly baristas who remember regular customers' orders.\"\n",
      "5. \" Both the food and service at Starbucks were great. The coffee was satisfying, and the barista was incredibly friendly and efficient.\"\n",
      "6. \" Starbucks consistently serves good coffee and tasty snacks. The customer service is incredible, with friendly baristas who often remember regular customers.\"\n",
      "7. \" Starbucks consistently delivers good coffee and pastries. The customer service is generally satisfying, with efficient baristas who handle the morning rush well.\"\n",
      "8. \" Starbucks offers good coffee and a variety of enjoyable snacks. The customer service is consistently satisfying, with friendly baristas and quick service.\"\n",
      "9. \" Starbucks consistently delivers good coffee and snacks. The customer service is incredible, with friendly baristas who often remember regular customers' orders.\"\n",
      "10. \" Starbucks provided good quality coffee and pastries. The customer service was incredible, with friendly baristas who remembered my usual order.\"\n",
      "11. \" Starbucks consistently serves enjoyable coffee and pastries. The baristas are friendly and efficient, making for a satisfying experience overall.\"\n",
      "12. \" Starbucks consistently serves good coffee and pastries. The customer service is awesome, with friendly baristas who remember regular customers' orders.\"\n",
      "13. \" Starbucks consistently serves good coffee and snacks. The customer service was incredible, with friendly baristas who remembered my usual order.\"\n",
      "14. \" Starbucks provided good quality coffee and tasty snacks. The customer service was incredible, with baristas who were friendly and efficient.\"\n",
      "15. \" Starbucks provided a satisfying coffee experience with good pastries. The customer service was incredible, with friendly baristas who remembered our usual orders.\"\n",
      "16. \" Starbucks consistently delivers good coffee and pastries. The customer service is incredible, with friendly baristas who go above and beyond.\"\n",
      "17. \" The coffee was good, consistently brewed to perfection. The customer service was incredible, with friendly baristas who remember regular customers.\"\n",
      "18. \" The coffee was good and consistently prepared. The baristas provided amazing customer service, friendly and efficient even during rush hours.\"\n",
      "19. \" Starbucks consistently serves good coffee and pastries. The customer service is incredible, with friendly baristas who remember regular customers.\"\n",
      "20. \" Starbucks provided good, reliable coffee and pastries. The customer service was incredible, with friendly baristas who remembered regular customers' orders.\"\n",
      "21. \" Starbucks consistently serves good coffee and pastries. The customer service is incredible, with friendly baristas who often remember regular customers' orders.\"\n",
      "22. \" Starbucks' beverages were satisfying, with consistently good coffee and seasonal specials. The customer service was amazing, with baristas who remembered regular customers and their orders.\"\n",
      "23. \" The coffee and pastries at Starbucks were good, consistently meeting expectations. The customer service was incredible, with friendly baristas who remember regular customers.\"\n",
      "24. \" Starbucks consistently provides good coffee and tasty snacks. The customer service is enjoyable, with baristas who are friendly and efficient.\"\n",
      "25. \" Starbucks consistently serves enjoyable coffee and pastries. The customer service is incredible, with friendly baristas who remember regular customers.\"\n",
      "26. \" Starbucks consistently serves good coffee and tasty snacks. The customer service is incredible, with friendly baristas who remember regulars' orders.\"\n",
      "27. \" Starbucks consistently serves good coffee and pastries. The customer service is incredible, with friendly baristas who remember regular customers' orders.\"\n",
      "28. \" Starbucks offered good coffee and tasty snacks. The customer service was incredible, with friendly baristas and quick service.\"\n",
      "29. \" Starbucks consistently serves good coffee and pastries. The customer service is incredible, with friendly baristas who remember regular customers.\"\n",
      "30. \" Starbucks consistently serves good coffee and snacks. The customer service is awesome, with friendly baristas who go above and beyond.\"\n",
      "31. \" Starbucks provided a satisfying selection of coffee and pastries. The customer service was awesome, with baristas who were friendly and efficient in handling orders.\"\n",
      "32. \" Starbucks consistently serves good coffee and tasty pastries. The customer service is awesome, with friendly baristas who remember regular customers' orders.\"\n",
      "33. \" Starbucks consistently serves good coffee and pastries. The customer service is awesome, with baristas who are friendly and efficient.\"\n",
      "34. \" Starbucks offers good coffee and a variety of enjoyable pastries. The baristas provide satisfying customer service, often remembering regular customers' orders.\"\n",
      "35. \" Starbucks consistently serves good coffee and pastries. The customer service is incredible, with friendly baristas who remember regular customers.\"\n",
      "36. \" Starbucks consistently serves good coffee and tasty snacks. The customer service is amazing, with baristas who are friendly, efficient, and attentive to details.\"\n",
      "37. \" Starbucks provided good coffee and snacks with consistent quality. The customer service was incredible, making every visit an amazing experience.\"\n",
      "38. \" Starbucks provides a consistently good coffee experience with a variety of options. The customer service is equally enjoyable, with baristas who are often friendly and efficient.\"\n",
      "39. \" Starbucks offered good quality coffee and pastries. The customer service was incredible, with friendly baristas who remembered regular customers' orders.\"\n",
      "40. \" Starbucks' food options were average, with pre-packaged sandwiches and pastries. However, the customer service was amazing, with friendly baristas who remembered regular customers' orders.\"\n",
      "\n",
      "--------------------------------------------------------------------------------\n"
     ]
    },
    {
     "name": "stderr",
     "output_type": "stream",
     "text": [
      "🖇 AgentOps: Could not record event - no sessions detected. Create a session by calling agentops.start_session()\n",
      "🖇 AgentOps: Could not record event - no sessions detected. Create a session by calling agentops.start_session()\n",
      "🖇 AgentOps: Could not record event - no sessions detected. Create a session by calling agentops.start_session()\n",
      "\u001b[31;1m🖇 AgentOps: Could not record event. Start a session by calling agentops.start_session().\u001b[0m\n",
      "🖇 AgentOps: Could not record event - no sessions detected. Create a session by calling agentops.start_session()\n",
      "🖇 AgentOps: Could not record event - no sessions detected. Create a session by calling agentops.start_session()\n",
      "🖇 AgentOps: Could not record event - no sessions detected. Create a session by calling agentops.start_session()\n"
     ]
    },
    {
     "name": "stdout",
     "output_type": "stream",
     "text": [
      "\u001b[33mFood Score agent\u001b[0m (to User):\n",
      "\n",
      "5\n",
      "\n",
      "--------------------------------------------------------------------------------\n"
     ]
    }
   ],
   "source": [
    "chat_result = user_proxy.initiate_chats(\n",
    "[\n",
    "        {\n",
    "            \"recipient\": restaurant_review_agent,\n",
    "            \"message\": \"Whats the overall score for Starbucks ?\",\n",
    "            \"max_turns\": 2,\n",
    "            \"summary_method\": \"last_msg\",\n",
    "        },\n",
    "        {\n",
    "            \"recipient\": food_score_agent,\n",
    "            \"message\": \"Given these reviews, generate a score for the food.\",\n",
    "            \"max_turns\": 1,\n",
    "            \"summary_method\": \"last_msg\",\n",
    "        },\n",
    "])"
   ]
  },
  {
   "cell_type": "markdown",
   "id": "666ea3e3-0997-4a3e-88d4-1d3854a7af09",
   "metadata": {},
   "source": [
    "## Review Scoring Agent\n",
    "We modify the above prompt to return two scores, one for the food and one for customer service."
   ]
  },
  {
   "cell_type": "code",
   "execution_count": 15,
   "id": "04c1c240-5fc5-450b-8821-7ae25e80e4b6",
   "metadata": {},
   "outputs": [
    {
     "name": "stderr",
     "output_type": "stream",
     "text": [
      "🖇 AgentOps: \u001b[34m\u001b[34mSession Replay: https://app.agentops.ai/drilldown?session_id=1ff8f947-7f85-44b1-85c4-1644bc15d59a\u001b[0m\u001b[0m\n"
     ]
    }
   ],
   "source": [
    "# Sequence patterns: https://microsoft.github.io/autogen/0.2/docs/tutorial/conversation-patterns\n",
    "REVIEWANALYSIS_AGENT_PROMPT = \"\"\"\n",
    "You are an helpful AI Assistant, with the ability to analyze and rate (from 1 to 5) the food service and customer service at a restaurant given the reviews.\n",
    "Use the following table:\n",
    "Score 1/5 has one of these adjectives: awful, horrible, or disgusting.\n",
    "Score 2/5 has one of these adjectives: bad, unpleasant, or offensive.\n",
    "Score 3/5 has one of these adjectives: average, uninspiring, or forgettable.\n",
    "Score 4/5 has one of these adjectives: good, enjoyable, or satisfying.\n",
    "Score 5/5 has one of these adjectives: awesome, incredible, or amazing.\n",
    "Given a list of individual reviews, use the above table to output a rating as an integer along with the review. Output one integer each separately for food service and one for\n",
    "customer service. Provide your output as a list of tuples (x,y, z) where x is the food service rating and y is the customer service rating for the review z.\n",
    "\"\"\"\n",
    "agentops.start_session()\n",
    "\n",
    "review_analysis_agent = ConversableAgent(\"Review Analysis agent\",\n",
    "    system_message=REVIEWANALYSIS_AGENT_PROMPT,\n",
    "    llm_config={\"config_list\": [{\"model\": \"gpt-4\", \"temperature\": 0.9, \"api_key\": os.environ.get(\"OPENAI_API_KEY\")}]},\n",
    "    human_input_mode=\"NEVER\",  # Never ask for human input.\n",
    ")\n"
   ]
  },
  {
   "cell_type": "code",
   "execution_count": 16,
   "id": "eee45a91-8821-489d-aaf0-3f72584e6046",
   "metadata": {},
   "outputs": [
    {
     "name": "stdout",
     "output_type": "stream",
     "text": [
      "\u001b[34m\n",
      "********************************************************************************\u001b[0m\n",
      "\u001b[34mStarting a new chat....\u001b[0m\n",
      "\u001b[34m\n",
      "********************************************************************************\u001b[0m\n",
      "\u001b[33mUser\u001b[0m (to Restaurant Review agent):\n",
      "\n",
      "Whats the overall score for Starbucks ?\n",
      "\n",
      "--------------------------------------------------------------------------------\n",
      "\u001b[33mRestaurant Review agent\u001b[0m (to User):\n",
      "\n",
      "\u001b[32m***** Suggested tool call (call_MS1CYsivOetITdyDB5L5Ce48): fetch_restaurant_reviews *****\u001b[0m\n",
      "Arguments: \n",
      "{\n",
      "  \"restaurant_name\": \"Starbucks\"\n",
      "}\n",
      "\u001b[32m*****************************************************************************************\u001b[0m\n",
      "\n",
      "--------------------------------------------------------------------------------\n",
      "\u001b[35m\n",
      ">>>>>>>> EXECUTING FUNCTION fetch_restaurant_reviews...\u001b[0m\n",
      "\u001b[33mUser\u001b[0m (to Restaurant Review agent):\n",
      "\n",
      "\u001b[33mUser\u001b[0m (to Restaurant Review agent):\n",
      "\n",
      "\u001b[32m***** Response from calling tool (call_MS1CYsivOetITdyDB5L5Ce48) *****\u001b[0m\n",
      "{\"Starbucks\": [\" Starbucks consistently serves good coffee and tasty pastries. The customer service is enjoyable, with baristas who are usually friendly and efficient.\\n\", \" The coffee was good and consistently prepared. The baristas provided amazing customer service, being both friendly and efficient.\\n\", \" Starbucks consistently delivers good coffee and pastries. The customer service was incredible, with friendly baristas who remembered my usual order.\\n\", \" Starbucks consistently serves good coffee and tasty pastries. The customer service is awesome, with friendly baristas who remember regular customers' orders.\\n\", \" Both the food and service at Starbucks were great. The coffee was satisfying, and the barista was incredibly friendly and efficient.\\n\", \" Starbucks consistently serves good coffee and tasty snacks. The customer service is incredible, with friendly baristas who often remember regular customers.\\n\", \" Starbucks consistently delivers good coffee and pastries. The customer service is generally satisfying, with efficient baristas who handle the morning rush well.\\n\", \" Starbucks offers good coffee and a variety of enjoyable snacks. The customer service is consistently satisfying, with friendly baristas and quick service.\\n\", \" Starbucks consistently delivers good coffee and snacks. The customer service is incredible, with friendly baristas who often remember regular customers' orders.\\n\", \" Starbucks provided good quality coffee and pastries. The customer service was incredible, with friendly baristas who remembered my usual order.\\n\", \" Starbucks consistently serves enjoyable coffee and pastries. The baristas are friendly and efficient, making for a satisfying experience overall.\\n\", \" Starbucks consistently serves good coffee and pastries. The customer service is awesome, with friendly baristas who remember regular customers' orders.\\n\", \" Starbucks consistently serves good coffee and snacks. The customer service was incredible, with friendly baristas who remembered my usual order.\\n\", \" Starbucks provided good quality coffee and tasty snacks. The customer service was incredible, with baristas who were friendly and efficient.\\n\", \" Starbucks provided a satisfying coffee experience with good pastries. The customer service was incredible, with friendly baristas who remembered our usual orders.\\n\", \" Starbucks consistently delivers good coffee and pastries. The customer service is incredible, with friendly baristas who go above and beyond.\\n\", \" The coffee was good, consistently brewed to perfection. The customer service was incredible, with friendly baristas who remember regular customers.\\n\", \" The coffee was good and consistently prepared. The baristas provided amazing customer service, friendly and efficient even during rush hours.\\n\", \" Starbucks consistently serves good coffee and pastries. The customer service is incredible, with friendly baristas who remember regular customers.\\n\", \" Starbucks provided good, reliable coffee and pastries. The customer service was incredible, with friendly baristas who remembered regular customers' orders.\\n\", \" Starbucks consistently serves good coffee and pastries. The customer service is incredible, with friendly baristas who often remember regular customers' orders.\\n\", \" Starbucks' beverages were satisfying, with consistently good coffee and seasonal specials. The customer service was amazing, with baristas who remembered regular customers and their orders.\\n\", \" The coffee and pastries at Starbucks were good, consistently meeting expectations. The customer service was incredible, with friendly baristas who remember regular customers.\\n\", \" Starbucks consistently provides good coffee and tasty snacks. The customer service is enjoyable, with baristas who are friendly and efficient.\\n\", \" Starbucks consistently serves enjoyable coffee and pastries. The customer service is incredible, with friendly baristas who remember regular customers.\\n\", \" Starbucks consistently serves good coffee and tasty snacks. The customer service is incredible, with friendly baristas who remember regulars' orders.\\n\", \" Starbucks consistently serves good coffee and pastries. The customer service is incredible, with friendly baristas who remember regular customers' orders.\\n\", \" Starbucks offered good coffee and tasty snacks. The customer service was incredible, with friendly baristas and quick service.\\n\", \" Starbucks consistently serves good coffee and pastries. The customer service is incredible, with friendly baristas who remember regular customers.\\n\", \" Starbucks consistently serves good coffee and snacks. The customer service is awesome, with friendly baristas who go above and beyond.\\n\", \" Starbucks provided a satisfying selection of coffee and pastries. The customer service was awesome, with baristas who were friendly and efficient in handling orders.\\n\", \" Starbucks consistently serves good coffee and tasty pastries. The customer service is awesome, with friendly baristas who remember regular customers' orders.\\n\", \" Starbucks consistently serves good coffee and pastries. The customer service is awesome, with baristas who are friendly and efficient.\\n\", \" Starbucks offers good coffee and a variety of enjoyable pastries. The baristas provide satisfying customer service, often remembering regular customers' orders.\\n\", \" Starbucks consistently serves good coffee and pastries. The customer service is incredible, with friendly baristas who remember regular customers.\\n\", \" Starbucks consistently serves good coffee and tasty snacks. The customer service is amazing, with baristas who are friendly, efficient, and attentive to details.\\n\", \" Starbucks provided good coffee and snacks with consistent quality. The customer service was incredible, making every visit an amazing experience.\\n\", \" Starbucks provides a consistently good coffee experience with a variety of options. The customer service is equally enjoyable, with baristas who are often friendly and efficient.\\n\", \" Starbucks offered good quality coffee and pastries. The customer service was incredible, with friendly baristas who remembered regular customers' orders.\\n\", \" Starbucks' food options were average, with pre-packaged sandwiches and pastries. However, the customer service was amazing, with friendly baristas who remembered regular customers' orders.\\n\"]}\n",
      "\u001b[32m**********************************************************************\u001b[0m\n",
      "\n",
      "--------------------------------------------------------------------------------\n",
      "\u001b[33mRestaurant Review agent\u001b[0m (to User):\n",
      "\n",
      "Here are the reviews for Starbucks:\n",
      "\n",
      "1. \" Starbucks consistently serves good coffee and tasty pastries. The customer service is enjoyable, with baristas who are usually friendly and efficient.\"\n",
      "2. \" The coffee was good and consistently prepared. The baristas provided amazing customer service, being both friendly and efficient.\"\n",
      "3. \" Starbucks consistently delivers good coffee and pastries. The customer service was incredible, with friendly baristas who remembered my usual order.\"\n",
      "4. \" Starbucks consistently serves good coffee and tasty pastries. The customer service is awesome, with friendly baristas who remember regular customers' orders.\"\n",
      "5. \" Both the food and service at Starbucks were great. The coffee was satisfying, and the barista was incredibly friendly and efficient.\"\n",
      "6. \" Starbucks consistently serves good coffee and tasty snacks. The customer service is incredible, with friendly baristas who often remember regular customers.\"\n",
      "7. \" Starbucks consistently delivers good coffee and pastries. The customer service is generally satisfying, with efficient baristas who handle the morning rush well.\"\n",
      "8. \" Starbucks offers good coffee and a variety of enjoyable snacks. The customer service is consistently satisfying, with friendly baristas and quick service.\"\n",
      "9. \" Starbucks consistently delivers good coffee and snacks. The customer service is incredible, with friendly baristas who often remember regular customers' orders.\"\n",
      "10. \" Starbucks provided good quality coffee and pastries. The customer service was incredible, with friendly baristas who remembered my usual order.\"\n",
      "11. \" Starbucks consistently serves enjoyable coffee and pastries. The baristas are friendly and efficient, making for a satisfying experience overall.\"\n",
      "12. \" Starbucks consistently serves good coffee and pastries. The customer service is awesome, with friendly baristas who remember regular customers' orders.\"\n",
      "13. \" Starbucks consistently serves good coffee and snacks. The customer service was incredible, with friendly baristas who remembered my usual order.\"\n",
      "14. \" Starbucks provided good quality coffee and tasty snacks. The customer service was incredible, with baristas who were friendly and efficient.\"\n",
      "15. \" Starbucks provided a satisfying coffee experience with good pastries. The customer service was incredible, with friendly baristas who remembered our usual orders.\"\n",
      "16. \" Starbucks consistently delivers good coffee and pastries. The customer service is incredible, with friendly baristas who go above and beyond.\"\n",
      "17. \" The coffee was good, consistently brewed to perfection. The customer service was incredible, with friendly baristas who remember regular customers.\"\n",
      "18. \" The coffee was good and consistently prepared. The baristas provided amazing customer service, friendly and efficient even during rush hours.\"\n",
      "19. \" Starbucks consistently serves good coffee and pastries. The customer service is incredible, with friendly baristas who remember regular customers.\"\n",
      "20. \" Starbucks provided good, reliable coffee and pastries. The customer service was incredible, with friendly baristas who remembered regular customers' orders.\"\n",
      "21. \" Starbucks consistently serves good coffee and pastries. The customer service is incredible, with friendly baristas who often remember regular customers' orders.\"\n",
      "22. \" Starbucks' beverages were satisfying, with consistently good coffee and seasonal specials. The customer service was amazing, with baristas who remembered regular customers and their orders.\"\n",
      "23. \" The coffee and pastries at Starbucks were good, consistently meeting expectations. The customer service was incredible, with friendly baristas who remember regular customers.\"\n",
      "24. \" Starbucks consistently provides good coffee and tasty snacks. The customer service is enjoyable, with baristas who are friendly and efficient.\"\n",
      "25. \" Starbucks consistently serves enjoyable coffee and pastries. The customer service is incredible, with friendly baristas who remember regular customers.\"\n",
      "26. \" Starbucks consistently serves good coffee and tasty snacks. The customer service is incredible, with friendly baristas who remember regulars' orders.\"\n",
      "27. \" Starbucks consistently serves good coffee and pastries. The customer service is incredible, with friendly baristas who remember regular customers' orders.\"\n",
      "28. \" Starbucks offered good coffee and tasty snacks. The customer service was incredible, with friendly baristas and quick service.\"\n",
      "29. \" Starbucks consistently serves good coffee and pastries. The customer service is incredible, with friendly baristas who remember regular customers.\"\n",
      "30. \" Starbucks consistently serves good coffee and snacks. The customer service is awesome, with friendly baristas who go above and beyond.\"\n",
      "31. \" Starbucks provided a satisfying selection of coffee and pastries. The customer service was awesome, with baristas who were friendly and efficient in handling orders.\"\n",
      "32. \" Starbucks consistently serves good coffee and tasty pastries. The customer service is awesome, with friendly baristas who remember regular customers' orders.\"\n",
      "33. \" Starbucks consistently serves good coffee and pastries. The customer service is awesome, with baristas who are friendly and efficient.\"\n",
      "34. \" Starbucks offers good coffee and a variety of enjoyable pastries. The baristas provide satisfying customer service, often remembering regular customers' orders.\"\n",
      "35. \" Starbucks consistently serves good coffee and pastries. The customer service is incredible, with friendly baristas who remember regular customers.\"\n",
      "36. \" Starbucks consistently serves good coffee and tasty snacks. The customer service is amazing, with baristas who are friendly, efficient, and attentive to details.\"\n",
      "37. \" Starbucks provided good coffee and snacks with consistent quality. The customer service was incredible, making every visit an amazing experience.\"\n",
      "38. \" Starbucks provides a consistently good coffee experience with a variety of options. The customer service is equally enjoyable, with baristas who are often friendly and efficient.\"\n",
      "39. \" Starbucks offered good quality coffee and pastries. The customer service was incredible, with friendly baristas who remembered regular customers' orders.\"\n",
      "40. \" Starbucks' food options were average, with pre-packaged sandwiches and pastries. However, the customer service was amazing, with friendly baristas who remembered regular customers' orders.\"\n",
      "\n",
      "--------------------------------------------------------------------------------\n",
      "\u001b[34m\n",
      "********************************************************************************\u001b[0m\n",
      "\u001b[34mStarting a new chat....\u001b[0m\n",
      "\u001b[34m\n",
      "********************************************************************************\u001b[0m\n",
      "\u001b[33mUser\u001b[0m (to Review Analysis agent):\n",
      "\n",
      "Given these reviews, generate separate scores for the food and customer service.\n",
      "Context: \n",
      "Here are the reviews for Starbucks:\n",
      "\n",
      "1. \" Starbucks consistently serves good coffee and tasty pastries. The customer service is enjoyable, with baristas who are usually friendly and efficient.\"\n",
      "2. \" The coffee was good and consistently prepared. The baristas provided amazing customer service, being both friendly and efficient.\"\n",
      "3. \" Starbucks consistently delivers good coffee and pastries. The customer service was incredible, with friendly baristas who remembered my usual order.\"\n",
      "4. \" Starbucks consistently serves good coffee and tasty pastries. The customer service is awesome, with friendly baristas who remember regular customers' orders.\"\n",
      "5. \" Both the food and service at Starbucks were great. The coffee was satisfying, and the barista was incredibly friendly and efficient.\"\n",
      "6. \" Starbucks consistently serves good coffee and tasty snacks. The customer service is incredible, with friendly baristas who often remember regular customers.\"\n",
      "7. \" Starbucks consistently delivers good coffee and pastries. The customer service is generally satisfying, with efficient baristas who handle the morning rush well.\"\n",
      "8. \" Starbucks offers good coffee and a variety of enjoyable snacks. The customer service is consistently satisfying, with friendly baristas and quick service.\"\n",
      "9. \" Starbucks consistently delivers good coffee and snacks. The customer service is incredible, with friendly baristas who often remember regular customers' orders.\"\n",
      "10. \" Starbucks provided good quality coffee and pastries. The customer service was incredible, with friendly baristas who remembered my usual order.\"\n",
      "11. \" Starbucks consistently serves enjoyable coffee and pastries. The baristas are friendly and efficient, making for a satisfying experience overall.\"\n",
      "12. \" Starbucks consistently serves good coffee and pastries. The customer service is awesome, with friendly baristas who remember regular customers' orders.\"\n",
      "13. \" Starbucks consistently serves good coffee and snacks. The customer service was incredible, with friendly baristas who remembered my usual order.\"\n",
      "14. \" Starbucks provided good quality coffee and tasty snacks. The customer service was incredible, with baristas who were friendly and efficient.\"\n",
      "15. \" Starbucks provided a satisfying coffee experience with good pastries. The customer service was incredible, with friendly baristas who remembered our usual orders.\"\n",
      "16. \" Starbucks consistently delivers good coffee and pastries. The customer service is incredible, with friendly baristas who go above and beyond.\"\n",
      "17. \" The coffee was good, consistently brewed to perfection. The customer service was incredible, with friendly baristas who remember regular customers.\"\n",
      "18. \" The coffee was good and consistently prepared. The baristas provided amazing customer service, friendly and efficient even during rush hours.\"\n",
      "19. \" Starbucks consistently serves good coffee and pastries. The customer service is incredible, with friendly baristas who remember regular customers.\"\n",
      "20. \" Starbucks provided good, reliable coffee and pastries. The customer service was incredible, with friendly baristas who remembered regular customers' orders.\"\n",
      "21. \" Starbucks consistently serves good coffee and pastries. The customer service is incredible, with friendly baristas who often remember regular customers' orders.\"\n",
      "22. \" Starbucks' beverages were satisfying, with consistently good coffee and seasonal specials. The customer service was amazing, with baristas who remembered regular customers and their orders.\"\n",
      "23. \" The coffee and pastries at Starbucks were good, consistently meeting expectations. The customer service was incredible, with friendly baristas who remember regular customers.\"\n",
      "24. \" Starbucks consistently provides good coffee and tasty snacks. The customer service is enjoyable, with baristas who are friendly and efficient.\"\n",
      "25. \" Starbucks consistently serves enjoyable coffee and pastries. The customer service is incredible, with friendly baristas who remember regular customers.\"\n",
      "26. \" Starbucks consistently serves good coffee and tasty snacks. The customer service is incredible, with friendly baristas who remember regulars' orders.\"\n",
      "27. \" Starbucks consistently serves good coffee and pastries. The customer service is incredible, with friendly baristas who remember regular customers' orders.\"\n",
      "28. \" Starbucks offered good coffee and tasty snacks. The customer service was incredible, with friendly baristas and quick service.\"\n",
      "29. \" Starbucks consistently serves good coffee and pastries. The customer service is incredible, with friendly baristas who remember regular customers.\"\n",
      "30. \" Starbucks consistently serves good coffee and snacks. The customer service is awesome, with friendly baristas who go above and beyond.\"\n",
      "31. \" Starbucks provided a satisfying selection of coffee and pastries. The customer service was awesome, with baristas who were friendly and efficient in handling orders.\"\n",
      "32. \" Starbucks consistently serves good coffee and tasty pastries. The customer service is awesome, with friendly baristas who remember regular customers' orders.\"\n",
      "33. \" Starbucks consistently serves good coffee and pastries. The customer service is awesome, with baristas who are friendly and efficient.\"\n",
      "34. \" Starbucks offers good coffee and a variety of enjoyable pastries. The baristas provide satisfying customer service, often remembering regular customers' orders.\"\n",
      "35. \" Starbucks consistently serves good coffee and pastries. The customer service is incredible, with friendly baristas who remember regular customers.\"\n",
      "36. \" Starbucks consistently serves good coffee and tasty snacks. The customer service is amazing, with baristas who are friendly, efficient, and attentive to details.\"\n",
      "37. \" Starbucks provided good coffee and snacks with consistent quality. The customer service was incredible, making every visit an amazing experience.\"\n",
      "38. \" Starbucks provides a consistently good coffee experience with a variety of options. The customer service is equally enjoyable, with baristas who are often friendly and efficient.\"\n",
      "39. \" Starbucks offered good quality coffee and pastries. The customer service was incredible, with friendly baristas who remembered regular customers' orders.\"\n",
      "40. \" Starbucks' food options were average, with pre-packaged sandwiches and pastries. However, the customer service was amazing, with friendly baristas who remembered regular customers' orders.\"\n",
      "\n",
      "--------------------------------------------------------------------------------\n",
      "\u001b[33mReview Analysis agent\u001b[0m (to User):\n",
      "\n",
      "Here are the scores:\n",
      "\n",
      "[(4, 4, '\" Starbucks consistently serves good coffee and tasty pastries. The customer service is enjoyable, with baristas who are usually friendly and efficient.\"'),\n",
      "(4, 5, '\" The coffee was good and consistently prepared. The baristas provided amazing customer service, being both friendly and efficient.\"'),\n",
      "(4, 5, '\" Starbucks consistently delivers good coffee and pastries. The customer service was incredible, with friendly baristas who remembered my usual order.\"'),\n",
      "(4, 5, '\" Starbucks consistently serves good coffee and tasty pastries. The customer service is awesome, with friendly baristas who remember regular customers\\' orders.\"'),\n",
      "(4, 5, '\" Both the food and service at Starbucks were great. The coffee was satisfying, and the barista was incredibly friendly and efficient.\"'),\n",
      "(4, 5, '\" Starbucks consistently serves good coffee and tasty snacks. The customer service is incredible, with friendly baristas who often remember regular customers.\"'),\n",
      "(4, 4, '\" Starbucks consistently delivers good coffee and pastries. The customer service is generally satisfying, with efficient baristas who handle the morning rush well.\"'),\n",
      "(4, 4, '\" Starbucks offers good coffee and a variety of enjoyable snacks. The customer service is consistently satisfying, with friendly baristas and quick service.\"'),\n",
      "(4, 5, '\" Starbucks consistently delivers good coffee and snacks. The customer service is incredible, with friendly baristas who often remember regular customers\\' orders.\"'),\n",
      "(4, 5, '\" Starbucks provided good quality coffee and pastries. The customer service was incredible, with friendly baristas who remembered my usual order.\"'),\n",
      "(4, 4, '\" Starbucks consistently serves enjoyable coffee and pastries. The baristas are friendly and efficient, making for a satisfying experience overall.\"'),\n",
      "(4, 5, '\" Starbucks consistently serves good coffee and pastries. The customer service is awesome, with friendly baristas who remember regular customers\\' orders.\"'),\n",
      "(4, 5, '\" Starbucks consistently serves good coffee and snacks. The customer service was incredible, with friendly baristas who remembered my usual order.\"'),\n",
      "(4, 5, '\" Starbucks provided good quality coffee and tasty snacks. The customer service was incredible, with baristas who were friendly and efficient.\"'),\n",
      "(4, 5, '\" Starbucks provided a satisfying coffee experience with good pastries. The customer service was incredible, with friendly baristas who remembered our usual orders.\"'),\n",
      "(4, 5, '\" Starbucks consistently delivers good coffee and pastries. The customer service is incredible, with friendly baristas who go above and beyond.\"'),\n",
      "(4, 5, '\" The coffee was good, consistently brewed to perfection. The customer service was incredible, with friendly baristas who remember regular customers.\"'),\n",
      "(4, 5, '\" The coffee was good and consistently prepared. The baristas provided amazing customer service, friendly and efficient even during rush hours.\"'),\n",
      "(4, 5, '\" Starbucks consistently serves good coffee and pastries. The customer service is incredible, with friendly baristas who remember regular customers.\"'),\n",
      "(4, 5, '\" Starbucks provided good, reliable coffee and pastries. The customer service was incredible, with friendly baristas who remembered regular customers\\' orders.\"'),\n",
      "(4, 5, '\" Starbucks consistently serves good coffee and pastries. The customer service is incredible, with friendly baristas who often remember regular customers\\' orders.\"'),\n",
      "(4, 5, '\" Starbucks\\' beverages were satisfying, with consistently good coffee and seasonal specials. The customer service was amazing, with baristas who remembered regular customers and their orders.\"'),\n",
      "(4, 5, '\" The coffee and pastries at Starbucks were good, consistently meeting expectations. The customer service was incredible, with friendly baristas who remember regular customers.\"'),\n",
      "(4, 4, '\" Starbucks consistently provides good coffee and tasty snacks. The customer service is enjoyable, with baristas who are friendly and efficient.\"'),\n",
      "(4, 5, '\" Starbucks consistently serves enjoyable coffee and pastries. The customer service is incredible, with friendly baristas who remember regular customers.\"'),\n",
      "(4, 5, '\" Starbucks consistently serves good coffee and tasty snacks. The customer service is incredible, with friendly baristas who remember regulars\\' orders.\"'),\n",
      "(4, 5, '\" Starbucks consistently serves good coffee and pastries. The customer service is incredible, with friendly baristas who remember regular customers\\' orders.\"'),\n",
      "(4, 5, '\" Starbucks offered good coffee and tasty snacks. The customer service was incredible, with friendly baristas and quick service.\"'),\n",
      "(4, 5, '\" Starbucks consistently serves good coffee and pastries. The customer service is incredible, with friendly baristas who remember regular customers.\"'),\n",
      "(4, 5, '\" Starbucks consistently serves good coffee and snacks. The customer service is awesome, with friendly baristas who go above and beyond.\"'),\n",
      "(4, 5, '\" Starbucks provided a satisfying selection of coffee and pastries. The customer service was awesome, with baristas who were friendly and efficient in handling orders.\"'),\n",
      "(4, 5, '\" Starbucks consistently serves good coffee and tasty pastries. The customer service is awesome, with friendly baristas who remember regular customers\\' orders.\"'),\n",
      "(4, 5, '\" Starbucks consistently serves good coffee and pastries. The customer service is awesome, with baristas who are friendly and efficient.\"'),\n",
      "(4, 4, '\" Starbucks offers good coffee and a variety of enjoyable pastries. The baristas provide satisfying customer service, often remembering regular customers\\' orders.\"'),\n",
      "(4, 5, '\" Starbucks consistently serves good coffee and pastries. The customer service is incredible, with friendly baristas who remember regular customers.\"'),\n",
      "(4, 5, '\" Starbucks consistently serves good coffee and tasty snacks. The customer service is amazing, with baristas who are friendly, efficient, and attentive to details.\"'),\n",
      "(4, 5, '\" Starbucks provided good coffee and snacks with consistent quality. The customer service was incredible, making every visit an amazing experience.\"'),\n",
      "(4, 4, '\" Starbucks provides a consistently good coffee experience with a variety of options. The customer service is equally enjoyable, with baristas who are often friendly and efficient.\"'),\n",
      "(4, 5, '\" Starbucks offered good quality coffee and pastries. The customer service was incredible, with friendly baristas who remembered regular customers\\' orders.\"'),\n",
      "(3, 5, '\" Starbucks\\' food options were average, with pre-packaged sandwiches and pastries. However, the customer service was amazing, with friendly baristas who remembered regular customers\\' orders.\"')]\n",
      "\n",
      "--------------------------------------------------------------------------------\n"
     ]
    },
    {
     "name": "stderr",
     "output_type": "stream",
     "text": [
      "🖇 AgentOps: Session Stats - \u001b[1mDuration:\u001b[0m 1.0s | \u001b[1mCost:\u001b[0m $0.044640 | \u001b[1mLLMs:\u001b[0m 3 | \u001b[1mTools:\u001b[0m 1 | \u001b[1mActions:\u001b[0m 21 | \u001b[1mErrors:\u001b[0m 0\n",
      "🖇 AgentOps: \u001b[34m\u001b[34mSession Replay: https://app.agentops.ai/drilldown?session_id=1ff8f947-7f85-44b1-85c4-1644bc15d59a\u001b[0m\u001b[0m\n"
     ]
    }
   ],
   "source": [
    "chat_result = user_proxy.initiate_chats(\n",
    "[\n",
    "        {\n",
    "            \"recipient\": restaurant_review_agent,\n",
    "            \"message\": \"Whats the overall score for Starbucks ?\",\n",
    "            \"max_turns\": 2,\n",
    "            \"summary_method\": \"last_msg\",\n",
    "        },\n",
    "        {\n",
    "            \"recipient\": review_analysis_agent,\n",
    "            \"message\": \"Given these reviews, generate separate scores for the food and customer service.\",\n",
    "            \"max_turns\": 1,\n",
    "            \"summary_method\": \"last_msg\",\n",
    "        },\n",
    "])\n",
    "agentops.end_session(\"Success\")"
   ]
  },
  {
   "cell_type": "markdown",
   "id": "e3fae131-44f0-4cb1-889e-84dcf861a895",
   "metadata": {},
   "source": [
    "## Compute the final score\n",
    "\n",
    "Routine to compute the final score and to process the summary message."
   ]
  },
  {
   "cell_type": "code",
   "execution_count": 17,
   "id": "825c1a3d-5ca6-45a8-af17-eea0d0f41a5a",
   "metadata": {},
   "outputs": [
    {
     "name": "stdout",
     "output_type": "stream",
     "text": [
      "Local score: 1, 1, 0.08944271909999159\n",
      "Local score: 2, 2, 0.25298221281347033\n",
      "Local score: 3, 3, 0.46475800154489\n",
      "Local score: 4, 4, 0.7155417527999327\n",
      "Local score: 5, 5, 1.0\n",
      "sum = 2.5227246862582846, N = 5\n",
      "Review for restaurant Applebee's = 5.045449372516569\n",
      "{\"Applebee's\": 5.045}\n"
     ]
    }
   ],
   "source": [
    "import math\n",
    "def calculate_overall_score(restaurant_name: str, food_scores: List[int], customer_service_scores: List[int]) -> Dict[str, float]:\n",
    "    # SUM(sqrt(food_scores[i]**2 * customer_service_scores[i])) * 1/(N * sqrt(125)) * 10\n",
    "    # The above formula is a geometric mean of the scores, which penalizes food quality more than customer service. \n",
    "    # Example:\n",
    "    # > calculate_overall_score(\"Applebee's\", [1, 2, 3, 4, 5], [1, 2, 3, 4, 5])\n",
    "    # {\"Applebee's\": 5.048}\n",
    "    #\n",
    "    # (1/N) * SUM(i=1..N) ( sqrt(f/5*c/5) )\n",
    "    # Penalize f by squaring it.\n",
    "    # (1/N) * SUM(i=1..N) ( sqrt(f/5*f/5*c/5) )\n",
    "    N = len(food_scores)\n",
    "    if (N != len(customer_service_scores)):\n",
    "        raise ValueError(\"Both food_scores and customer_service_scores must have equal length.\")\n",
    "    sum:float = 0.0\n",
    "    for (f, c) in zip(food_scores, customer_service_scores):\n",
    "        t = math.sqrt(f*f*c/125.0)\n",
    "        sum = sum + t\n",
    "        print(f\"Local score: {f}, {c}, {t}\")\n",
    "    print(f\"sum = {sum}, N = {N}\")\n",
    "    sum = sum / float(N)\n",
    "    sum = 10.0 * sum\n",
    "    print(f\"Review for restaurant {restaurant_name} = {sum}\")\n",
    "    return \"{\\\"\"+ restaurant_name + \"\\\": \"+ f\"{sum:.3f}\" + \"}\"\n",
    "\n",
    "s = calculate_overall_score(\"Applebee's\", [1, 2, 3, 4, 5], [1, 2, 3, 4, 5])\n",
    "print(s)"
   ]
  },
  {
   "cell_type": "code",
   "execution_count": 18,
   "id": "fc22f554-9d63-471d-ab66-f6fcff97a622",
   "metadata": {},
   "outputs": [],
   "source": [
    "def get_substring_between(text, start_char, end_char):\n",
    "    start_index = text.find(start_char)\n",
    "    end_index = text.find(end_char, start_index + 1)\n",
    "\n",
    "    # Check if both characters are found\n",
    "    if start_index != -1 and end_index != -1:\n",
    "        return text[start_index + 1: end_index ]\n",
    "    else:\n",
    "        return None  # or raise an error if you want to handle missing characters\n",
    "\n",
    "def score_summary_method(sender: ConversableAgent, recipient: ConversableAgent, summary_args: dict):\n",
    "    print(\"*************** Summary Method called:\")\n",
    "    print(recipient.last_message(sender)[\"content\"])\n",
    "    msg = recipient.last_message(sender)[\"content\"]\n",
    "    get_substring_between(msg, \"[\", \"]\")\n",
    "    return \"*************** Summary Method called:\" + recipient.last_message(sender)[\"content\"]"
   ]
  },
  {
   "cell_type": "code",
   "execution_count": 19,
   "id": "3a824324-fd6e-4d5c-b1a4-f1630ed937d1",
   "metadata": {},
   "outputs": [
    {
     "name": "stderr",
     "output_type": "stream",
     "text": [
      "🖇 AgentOps: \u001b[34m\u001b[34mSession Replay: https://app.agentops.ai/drilldown?session_id=f7c31999-d754-4357-965f-1fddba2c92d2\u001b[0m\u001b[0m\n"
     ]
    }
   ],
   "source": [
    "# Sequence patterns: https://microsoft.github.io/autogen/0.2/docs/tutorial/conversation-patterns\n",
    "FINAL_REVIEW_AGENT_PROMPT = \"\"\"\n",
    "You are an helpful AI Assistant) for restaurant reviews. Given a list of reviews with ratings, pass them to the tool provided to \n",
    "compute a summary rating. Output the summary rating as is. Do not add anything else.\n",
    "\"\"\"\n",
    "agentops.start_session()\n",
    "\n",
    "final_review_agent = ConversableAgent(\"Final Review agent\",\n",
    "    system_message=FINAL_REVIEW_AGENT_PROMPT,\n",
    "    llm_config={\"config_list\": [{\"model\": \"gpt-4\", \"temperature\": 0.9, \"api_key\": os.environ.get(\"OPENAI_API_KEY\")}]},\n",
    "    human_input_mode=\"NEVER\",  # Never ask for human input.\n",
    ")"
   ]
  },
  {
   "cell_type": "code",
   "execution_count": 20,
   "id": "979483d6-ed94-48a7-adcc-aeb9fdbcf9dd",
   "metadata": {},
   "outputs": [
    {
     "name": "stderr",
     "output_type": "stream",
     "text": [
      "🖇 AgentOps: \u001b[34m\u001b[34mSession Replay: https://app.agentops.ai/drilldown?session_id=f5b9b2da-6aa3-4f2e-85e4-53be40421dfd\u001b[0m\u001b[0m\n"
     ]
    },
    {
     "name": "stdout",
     "output_type": "stream",
     "text": [
      "\u001b[34m\n",
      "********************************************************************************\u001b[0m\n",
      "\u001b[34mStarting a new chat....\u001b[0m\n",
      "\u001b[34m\n",
      "********************************************************************************\u001b[0m\n"
     ]
    },
    {
     "name": "stderr",
     "output_type": "stream",
     "text": [
      "🖇 AgentOps: Could not record event - multiple sessions detected. You must use session.record() instead of agentops.record() More info: https://docs.agentops.ai/v1/concepts/core-concepts#session-management\n"
     ]
    },
    {
     "name": "stdout",
     "output_type": "stream",
     "text": [
      "\u001b[33mUser\u001b[0m (to Restaurant Review agent):\n",
      "\n",
      "Whats the overall score for Taco Bell ?\n",
      "\n",
      "--------------------------------------------------------------------------------\n"
     ]
    },
    {
     "name": "stderr",
     "output_type": "stream",
     "text": [
      "🖇 AgentOps: Could not record event - multiple sessions detected. You must use session.record() instead of agentops.record() More info: https://docs.agentops.ai/v1/concepts/core-concepts#session-management\n",
      "🖇 AgentOps: Could not record event - multiple sessions detected. You must use session.record() instead of agentops.record() More info: https://docs.agentops.ai/v1/concepts/core-concepts#session-management\n",
      "🖇 AgentOps: Could not record event - multiple sessions detected. You must use session.record() instead of agentops.record() More info: https://docs.agentops.ai/v1/concepts/core-concepts#session-management\n",
      "🖇 AgentOps: Could not record event - multiple sessions detected. You must use session.record() instead of agentops.record() More info: https://docs.agentops.ai/v1/concepts/core-concepts#session-management\n",
      "🖇 AgentOps: Could not record event - multiple sessions detected. You must use session.record() instead of agentops.record() More info: https://docs.agentops.ai/v1/concepts/core-concepts#session-management\n",
      "🖇 AgentOps: Could not record event - multiple sessions detected. You must use session.record() instead of agentops.record() More info: https://docs.agentops.ai/v1/concepts/core-concepts#session-management\n"
     ]
    },
    {
     "name": "stdout",
     "output_type": "stream",
     "text": [
      "\u001b[33mRestaurant Review agent\u001b[0m (to User):\n",
      "\n",
      "\u001b[32m***** Suggested tool call (call_0M8snuu76juAvMdlGNFKBluU): fetch_restaurant_reviews *****\u001b[0m\n",
      "Arguments: \n",
      "{\n",
      "  \"restaurant_name\": \"Taco Bell\"\n",
      "}\n",
      "\u001b[32m*****************************************************************************************\u001b[0m\n",
      "\n",
      "--------------------------------------------------------------------------------\n"
     ]
    },
    {
     "name": "stderr",
     "output_type": "stream",
     "text": [
      "🖇 AgentOps: Could not record event - multiple sessions detected. You must use session.record() instead of agentops.record() More info: https://docs.agentops.ai/v1/concepts/core-concepts#session-management\n",
      "🖇 AgentOps: Could not record event - multiple sessions detected. You must use session.record() instead of agentops.record() More info: https://docs.agentops.ai/v1/concepts/core-concepts#session-management\n"
     ]
    },
    {
     "name": "stdout",
     "output_type": "stream",
     "text": [
      "\u001b[35m\n",
      ">>>>>>>> EXECUTING FUNCTION fetch_restaurant_reviews...\u001b[0m\n"
     ]
    },
    {
     "name": "stderr",
     "output_type": "stream",
     "text": [
      "🖇 AgentOps: Could not record event - multiple sessions detected. You must use session.record() instead of agentops.record() More info: https://docs.agentops.ai/v1/concepts/core-concepts#session-management\n",
      "🖇 AgentOps: Could not record event - multiple sessions detected. You must use session.record() instead of agentops.record() More info: https://docs.agentops.ai/v1/concepts/core-concepts#session-management\n",
      "🖇 AgentOps: Could not record event - multiple sessions detected. You must use session.record() instead of agentops.record() More info: https://docs.agentops.ai/v1/concepts/core-concepts#session-management\n"
     ]
    },
    {
     "name": "stdout",
     "output_type": "stream",
     "text": [
      "\u001b[33mUser\u001b[0m (to Restaurant Review agent):\n",
      "\n",
      "\u001b[33mUser\u001b[0m (to Restaurant Review agent):\n",
      "\n",
      "\u001b[32m***** Response from calling tool (call_0M8snuu76juAvMdlGNFKBluU) *****\u001b[0m\n",
      "{\"Taco Bell\": [\" The food at Taco Bell was bad, with flavors that seemed artificial. The customer service was average, neither particularly helpful nor rude.\\n\", \" The food was bad, with flavors that were off and textures that were strange. The service was average, neither particularly good nor terrible.\\n\", \" The food was bad and left me feeling queasy. The customer service was forgettable, neither good nor terrible.\\n\", \" The food at Taco Bell was bad, with flavors that seemed artificial and unappealing. The service was average, neither particularly good nor terrible.\\n\", \" The food was bad, but the service was average. The tacos were unpleasant and lacked flavor, though the staff was polite enough.\\n\", \" The food at Taco Bell was bad, with flavors that seemed artificial. The service was average, neither impressive nor terrible.\\n\", \" The food at Taco Bell was bad, with flavors that felt artificial and unappetizing. The customer service was average, neither adding to nor detracting from the experience.\\n\", \" The food at Taco Bell was bad, with bland flavors and questionable quality. The customer service was average, neither particularly helpful nor offensive.\\n\", \" The food at Taco Bell was bad, with flavors that seemed artificial and unappealing. The customer service was average, neither particularly good nor notably poor.\\n\", \" The food at Taco Bell was bad, with items tasting stale and lukewarm. Customer service was average, neither impressive nor terrible.\\n\", \" The food at Taco Bell was bad, with flavors that seemed artificial and unappealing. The service was average, but couldn't make up for the disappointing meal.\\n\", \" The food at Taco Bell was bad, with greasy and unappetizing options. Customer service was uninspiring, neither particularly good nor terrible.\\n\", \" The food at Taco Bell was bad, lacking in flavor and freshness. The customer service was uninspiring, neither terrible nor impressive.\\n\", \" The food at Taco Bell was bad, with flavors that didn't quite hit the mark. The customer service was average, neither impressive nor terrible.\\n\", \" The food at Taco Bell was bad, with soggy tacos and bland flavors. The customer service was average, but couldn't make up for the offensive quality of the food.\\n\", \" The food at Taco Bell was bad, lacking in flavor and quality. The customer service was average, neither impressive nor terrible.\\n\", \" The food was bad, with soggy tacos and bland flavors. The service was uninspiring, neither terrible nor impressive.\\n\", \" The food was bad, with soggy tacos and bland flavors. The service was average, but couldn't make up for the disappointing meal.\\n\", \" The food at Taco Bell was bad, with questionable quality and taste. The customer service was average, neither impressive nor terrible.\\n\", \" The food at Taco Bell was bad, lacking in flavor and quality. The customer service was average, neither impressive nor particularly disappointing.\\n\", \" The food at Taco Bell was bad, with questionable quality ingredients. The customer service was average, but couldn't make up for the offensive taste of the food.\\n\", \" The food at Taco Bell was surprisingly enjoyable, with tasty tacos and burritos. The customer service was average, with a bit of a wait during peak hours.\\n\", \" The food at Taco Bell was bad, with flavors that seemed artificial and unappealing. The customer service was average, neither impressive nor terrible.\\n\", \" The food at Taco Bell was bad, lacking in flavor and quality. The customer service was average, but couldn't make up for the unpleasant dining experience.\\n\", \" The food at Taco Bell was bad, with questionable quality and taste. The customer service was uninspiring, neither terrible nor impressive.\\n\", \" The food at Taco Bell was bad, lacking in flavor and quality. The customer service was uninspiring, neither terrible nor impressive.\\n\", \" The food at Taco Bell was bad, with bland flavors and questionable quality. The service was average, neither impressive nor terrible.\\n\", \" The food at Taco Bell was bad, lacking in flavor and quality. The customer service was uninspiring, neither particularly good nor terrible.\\n\", \" The food at Taco Bell was bad, with soggy tacos and bland flavors. Customer service was uninspiring, neither good nor terrible.\\n\", \" The food at Taco Bell was bad, with greasy and unappetizing options. The customer service was average, neither impressive nor terrible.\\n\", \" The food at Taco Bell was bad, with stale tortillas and bland fillings. The customer service was average, but couldn't make up for the unpleasant meal.\\n\", \" The food at Taco Bell was bad, with bland flavors and questionable quality. The service was average, neither impressive nor terrible.\\n\", \" The food at Taco Bell was bad, with greasy and unappetizing options. Customer service was uninspiring, neither particularly good nor terrible.\\n\", \" The food at Taco Bell was bad, with low-quality ingredients and poor taste. The customer service was uninspiring, neither terrible nor impressive.\\n\", \" The food at Taco Bell was bad, with soggy tacos and bland flavors. Customer service was uninspiring, neither terrible nor impressive.\\n\", \" The food at Taco Bell was bad, with flavors that felt artificial and uninspired. The customer service was average, neither notably good nor terrible.\\n\", \" The food at Taco Bell was bad, lacking in flavor and quality. The customer service was average, but couldn't make up for the unpleasant meal.\\n\", \" The food at Taco Bell was bad, with flavors that felt artificial and unappetizing. The customer service was average, neither enhancing nor detracting from the experience.\\n\", \" The food at Taco Bell was bad, with bland flavors and questionable quality. Customer service was average, neither impressive nor terrible.\\n\", \" The food at Taco Bell was surprisingly enjoyable, with tasty and affordable Mexican-inspired dishes. The customer service was average, with some wait times during peak hours.\\n\"]}\n",
      "\u001b[32m**********************************************************************\u001b[0m\n",
      "\n",
      "--------------------------------------------------------------------------------\n"
     ]
    },
    {
     "name": "stderr",
     "output_type": "stream",
     "text": [
      "🖇 AgentOps: Could not record event - multiple sessions detected. You must use session.record() instead of agentops.record() More info: https://docs.agentops.ai/v1/concepts/core-concepts#session-management\n",
      "🖇 AgentOps: Could not record event - multiple sessions detected. You must use session.record() instead of agentops.record() More info: https://docs.agentops.ai/v1/concepts/core-concepts#session-management\n",
      "🖇 AgentOps: Could not record event - multiple sessions detected. You must use session.record() instead of agentops.record() More info: https://docs.agentops.ai/v1/concepts/core-concepts#session-management\n",
      "🖇 AgentOps: Could not record event - multiple sessions detected. You must use session.record() instead of agentops.record() More info: https://docs.agentops.ai/v1/concepts/core-concepts#session-management\n",
      "🖇 AgentOps: Could not record event - multiple sessions detected. You must use session.record() instead of agentops.record() More info: https://docs.agentops.ai/v1/concepts/core-concepts#session-management\n",
      "🖇 AgentOps: Could not record event - multiple sessions detected. You must use session.record() instead of agentops.record() More info: https://docs.agentops.ai/v1/concepts/core-concepts#session-management\n"
     ]
    },
    {
     "name": "stdout",
     "output_type": "stream",
     "text": [
      "\u001b[33mRestaurant Review agent\u001b[0m (to User):\n",
      "\n",
      "Here are the reviews I fetched for Taco Bell:\n",
      "\n",
      "1. \" The food at Taco Bell was bad, with flavors that seemed artificial. The customer service was average, neither particularly helpful nor rude.\\n\"\n",
      "2. \" The food was bad, with flavors that were off and textures that were strange. The service was average, neither particularly good nor terrible.\\n\"\n",
      "3. \" The food was bad and left me feeling queasy. The customer service was forgettable, neither good nor terrible.\\n\"\n",
      "4. \" The food at Taco Bell was bad, with flavors that seemed artificial and unappealing. The service was average, neither particularly good nor terrible.\\n\"\n",
      "5. \" The food was bad, but the service was average. The tacos were unpleasant and lacked flavor, though the staff was polite enough.\\n\"\n",
      "6. \" The food at Taco Bell was bad, with flavors that seemed artificial. The service was average, neither impressive nor terrible.\\n\"\n",
      "7. \" The food at Taco Bell was bad, with flavors that felt artificial and unappetizing. The customer service was average, neither adding to nor detracting from the experience.\\n\"\n",
      "8. \" The food at Taco Bell was bad, with bland flavors and questionable quality. The customer service was average, neither particularly helpful nor offensive.\\n\"\n",
      "9. \" The food at Taco Bell was bad, with flavors that seemed artificial and unappealing. The customer service was average, neither particularly good nor notably poor.\\n\"\n",
      "10. \" The food at Taco Bell was bad, with items tasting stale and lukewarm. Customer service was average, neither impressive nor terrible.\\n\"\n",
      "11. \" The food at Taco Bell was bad, with flavors that seemed artificial and unappealing. The service was average, but couldn't make up for the disappointing meal.\\n\"\n",
      "12. \" The food at Taco Bell was bad, with greasy and unappetizing options. Customer service was uninspiring, neither particularly good nor terrible.\\n\"\n",
      "13. \" The food at Taco Bell was bad, lacking in flavor and freshness. The customer service was uninspiring, neither terrible nor impressive.\\n\"\n",
      "14. \" The food at Taco Bell was bad, with flavors that didn't quite hit the mark. The customer service was average, neither impressive nor terrible.\\n\"\n",
      "15. \" The food at Taco Bell was bad, with soggy tacos and bland flavors. The customer service was average, but couldn't make up for the offensive quality of the food.\\n\"\n",
      "16. \" The food at Taco Bell was bad, lacking in flavor and quality. The customer service was average, neither impressive nor terrible.\\n\"\n",
      "17. \" The food was bad, with soggy tacos and bland flavors. The service was uninspiring, neither terrible nor impressive.\\n\"\n",
      "18. \" The food was bad, with soggy tacos and bland flavors. The service was average, but couldn't make up for the disappointing meal.\\n\"\n",
      "19. \" The food at Taco Bell was bad, with questionable quality and taste. The customer service was average, neither impressive nor terrible.\\n\"\n",
      "20. \" The food at Taco Bell was bad, lacking in flavor and quality. The customer service was average, neither impressive nor particularly disappointing.\\n\"\n",
      "21. \" The food at Taco Bell was bad, with questionable quality ingredients. The customer service was average, but couldn't make up for the offensive taste of the food.\\n\"\n",
      "22. \" The food at Taco Bell was surprisingly enjoyable, with tasty tacos and burritos. The customer service was average, with a bit of a wait during peak hours.\\n\"\n",
      "23. \" The food at Taco Bell was bad, with flavors that seemed artificial and unappealing. The customer service was average, neither impressive nor terrible.\\n\"\n",
      "24. \" The food at Taco Bell was bad, lacking in flavor and quality. The customer service was average, but couldn't make up for the unpleasant dining experience.\\n\"\n",
      "25. \" The food at Taco Bell was bad, with questionable quality and taste. The customer service was uninspiring, neither terrible nor impressive.\\n\"\n",
      "26. \" The food at Taco Bell was bad, lacking in flavor and quality. The customer service was uninspiring, neither terrible nor impressive.\\n\"\n",
      "27. \" The food at Taco Bell was bad, with bland flavors and questionable quality. The service was average, neither impressive nor terrible.\\n\"\n",
      "28. \" The food at Taco Bell was bad, lacking in flavor and quality. The customer service was uninspiring, neither particularly good nor terrible.\\n\"\n",
      "29. \" The food at Taco Bell was bad, with soggy tacos and bland flavors. Customer service was uninspiring, neither good nor terrible.\\n\"\n",
      "30. \" The food at Taco Bell was bad, with greasy and unappetizing options. The customer service was average, neither impressive nor terrible.\\n\"\n",
      "31. \" The food at Taco Bell was bad, with stale tortillas and bland fillings. The customer service was average, but couldn't make up for the unpleasant meal.\\n\"\n",
      "32. \" The food at Taco Bell was bad, with bland flavors and questionable quality. The service was average, neither impressive nor terrible.\\n\"\n",
      "33. \" The food at Taco Bell was bad, with greasy and unappetizing options. Customer service was uninspiring, neither particularly good nor terrible.\\n\"\n",
      "34. \" The food at Taco Bell was bad, with low-quality ingredients and poor taste. The customer service was uninspiring, neither terrible nor impressive.\\n\"\n",
      "35. \" The food at Taco Bell was bad, with soggy tacos and bland flavors. Customer service was uninspiring, neither terrible nor impressive.\\n\"\n",
      "36. \" The food at Taco Bell was bad, with flavors that felt artificial and uninspired. The customer service was average, neither notably good nor terrible.\\n\"\n",
      "37. \" The food at Taco Bell was bad, lacking in flavor and quality. The customer service was average, but couldn't make up for the unpleasant meal.\\n\"\n",
      "38. \" The food at Taco Bell was bad, with flavors that felt artificial and unappetizing. The customer service was average, neither enhancing nor detracting from the experience.\\n\"\n",
      "39. \" The food at Taco Bell was bad, with bland flavors and questionable quality. Customer service was average, neither impressive nor terrible.\\n\"\n",
      "40. \" The food at Taco Bell was surprisingly enjoyable, with tasty and affordable Mexican-inspired dishes. The customer service was average, with some wait times during peak hours.\\n\"\n",
      "\n",
      "--------------------------------------------------------------------------------\n",
      "\u001b[34m\n",
      "********************************************************************************\u001b[0m\n",
      "\u001b[34mStarting a new chat....\u001b[0m\n",
      "\u001b[34m\n",
      "********************************************************************************\u001b[0m\n"
     ]
    },
    {
     "name": "stderr",
     "output_type": "stream",
     "text": [
      "🖇 AgentOps: Could not record event - multiple sessions detected. You must use session.record() instead of agentops.record() More info: https://docs.agentops.ai/v1/concepts/core-concepts#session-management\n"
     ]
    },
    {
     "name": "stdout",
     "output_type": "stream",
     "text": [
      "\u001b[33mUser\u001b[0m (to Review Analysis agent):\n",
      "\n",
      "Given these reviews, generate separate scores for the food and customer service.\n",
      "Context: \n",
      "Here are the reviews I fetched for Taco Bell:\n",
      "\n",
      "1. \" The food at Taco Bell was bad, with flavors that seemed artificial. The customer service was average, neither particularly helpful nor rude.\\n\"\n",
      "2. \" The food was bad, with flavors that were off and textures that were strange. The service was average, neither particularly good nor terrible.\\n\"\n",
      "3. \" The food was bad and left me feeling queasy. The customer service was forgettable, neither good nor terrible.\\n\"\n",
      "4. \" The food at Taco Bell was bad, with flavors that seemed artificial and unappealing. The service was average, neither particularly good nor terrible.\\n\"\n",
      "5. \" The food was bad, but the service was average. The tacos were unpleasant and lacked flavor, though the staff was polite enough.\\n\"\n",
      "6. \" The food at Taco Bell was bad, with flavors that seemed artificial. The service was average, neither impressive nor terrible.\\n\"\n",
      "7. \" The food at Taco Bell was bad, with flavors that felt artificial and unappetizing. The customer service was average, neither adding to nor detracting from the experience.\\n\"\n",
      "8. \" The food at Taco Bell was bad, with bland flavors and questionable quality. The customer service was average, neither particularly helpful nor offensive.\\n\"\n",
      "9. \" The food at Taco Bell was bad, with flavors that seemed artificial and unappealing. The customer service was average, neither particularly good nor notably poor.\\n\"\n",
      "10. \" The food at Taco Bell was bad, with items tasting stale and lukewarm. Customer service was average, neither impressive nor terrible.\\n\"\n",
      "11. \" The food at Taco Bell was bad, with flavors that seemed artificial and unappealing. The service was average, but couldn't make up for the disappointing meal.\\n\"\n",
      "12. \" The food at Taco Bell was bad, with greasy and unappetizing options. Customer service was uninspiring, neither particularly good nor terrible.\\n\"\n",
      "13. \" The food at Taco Bell was bad, lacking in flavor and freshness. The customer service was uninspiring, neither terrible nor impressive.\\n\"\n",
      "14. \" The food at Taco Bell was bad, with flavors that didn't quite hit the mark. The customer service was average, neither impressive nor terrible.\\n\"\n",
      "15. \" The food at Taco Bell was bad, with soggy tacos and bland flavors. The customer service was average, but couldn't make up for the offensive quality of the food.\\n\"\n",
      "16. \" The food at Taco Bell was bad, lacking in flavor and quality. The customer service was average, neither impressive nor terrible.\\n\"\n",
      "17. \" The food was bad, with soggy tacos and bland flavors. The service was uninspiring, neither terrible nor impressive.\\n\"\n",
      "18. \" The food was bad, with soggy tacos and bland flavors. The service was average, but couldn't make up for the disappointing meal.\\n\"\n",
      "19. \" The food at Taco Bell was bad, with questionable quality and taste. The customer service was average, neither impressive nor terrible.\\n\"\n",
      "20. \" The food at Taco Bell was bad, lacking in flavor and quality. The customer service was average, neither impressive nor particularly disappointing.\\n\"\n",
      "21. \" The food at Taco Bell was bad, with questionable quality ingredients. The customer service was average, but couldn't make up for the offensive taste of the food.\\n\"\n",
      "22. \" The food at Taco Bell was surprisingly enjoyable, with tasty tacos and burritos. The customer service was average, with a bit of a wait during peak hours.\\n\"\n",
      "23. \" The food at Taco Bell was bad, with flavors that seemed artificial and unappealing. The customer service was average, neither impressive nor terrible.\\n\"\n",
      "24. \" The food at Taco Bell was bad, lacking in flavor and quality. The customer service was average, but couldn't make up for the unpleasant dining experience.\\n\"\n",
      "25. \" The food at Taco Bell was bad, with questionable quality and taste. The customer service was uninspiring, neither terrible nor impressive.\\n\"\n",
      "26. \" The food at Taco Bell was bad, lacking in flavor and quality. The customer service was uninspiring, neither terrible nor impressive.\\n\"\n",
      "27. \" The food at Taco Bell was bad, with bland flavors and questionable quality. The service was average, neither impressive nor terrible.\\n\"\n",
      "28. \" The food at Taco Bell was bad, lacking in flavor and quality. The customer service was uninspiring, neither particularly good nor terrible.\\n\"\n",
      "29. \" The food at Taco Bell was bad, with soggy tacos and bland flavors. Customer service was uninspiring, neither good nor terrible.\\n\"\n",
      "30. \" The food at Taco Bell was bad, with greasy and unappetizing options. The customer service was average, neither impressive nor terrible.\\n\"\n",
      "31. \" The food at Taco Bell was bad, with stale tortillas and bland fillings. The customer service was average, but couldn't make up for the unpleasant meal.\\n\"\n",
      "32. \" The food at Taco Bell was bad, with bland flavors and questionable quality. The service was average, neither impressive nor terrible.\\n\"\n",
      "33. \" The food at Taco Bell was bad, with greasy and unappetizing options. Customer service was uninspiring, neither particularly good nor terrible.\\n\"\n",
      "34. \" The food at Taco Bell was bad, with low-quality ingredients and poor taste. The customer service was uninspiring, neither terrible nor impressive.\\n\"\n",
      "35. \" The food at Taco Bell was bad, with soggy tacos and bland flavors. Customer service was uninspiring, neither terrible nor impressive.\\n\"\n",
      "36. \" The food at Taco Bell was bad, with flavors that felt artificial and uninspired. The customer service was average, neither notably good nor terrible.\\n\"\n",
      "37. \" The food at Taco Bell was bad, lacking in flavor and quality. The customer service was average, but couldn't make up for the unpleasant meal.\\n\"\n",
      "38. \" The food at Taco Bell was bad, with flavors that felt artificial and unappetizing. The customer service was average, neither enhancing nor detracting from the experience.\\n\"\n",
      "39. \" The food at Taco Bell was bad, with bland flavors and questionable quality. Customer service was average, neither impressive nor terrible.\\n\"\n",
      "40. \" The food at Taco Bell was surprisingly enjoyable, with tasty and affordable Mexican-inspired dishes. The customer service was average, with some wait times during peak hours.\\n\"\n",
      "\n",
      "--------------------------------------------------------------------------------\n"
     ]
    },
    {
     "name": "stderr",
     "output_type": "stream",
     "text": [
      "🖇 AgentOps: Could not record event - multiple sessions detected. You must use session.record() instead of agentops.record() More info: https://docs.agentops.ai/v1/concepts/core-concepts#session-management\n",
      "🖇 AgentOps: Could not record event - multiple sessions detected. You must use session.record() instead of agentops.record() More info: https://docs.agentops.ai/v1/concepts/core-concepts#session-management\n",
      "🖇 AgentOps: Could not record event - multiple sessions detected. You must use session.record() instead of agentops.record() More info: https://docs.agentops.ai/v1/concepts/core-concepts#session-management\n",
      "🖇 AgentOps: Could not record event - multiple sessions detected. You must use session.record() instead of agentops.record() More info: https://docs.agentops.ai/v1/concepts/core-concepts#session-management\n",
      "🖇 AgentOps: Could not record event - multiple sessions detected. You must use session.record() instead of agentops.record() More info: https://docs.agentops.ai/v1/concepts/core-concepts#session-management\n",
      "🖇 AgentOps: Could not record event - multiple sessions detected. You must use session.record() instead of agentops.record() More info: https://docs.agentops.ai/v1/concepts/core-concepts#session-management\n"
     ]
    },
    {
     "name": "stdout",
     "output_type": "stream",
     "text": [
      "\u001b[33mReview Analysis agent\u001b[0m (to User):\n",
      "\n",
      "Here are the ratings based on the reviews:\n",
      "\n",
      "[(2, 3, \"The food at Taco Bell was bad, with flavors that seemed artificial. The customer service was average, neither particularly helpful nor rude.\"),\n",
      "(2, 3, \"The food was bad, with flavors that were off and textures that were strange. The service was average, neither particularly good nor terrible.\"),\n",
      "(2, 3, \"The food was bad and left me feeling queasy. The customer service was forgettable, neither good nor terrible.\"),\n",
      "(2, 3, \"The food at Taco Bell was bad, with flavors that seemed artificial and unappealing. The service was average, neither particularly good nor terrible.\"),\n",
      "(2, 3, \"The food was bad, but the service was average. The tacos were unpleasant and lacked flavor, though the staff was polite enough.\"),\n",
      "(2, 3, \"The food at Taco Bell was bad, with flavors that seemed artificial. The service was average, neither impressive nor terrible.\"),\n",
      "(2, 3, \"The food at Taco Bell was bad, with flavors that felt artificial and unappetizing. The customer service was average, neither adding to nor detracting from the experience.\"),\n",
      "(2, 3, \"The food at Taco Bell was bad, with bland flavors and questionable quality. The customer service was average, neither particularly helpful nor offensive.\"),\n",
      "(2, 3, \"The food at Taco Bell was bad, with flavors that seemed artificial and unappealing. The customer service was average, neither particularly good nor notably poor.\"),\n",
      "(2, 3, \"The food at Taco Bell was bad, with items tasting stale and lukewarm. Customer service was average, neither impressive nor terrible.\"),\n",
      "(2, 3, \"The food at Taco Bell was bad, with flavors that seemed artificial and unappealing. The service was average, but couldn't make up for the disappointing meal.\"),\n",
      "(2, 3, \"The food at Taco Bell was bad, with greasy and unappetizing options. Customer service was uninspiring, neither particularly good nor terrible.\"),\n",
      "(2, 3, \"The food at Taco Bell was bad, lacking in flavor and freshness. The customer service was uninspiring, neither terrible nor impressive.\"),\n",
      "(2, 3, \"The food at Taco Bell was bad, with flavors that didn't quite hit the mark. The customer service was average, neither impressive nor terrible.\"),\n",
      "(2, 3, \"The food at Taco Bell was bad, with soggy tacos and bland flavors. The customer service was average, but couldn't make up for the offensive quality of the food.\"),\n",
      "(2, 3, \"The food at Taco Bell was bad, lacking in flavor and quality. The customer service was average, neither impressive nor terrible.\"),\n",
      "(2, 3, \"The food was bad, with soggy tacos and bland flavors. The service was uninspiring, neither terrible nor impressive.\"),\n",
      "(2, 3, \"The food was bad, with soggy tacos and bland flavors. The service was average, but couldn't make up for the disappointing meal.\"),\n",
      "(2, 3, \"The food at Taco Bell was bad, with questionable quality and taste. The customer service was average, neither impressive nor terrible.\"),\n",
      "(2, 3, \"The food at Taco Bell was bad, lacking in flavor and quality. The customer service was average, neither impressive nor particularly disappointing.\"),\n",
      "(2, 3, \"The food at Taco Bell was bad, with questionable quality ingredients. The customer service was average, but couldn't make up for the offensive taste of the food.\"),\n",
      "(4, 3, \"The food at Taco Bell was surprisingly enjoyable, with tasty tacos and burritos. The customer service was average, with a bit of a wait during peak hours.\"),\n",
      "(2, 3, \"The food at Taco Bell was bad, with flavors that seemed artificial and unappealing. The customer service was average, neither impressive nor terrible.\"),\n",
      "(2, 3, \"The food at Taco Bell was bad, lacking in flavor and quality. The customer service was average, but couldn't make up for the unpleasant dining experience.\"),\n",
      "(2, 3, \"The food at Taco Bell was bad, with questionable quality and taste. The customer service was uninspiring, neither terrible nor impressive.\"),\n",
      "(2, 3, \"The food at Taco Bell was bad, lacking in flavor and quality. The customer service was uninspiring, neither terrible nor impressive.\"),\n",
      "(2, 3, \"The food at Taco Bell was bad, with bland flavors and questionable quality. The service was average, neither impressive nor terrible.\"),\n",
      "(2, 3, \"The food at Taco Bell was bad, lacking in flavor and quality. The customer service was uninspiring, neither particularly good nor terrible.\"),\n",
      "(2, 3, \"The food at Taco Bell was bad, with soggy tacos and bland flavors. Customer service was uninspiring, neither good nor terrible.\"),\n",
      "(2, 3, \"The food at Taco Bell was bad, with greasy and unappetizing options. The customer service was average, neither impressive nor terrible.\"),\n",
      "(2, 3, \"The food at Taco Bell was bad, with stale tortillas and bland fillings. The customer service was average, but couldn't make up for the unpleasant meal.\"),\n",
      "(2, 3, \"The food at Taco Bell was bad, with bland flavors and questionable quality. The service was average, neither impressive nor terrible.\"),\n",
      "(2, 3, \"The food at Taco Bell was bad, with greasy and unappetizing options. Customer service was uninspiring, neither particularly good nor terrible.\"),\n",
      "(2, 3, \"The food at Taco Bell was bad, with low-quality ingredients and poor taste. The customer service was uninspiring, neither terrible nor impressive.\"),\n",
      "(2, 3, \"The food at Taco Bell was bad, with soggy tacos and bland flavors. Customer service was uninspiring, neither terrible nor impressive.\"),\n",
      "(2, 3, \"The food at Taco Bell was bad, with flavors that felt artificial and uninspired. The customer service was average, neither notably good nor terrible.\"),\n",
      "(2, 3, \"The food at Taco Bell was bad, lacking in flavor and quality. The customer service was average, but couldn't make up for the unpleasant meal.\"),\n",
      "(2, 3, \"The food at Taco Bell was bad, with flavors that felt artificial and unappetizing. The customer service was average, neither enhancing nor detracting from the experience.\"),\n",
      "(2, 3, \"The food at Taco Bell was bad, with bland flavors and questionable quality. Customer service was average, neither impressive nor terrible.\"),\n",
      "(4, 3, \"The food at Taco Bell was surprisingly enjoyable, with tasty and affordable Mexican-inspired dishes. The customer service was average, with some wait times during peak hours.\")]\n",
      "\n",
      "\n",
      "--------------------------------------------------------------------------------\n"
     ]
    },
    {
     "name": "stderr",
     "output_type": "stream",
     "text": [
      "🖇 AgentOps: Could not end session - multiple sessions detected. You must use session.end_session() instead of agentops.end_session() More info: https://docs.agentops.ai/v1/concepts/core-concepts#session-management\n"
     ]
    }
   ],
   "source": [
    "agentops.start_session()\n",
    "\n",
    "chat_result = user_proxy.initiate_chats(\n",
    "[\n",
    "        {\n",
    "            \"recipient\": restaurant_review_agent,\n",
    "            \"message\": \"Whats the overall score for Taco Bell ?\",\n",
    "            \"max_turns\": 2,\n",
    "            \"summary_method\": \"last_msg\",\n",
    "        },\n",
    "        {\n",
    "            \"recipient\": review_analysis_agent,\n",
    "            \"message\": \"Given these reviews, generate separate scores for the food and customer service.\",\n",
    "            \"max_turns\": 1,\n",
    "            \"summary_method\": \"last_msg\",\n",
    "        },\n",
    "])\n",
    "agentops.end_session(\"Success\")"
   ]
  },
  {
   "cell_type": "code",
   "execution_count": 21,
   "id": "1ce30f68-3d12-4216-bd73-511b4bbd3527",
   "metadata": {},
   "outputs": [
    {
     "name": "stdout",
     "output_type": "stream",
     "text": [
      "2\n"
     ]
    }
   ],
   "source": [
    "print(len(chat_result))\n",
    "#print(chat_result[-1].summary)"
   ]
  },
  {
   "cell_type": "code",
   "execution_count": 22,
   "id": "0353580a-eb51-48a8-8632-71311971ffd8",
   "metadata": {},
   "outputs": [
    {
     "name": "stdout",
     "output_type": "stream",
     "text": [
      "Local score: 2, 3, 0.30983866769659335\n",
      "Local score: 2, 3, 0.30983866769659335\n",
      "Local score: 2, 3, 0.30983866769659335\n",
      "Local score: 2, 3, 0.30983866769659335\n",
      "Local score: 2, 3, 0.30983866769659335\n",
      "Local score: 2, 3, 0.30983866769659335\n",
      "Local score: 2, 3, 0.30983866769659335\n",
      "Local score: 2, 3, 0.30983866769659335\n",
      "Local score: 2, 3, 0.30983866769659335\n",
      "Local score: 2, 3, 0.30983866769659335\n",
      "Local score: 2, 3, 0.30983866769659335\n",
      "Local score: 2, 3, 0.30983866769659335\n",
      "Local score: 2, 3, 0.30983866769659335\n",
      "Local score: 2, 3, 0.30983866769659335\n",
      "Local score: 2, 3, 0.30983866769659335\n",
      "Local score: 2, 3, 0.30983866769659335\n",
      "Local score: 2, 3, 0.30983866769659335\n",
      "Local score: 2, 3, 0.30983866769659335\n",
      "Local score: 2, 3, 0.30983866769659335\n",
      "Local score: 2, 3, 0.30983866769659335\n",
      "Local score: 2, 3, 0.30983866769659335\n",
      "Local score: 4, 3, 0.6196773353931867\n",
      "Local score: 2, 3, 0.30983866769659335\n",
      "Local score: 2, 3, 0.30983866769659335\n",
      "Local score: 2, 3, 0.30983866769659335\n",
      "Local score: 2, 3, 0.30983866769659335\n",
      "Local score: 2, 3, 0.30983866769659335\n",
      "Local score: 2, 3, 0.30983866769659335\n",
      "Local score: 2, 3, 0.30983866769659335\n",
      "Local score: 2, 3, 0.30983866769659335\n",
      "Local score: 2, 3, 0.30983866769659335\n",
      "Local score: 2, 3, 0.30983866769659335\n",
      "Local score: 2, 3, 0.30983866769659335\n",
      "Local score: 2, 3, 0.30983866769659335\n",
      "Local score: 2, 3, 0.30983866769659335\n",
      "Local score: 2, 3, 0.30983866769659335\n",
      "Local score: 2, 3, 0.30983866769659335\n",
      "Local score: 2, 3, 0.30983866769659335\n",
      "Local score: 2, 3, 0.30983866769659335\n",
      "Local score: 4, 3, 0.6196773353931867\n",
      "sum = 13.013224043256928, N = 40\n",
      "Review for restaurant Taco Bell = 3.253306010814232\n",
      "{\"Taco Bell\": 3.253}\n"
     ]
    }
   ],
   "source": [
    "import re\n",
    "\n",
    "def extract_score(t):\n",
    "    splits = t.replace(\"(\", \"\").replace(\")\", \"\").split(\",\")\n",
    "    f = int(splits[0])\n",
    "    c = int(splits[1])\n",
    "    return f, c\n",
    "    \n",
    "def compute_final_score(last_msg):\n",
    "    msg1 = get_substring_between(last_msg, \"[\", \"]\")\n",
    "    res = re.findall(r'\\(.*?\\)', msg1)\n",
    "\n",
    "    food_scores=[]\n",
    "    service_scores = []\n",
    "    for t in res:\n",
    "        (f, c) = extract_score(t)\n",
    "        food_scores.append(f)\n",
    "        service_scores.append(c)\n",
    "    return calculate_overall_score(\"Taco Bell\",food_scores, service_scores)\n",
    "\n",
    "\n",
    "s = compute_final_score(chat_result[-1].summary)\n",
    "print(s)"
   ]
  },
  {
   "cell_type": "code",
   "execution_count": null,
   "id": "8bf37a00-fb39-48b3-8ac2-f5be3f41df80",
   "metadata": {},
   "outputs": [],
   "source": []
  }
 ],
 "metadata": {
  "kernelspec": {
   "display_name": "Python 3 (ipykernel)",
   "language": "python",
   "name": "python3"
  },
  "language_info": {
   "codemirror_mode": {
    "name": "ipython",
    "version": 3
   },
   "file_extension": ".py",
   "mimetype": "text/x-python",
   "name": "python",
   "nbconvert_exporter": "python",
   "pygments_lexer": "ipython3",
   "version": "3.11.1"
  }
 },
 "nbformat": 4,
 "nbformat_minor": 5
}
