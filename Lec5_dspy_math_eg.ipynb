{
 "cells": [
  {
   "cell_type": "markdown",
   "id": "6f0e69b9-c960-4d0c-bccc-ef102700ea1d",
   "metadata": {},
   "source": [
    "# DSPy\n",
    "\n",
    "A Math example for DSPy.\n",
    "\n",
    "Please set your OpenAI API key in a local .env file for load_dotenv():\n",
    "```\n",
    "OPENAI_API_KEY=sk...\n",
    "```\n",
    "or set it in the environment explicity using \n",
    "```\n",
    "import os\n",
    "os.environ[\"OPENAI_API_KEY\"] = \"sk...\"\n",
    "```\n",
    "\n",
    "Install the latest DSPy via \n",
    "```\n",
    "pip install -U dspy\n",
    "```"
   ]
  },
  {
   "cell_type": "code",
   "execution_count": 1,
   "id": "4e60eaad-f806-4702-843e-a87884e3770d",
   "metadata": {},
   "outputs": [],
   "source": [
    "import dspy\n",
    "\n",
    "gpt4o_mini = dspy.LM('openai/gpt-4o-mini', max_tokens=2000)\n",
    "gpt4o = dspy.LM('openai/gpt-4o', max_tokens=2000)\n",
    "dspy.configure(lm=gpt4o_mini)  # we'll use gpt-4o-mini as the default LM, unless otherwise specified"
   ]
  },
  {
   "cell_type": "code",
   "execution_count": 2,
   "id": "f4f714b6-d0cd-4920-96dd-459d0b8f5bc4",
   "metadata": {},
   "outputs": [
    {
     "name": "stdout",
     "output_type": "stream",
     "text": [
      "Collecting git+https://github.com/hendrycks/math.git\n",
      "  Cloning https://github.com/hendrycks/math.git to /private/var/folders/kx/jf5lcf41451__wc2mylscgx80000gn/T/pip-req-build-x0oh5187\n",
      "  Running command git clone --filter=blob:none --quiet https://github.com/hendrycks/math.git /private/var/folders/kx/jf5lcf41451__wc2mylscgx80000gn/T/pip-req-build-x0oh5187\n",
      "  Resolved https://github.com/hendrycks/math.git to commit 357963a7f5501a6c1708cf3f3fb0cdf525642761\n",
      "  Preparing metadata (setup.py) ... \u001b[?25ldone\n",
      "\u001b[?25hInstalling collected packages: math-equivalence\n",
      "\u001b[33m  DEPRECATION: math-equivalence is being installed using the legacy 'setup.py install' method, because it does not have a 'pyproject.toml' and the 'wheel' package is not installed. pip 23.1 will enforce this behaviour change. A possible replacement is to enable the '--use-pep517' option. Discussion can be found at https://github.com/pypa/pip/issues/8559\u001b[0m\u001b[33m\n",
      "\u001b[0m  Running setup.py install for math-equivalence ... \u001b[?25ldone\n",
      "\u001b[?25hSuccessfully installed math-equivalence-0.0.0\n",
      "\n",
      "\u001b[1m[\u001b[0m\u001b[34;49mnotice\u001b[0m\u001b[1;39;49m]\u001b[0m\u001b[39;49m A new release of pip available: \u001b[0m\u001b[31;49m22.3.1\u001b[0m\u001b[39;49m -> \u001b[0m\u001b[32;49m24.3.1\u001b[0m\n",
      "\u001b[1m[\u001b[0m\u001b[34;49mnotice\u001b[0m\u001b[1;39;49m]\u001b[0m\u001b[39;49m To update, run: \u001b[0m\u001b[32;49mpip install --upgrade pip\u001b[0m\n"
     ]
    }
   ],
   "source": [
    "# MATH dataset: https://arxiv.org/abs/2103.03874\n",
    "# https://github.com/hendrycks/math\n",
    "\n",
    "!pip install git+https://github.com/hendrycks/math.git"
   ]
  },
  {
   "cell_type": "code",
   "execution_count": 3,
   "id": "425e7bf9-79e9-4a6d-b1c1-8979b4eef001",
   "metadata": {},
   "outputs": [
    {
     "data": {
      "application/vnd.jupyter.widget-view+json": {
       "model_id": "c72d1763a9634ea98ef9502f1e2459de",
       "version_major": 2,
       "version_minor": 0
      },
      "text/plain": [
       "MATH.py:   0%|          | 0.00/4.10k [00:00<?, ?B/s]"
      ]
     },
     "metadata": {},
     "output_type": "display_data"
    },
    {
     "data": {
      "application/vnd.jupyter.widget-view+json": {
       "model_id": "6e0abbf8607e4642ba6ff3c4fa2440aa",
       "version_major": 2,
       "version_minor": 0
      },
      "text/plain": [
       "0000.parquet:   0%|          | 0.00/505k [00:00<?, ?B/s]"
      ]
     },
     "metadata": {},
     "output_type": "display_data"
    },
    {
     "data": {
      "application/vnd.jupyter.widget-view+json": {
       "model_id": "476afd04deab46b186dff4063a8668d3",
       "version_major": 2,
       "version_minor": 0
      },
      "text/plain": [
       "0000.parquet:   0%|          | 0.00/353k [00:00<?, ?B/s]"
      ]
     },
     "metadata": {},
     "output_type": "display_data"
    },
    {
     "data": {
      "application/vnd.jupyter.widget-view+json": {
       "model_id": "dffcde95d179429395d996e9ad2c06b8",
       "version_major": 2,
       "version_minor": 0
      },
      "text/plain": [
       "Generating train split:   0%|          | 0/1744 [00:00<?, ? examples/s]"
      ]
     },
     "metadata": {},
     "output_type": "display_data"
    },
    {
     "data": {
      "application/vnd.jupyter.widget-view+json": {
       "model_id": "988c25f896314e93bbdddbdf420660bd",
       "version_major": 2,
       "version_minor": 0
      },
      "text/plain": [
       "Generating test split:   0%|          | 0/1187 [00:00<?, ? examples/s]"
      ]
     },
     "metadata": {},
     "output_type": "display_data"
    },
    {
     "name": "stdout",
     "output_type": "stream",
     "text": [
      "350 350\n"
     ]
    }
   ],
   "source": [
    "# Next, let's load some data examples from the MATH benchmark.\n",
    "# We'll use a training split for optimization and evaluate it on a held-out dev set.\n",
    "\n",
    "from dspy.datasets import MATH\n",
    "\n",
    "dataset = MATH(subset='algebra')\n",
    "print(len(dataset.train), len(dataset.dev))"
   ]
  },
  {
   "cell_type": "code",
   "execution_count": 4,
   "id": "bd15035a-f9ba-448b-968e-cfb1c7c898a7",
   "metadata": {},
   "outputs": [
    {
     "name": "stdout",
     "output_type": "stream",
     "text": [
      "Question: The doctor has told Cal O'Ree that during his ten weeks of working out at the gym, he can expect each week's weight loss to be $1\\%$ of his weight at the end of the previous week. His weight at the beginning of the workouts is $244$ pounds. How many pounds does he expect to weigh at the end of the ten weeks? Express your answer to the nearest whole number.\n",
      "Answer: 221\n"
     ]
    }
   ],
   "source": [
    "# Let's inspect one example from the training set.\n",
    "\n",
    "example = dataset.train[0]\n",
    "print(\"Question:\", example.question)\n",
    "print(\"Answer:\", example.answer)"
   ]
  },
  {
   "cell_type": "code",
   "execution_count": 5,
   "id": "52b6e837-5480-40ee-ae33-d577e4bd46cb",
   "metadata": {},
   "outputs": [
    {
     "data": {
      "text/plain": [
       "Prediction(\n",
       "    reasoning=\"Cal O'Ree's weight loss each week is $1\\\\%$ of his weight at the end of the previous week. This means that at the end of each week, he will weigh $99\\\\%$ of his weight from the previous week. \\n\\nWe can express this mathematically. If \\\\( W_0 \\\\) is his initial weight, then his weight at the end of week \\\\( n \\\\) can be calculated using the formula:\\n\\n\\\\[\\nW_n = W_0 \\\\times (0.99)^n\\n\\\\]\\n\\nwhere \\\\( n \\\\) is the number of weeks. \\n\\nGiven that \\\\( W_0 = 244 \\\\) pounds and \\\\( n = 10 \\\\):\\n\\n\\\\[\\nW_{10} = 244 \\\\times (0.99)^{10}\\n\\\\]\\n\\nNow we calculate \\\\( (0.99)^{10} \\\\):\\n\\n\\\\[\\n(0.99)^{10} \\\\approx 0.904382\\n\\\\]\\n\\nNow we can calculate \\\\( W_{10} \\\\):\\n\\n\\\\[\\nW_{10} \\\\approx 244 \\\\times 0.904382 \\\\approx 220.5\\n\\\\]\\n\\nRounding to the nearest whole number, Cal O'Ree can expect to weigh approximately \\\\( 221 \\\\) pounds at the end of the ten weeks.\",\n",
       "    answer='221'\n",
       ")"
      ]
     },
     "execution_count": 5,
     "metadata": {},
     "output_type": "execute_result"
    }
   ],
   "source": [
    "# Extremely simple CoT module\n",
    "\n",
    "module = dspy.ChainOfThought(\"question -> answer\")\n",
    "module(question=example.question)"
   ]
  },
  {
   "cell_type": "code",
   "execution_count": 7,
   "id": "1900d942-4fc6-43e6-952e-939f2561bae8",
   "metadata": {},
   "outputs": [
    {
     "name": "stdout",
     "output_type": "stream",
     "text": [
      "\n",
      "\n",
      "\n",
      "\n",
      "\u001b[34m[2024-12-01T15:16:53.346675]\u001b[0m\n",
      "\n",
      "\u001b[31mSystem message:\u001b[0m\n",
      "\n",
      "Your input fields are:\n",
      "1. `question` (str)\n",
      "\n",
      "Your output fields are:\n",
      "1. `reasoning` (str)\n",
      "2. `answer` (str)\n",
      "\n",
      "All interactions will be structured in the following way, with the appropriate values filled in.\n",
      "\n",
      "[[ ## question ## ]]\n",
      "{question}\n",
      "\n",
      "[[ ## reasoning ## ]]\n",
      "{reasoning}\n",
      "\n",
      "[[ ## answer ## ]]\n",
      "{answer}\n",
      "\n",
      "[[ ## completed ## ]]\n",
      "\n",
      "In adhering to this structure, your objective is: \n",
      "        Given the fields `question`, produce the fields `answer`.\n",
      "\n",
      "\n",
      "\u001b[31mUser message:\u001b[0m\n",
      "\n",
      "[[ ## question ## ]]\n",
      "At 50 miles per hour, how far would a car travel in $2\\frac{3}{4}$ hours? Express your answer as a mixed number.\n",
      "\n",
      "Respond with the corresponding output fields, starting with the field `[[ ## reasoning ## ]]`, then `[[ ## answer ## ]]`, and then ending with the marker for `[[ ## completed ## ]]`.\n",
      "\n",
      "\n",
      "\u001b[31mResponse:\u001b[0m\n",
      "\n",
      "\u001b[32m[[ ## reasoning ## ]]\n",
      "To find the distance traveled by the car, we can use the formula: \n",
      "\n",
      "Distance = Speed × Time.\n",
      "\n",
      "Here, the speed of the car is 50 miles per hour, and the time is \\(2\\frac{3}{4}\\) hours. First, we need to convert the mixed number \\(2\\frac{3}{4}\\) into an improper fraction:\n",
      "\n",
      "\\[\n",
      "2\\frac{3}{4} = 2 + \\frac{3}{4} = \\frac{8}{4} + \\frac{3}{4} = \\frac{11}{4} \\text{ hours}.\n",
      "\\]\n",
      "\n",
      "Now, we can calculate the distance:\n",
      "\n",
      "\\[\n",
      "\\text{Distance} = 50 \\text{ miles/hour} \\times \\frac{11}{4} \\text{ hours} = \\frac{50 \\times 11}{4} = \\frac{550}{4} \\text{ miles}.\n",
      "\\]\n",
      "\n",
      "Next, we simplify \\(\\frac{550}{4}\\):\n",
      "\n",
      "\\[\n",
      "\\frac{550}{4} = 137.5 \\text{ miles}.\n",
      "\\]\n",
      "\n",
      "To express this as a mixed number, we note that \\(137.5\\) can be written as:\n",
      "\n",
      "\\[\n",
      "137.5 = 137 + 0.5 = 137 + \\frac{1}{2} = 137\\frac{1}{2}.\n",
      "\\]\n",
      "\n",
      "Thus, the distance traveled by the car is \\(137\\frac{1}{2}\\) miles.\n",
      "\n",
      "[[ ## answer ## ]]\n",
      "137\\frac{1}{2}\n",
      "\n",
      "[[ ## completed ## ]]\u001b[0m\n",
      "\n",
      "\n",
      "\n",
      "\n",
      "\n"
     ]
    }
   ],
   "source": [
    "# Inspect the last N prompts\n",
    "dspy.inspect_history(n=1)"
   ]
  },
  {
   "cell_type": "code",
   "execution_count": 6,
   "id": "c524133b-d6f2-43a5-ae56-c2cc589028ef",
   "metadata": {},
   "outputs": [
    {
     "name": "stdout",
     "output_type": "stream",
     "text": [
      "Average Metric: 255.00 / 350 (72.9%): 100%|██████████████████████████████████████████████████████████████████████████████████████████████| 350/350 [01:46<00:00,  3.30it/s]"
     ]
    },
    {
     "name": "stderr",
     "output_type": "stream",
     "text": [
      "2024/12/01 15:16:53 INFO dspy.evaluate.evaluate: Average Metric: 255 / 350 (72.9%)\n"
     ]
    },
    {
     "name": "stdout",
     "output_type": "stream",
     "text": [
      "\n"
     ]
    },
    {
     "data": {
      "text/html": [
       "<div>\n",
       "<style scoped>\n",
       "    .dataframe tbody tr th:only-of-type {\n",
       "        vertical-align: middle;\n",
       "    }\n",
       "\n",
       "    .dataframe tbody tr th {\n",
       "        vertical-align: top;\n",
       "    }\n",
       "\n",
       "    .dataframe thead th {\n",
       "        text-align: right;\n",
       "    }\n",
       "</style>\n",
       "<table border=\"1\" class=\"dataframe\">\n",
       "  <thead>\n",
       "    <tr style=\"text-align: right;\">\n",
       "      <th></th>\n",
       "      <th>question</th>\n",
       "      <th>example_reasoning</th>\n",
       "      <th>example_answer</th>\n",
       "      <th>pred_reasoning</th>\n",
       "      <th>pred_answer</th>\n",
       "      <th>method</th>\n",
       "    </tr>\n",
       "  </thead>\n",
       "  <tbody>\n",
       "    <tr>\n",
       "      <th>0</th>\n",
       "      <td>What is the smallest integer value of $c$ such that the function $...</td>\n",
       "      <td>The given function has a domain of all real numbers if and only if...</td>\n",
       "      <td>1</td>\n",
       "      <td>To determine the smallest integer value of \\( c \\) such that the f...</td>\n",
       "      <td>1</td>\n",
       "      <td>✔️ [True]</td>\n",
       "    </tr>\n",
       "    <tr>\n",
       "      <th>1</th>\n",
       "      <td>What is the least value of $x$ that is a solution of $|{-x+3}|=7$?</td>\n",
       "      <td>In order to have $|{-x+3}| = 7$, we must have $-x + 3 = 7$ or $-x ...</td>\n",
       "      <td>-4</td>\n",
       "      <td>To solve the equation \\( |{-x+3}|=7 \\), we need to consider the tw...</td>\n",
       "      <td>-4</td>\n",
       "      <td>✔️ [True]</td>\n",
       "    </tr>\n",
       "    <tr>\n",
       "      <th>2</th>\n",
       "      <td>Evaluate $\\left\\lceil -\\frac{7}{4}\\right\\rceil$.</td>\n",
       "      <td>$-\\frac{7}{4}$ is between $-1$ and $-2$, so $\\left\\lceil -\\frac{7}...</td>\n",
       "      <td>-1</td>\n",
       "      <td>To evaluate \\(\\left\\lceil -\\frac{7}{4}\\right\\rceil\\), we first nee...</td>\n",
       "      <td>-1</td>\n",
       "      <td>✔️ [True]</td>\n",
       "    </tr>\n",
       "    <tr>\n",
       "      <th>3</th>\n",
       "      <td>A triangle has vertices at coordinates $(11,1)$, $(2,3)$ and $(3,7...</td>\n",
       "      <td>We must find the distance between each pair of points by using the...</td>\n",
       "      <td>10</td>\n",
       "      <td>To find the length of the longest side of the triangle with vertic...</td>\n",
       "      <td>10</td>\n",
       "      <td>✔️ [True]</td>\n",
       "    </tr>\n",
       "    <tr>\n",
       "      <th>4</th>\n",
       "      <td>Let $f(x) = x + 2$ and $g(x) = 1/f(x)$. What is $g(f(-3))$?</td>\n",
       "      <td>First, we find that $f(-3) = (-3) + 2 = -1$. Then, $$g(f(-3)) = g(...</td>\n",
       "      <td>1</td>\n",
       "      <td>To find \\( g(f(-3)) \\), we first need to evaluate \\( f(-3) \\). The...</td>\n",
       "      <td>1</td>\n",
       "      <td>✔️ [True]</td>\n",
       "    </tr>\n",
       "  </tbody>\n",
       "</table>\n",
       "</div>"
      ],
      "text/plain": [
       "                                                                question  \\\n",
       "0  What is the smallest integer value of $c$ such that the function $...   \n",
       "1     What is the least value of $x$ that is a solution of $|{-x+3}|=7$?   \n",
       "2                       Evaluate $\\left\\lceil -\\frac{7}{4}\\right\\rceil$.   \n",
       "3  A triangle has vertices at coordinates $(11,1)$, $(2,3)$ and $(3,7...   \n",
       "4            Let $f(x) = x + 2$ and $g(x) = 1/f(x)$. What is $g(f(-3))$?   \n",
       "\n",
       "                                                       example_reasoning  \\\n",
       "0  The given function has a domain of all real numbers if and only if...   \n",
       "1  In order to have $|{-x+3}| = 7$, we must have $-x + 3 = 7$ or $-x ...   \n",
       "2  $-\\frac{7}{4}$ is between $-1$ and $-2$, so $\\left\\lceil -\\frac{7}...   \n",
       "3  We must find the distance between each pair of points by using the...   \n",
       "4  First, we find that $f(-3) = (-3) + 2 = -1$. Then, $$g(f(-3)) = g(...   \n",
       "\n",
       "  example_answer  \\\n",
       "0              1   \n",
       "1             -4   \n",
       "2             -1   \n",
       "3             10   \n",
       "4              1   \n",
       "\n",
       "                                                          pred_reasoning  \\\n",
       "0  To determine the smallest integer value of \\( c \\) such that the f...   \n",
       "1  To solve the equation \\( |{-x+3}|=7 \\), we need to consider the tw...   \n",
       "2  To evaluate \\(\\left\\lceil -\\frac{7}{4}\\right\\rceil\\), we first nee...   \n",
       "3  To find the length of the longest side of the triangle with vertic...   \n",
       "4  To find \\( g(f(-3)) \\), we first need to evaluate \\( f(-3) \\). The...   \n",
       "\n",
       "  pred_answer     method  \n",
       "0           1  ✔️ [True]  \n",
       "1          -4  ✔️ [True]  \n",
       "2          -1  ✔️ [True]  \n",
       "3          10  ✔️ [True]  \n",
       "4           1  ✔️ [True]  "
      ]
     },
     "metadata": {},
     "output_type": "display_data"
    },
    {
     "data": {
      "text/html": [
       "\n",
       "                <div style='\n",
       "                    text-align: center;\n",
       "                    font-size: 16px;\n",
       "                    font-weight: bold;\n",
       "                    color: #555;\n",
       "                    margin: 10px 0;'>\n",
       "                    ... 345 more rows not displayed ...\n",
       "                </div>\n",
       "                "
      ],
      "text/plain": [
       "<IPython.core.display.HTML object>"
      ]
     },
     "metadata": {},
     "output_type": "display_data"
    },
    {
     "data": {
      "text/plain": [
       "72.86"
      ]
     },
     "execution_count": 6,
     "metadata": {},
     "output_type": "execute_result"
    }
   ],
   "source": [
    "#  set up an evaluator for the zero-shot module above, before prompt optimization.\n",
    "\n",
    "THREADS = 24\n",
    "kwargs = dict(num_threads=THREADS, display_progress=True, display_table=5)\n",
    "evaluate = dspy.Evaluate(devset=dataset.dev, metric=dataset.metric, **kwargs)\n",
    "\n",
    "evaluate(module)"
   ]
  },
  {
   "cell_type": "code",
   "execution_count": 11,
   "id": "deb1ca01-44dd-4430-af04-6efa76d6aec1",
   "metadata": {},
   "outputs": [
    {
     "name": "stderr",
     "output_type": "stream",
     "text": [
      "2024/12/01 16:36:07 INFO dspy.teleprompt.mipro_optimizer_v2: \n",
      "RUNNING WITH THE FOLLOWING MEDIUM AUTO RUN SETTINGS:\n",
      "num_trials: 25\n",
      "minibatch: True\n",
      "num_candidates: 19\n",
      "valset size: 280\n",
      "\n",
      "2024/12/01 16:36:07 INFO dspy.teleprompt.mipro_optimizer_v2: \n",
      "==> STEP 1: BOOTSTRAP FEWSHOT EXAMPLES <==\n",
      "2024/12/01 16:36:07 INFO dspy.teleprompt.mipro_optimizer_v2: These will be used as few-shot example candidates for our program and for creating instructions.\n",
      "\n",
      "2024/12/01 16:36:07 INFO dspy.teleprompt.mipro_optimizer_v2: Bootstrapping N=19 sets of demonstrations...\n"
     ]
    },
    {
     "name": "stdout",
     "output_type": "stream",
     "text": [
      "Bootstrapping set 1/19\n",
      "Bootstrapping set 2/19\n",
      "Bootstrapping set 3/19\n"
     ]
    },
    {
     "name": "stderr",
     "output_type": "stream",
     "text": [
      "  7%|█████████▌                                                                                                                            | 5/70 [00:00<00:00, 578.99it/s]\n"
     ]
    },
    {
     "name": "stdout",
     "output_type": "stream",
     "text": [
      "Bootstrapped 4 full traces after 5 examples for up to 1 rounds, amounting to 5 attempts.\n",
      "Bootstrapping set 4/19\n"
     ]
    },
    {
     "name": "stderr",
     "output_type": "stream",
     "text": [
      "  6%|███████▋                                                                                                                              | 4/70 [00:00<00:00, 798.38it/s]\n"
     ]
    },
    {
     "name": "stdout",
     "output_type": "stream",
     "text": [
      "Bootstrapped 4 full traces after 4 examples for up to 1 rounds, amounting to 4 attempts.\n",
      "Bootstrapping set 5/19\n"
     ]
    },
    {
     "name": "stderr",
     "output_type": "stream",
     "text": [
      "  6%|███████▋                                                                                                                              | 4/70 [00:00<00:00, 890.32it/s]\n"
     ]
    },
    {
     "name": "stdout",
     "output_type": "stream",
     "text": [
      "Bootstrapped 3 full traces after 4 examples for up to 1 rounds, amounting to 4 attempts.\n",
      "Bootstrapping set 6/19\n"
     ]
    },
    {
     "name": "stderr",
     "output_type": "stream",
     "text": [
      "  6%|███████▋                                                                                                                              | 4/70 [00:00<00:00, 715.57it/s]\n"
     ]
    },
    {
     "name": "stdout",
     "output_type": "stream",
     "text": [
      "Bootstrapped 4 full traces after 4 examples for up to 1 rounds, amounting to 4 attempts.\n",
      "Bootstrapping set 7/19\n"
     ]
    },
    {
     "name": "stderr",
     "output_type": "stream",
     "text": [
      "  7%|█████████▌                                                                                                                            | 5/70 [00:00<00:00, 855.70it/s]\n"
     ]
    },
    {
     "name": "stdout",
     "output_type": "stream",
     "text": [
      "Bootstrapped 4 full traces after 5 examples for up to 1 rounds, amounting to 5 attempts.\n",
      "Bootstrapping set 8/19\n"
     ]
    },
    {
     "name": "stderr",
     "output_type": "stream",
     "text": [
      "  1%|█▉                                                                                                                                    | 1/70 [00:00<00:00, 710.30it/s]\n"
     ]
    },
    {
     "name": "stdout",
     "output_type": "stream",
     "text": [
      "Bootstrapped 1 full traces after 1 examples for up to 1 rounds, amounting to 1 attempts.\n",
      "Bootstrapping set 9/19\n"
     ]
    },
    {
     "name": "stderr",
     "output_type": "stream",
     "text": [
      "  3%|███▊                                                                                                                                  | 2/70 [00:00<00:00, 831.13it/s]\n"
     ]
    },
    {
     "name": "stdout",
     "output_type": "stream",
     "text": [
      "Bootstrapped 2 full traces after 2 examples for up to 1 rounds, amounting to 2 attempts.\n",
      "Bootstrapping set 10/19\n"
     ]
    },
    {
     "name": "stderr",
     "output_type": "stream",
     "text": [
      "  6%|███████▋                                                                                                                              | 4/70 [00:00<00:00, 861.87it/s]\n"
     ]
    },
    {
     "name": "stdout",
     "output_type": "stream",
     "text": [
      "Bootstrapped 3 full traces after 4 examples for up to 1 rounds, amounting to 4 attempts.\n",
      "Bootstrapping set 11/19\n"
     ]
    },
    {
     "name": "stderr",
     "output_type": "stream",
     "text": [
      "  1%|█▉                                                                                                                                    | 1/70 [00:00<00:00, 680.67it/s]\n"
     ]
    },
    {
     "name": "stdout",
     "output_type": "stream",
     "text": [
      "Bootstrapped 1 full traces after 1 examples for up to 1 rounds, amounting to 1 attempts.\n",
      "Bootstrapping set 12/19\n"
     ]
    },
    {
     "name": "stderr",
     "output_type": "stream",
     "text": [
      "  4%|█████▋                                                                                                                                | 3/70 [00:00<00:00, 927.67it/s]\n"
     ]
    },
    {
     "name": "stdout",
     "output_type": "stream",
     "text": [
      "Bootstrapped 2 full traces after 3 examples for up to 1 rounds, amounting to 3 attempts.\n",
      "Bootstrapping set 13/19\n"
     ]
    },
    {
     "name": "stderr",
     "output_type": "stream",
     "text": [
      "  1%|█▉                                                                                                                                    | 1/70 [00:00<00:00, 812.53it/s]\n"
     ]
    },
    {
     "name": "stdout",
     "output_type": "stream",
     "text": [
      "Bootstrapped 1 full traces after 1 examples for up to 1 rounds, amounting to 1 attempts.\n",
      "Bootstrapping set 14/19\n"
     ]
    },
    {
     "name": "stderr",
     "output_type": "stream",
     "text": [
      "  7%|█████████▌                                                                                                                            | 5/70 [00:00<00:00, 977.74it/s]\n"
     ]
    },
    {
     "name": "stdout",
     "output_type": "stream",
     "text": [
      "Bootstrapped 4 full traces after 5 examples for up to 1 rounds, amounting to 5 attempts.\n",
      "Bootstrapping set 15/19\n"
     ]
    },
    {
     "name": "stderr",
     "output_type": "stream",
     "text": [
      "  1%|█▉                                                                                                                                    | 1/70 [00:00<00:00, 956.95it/s]\n"
     ]
    },
    {
     "name": "stdout",
     "output_type": "stream",
     "text": [
      "Bootstrapped 1 full traces after 1 examples for up to 1 rounds, amounting to 1 attempts.\n",
      "Bootstrapping set 16/19\n"
     ]
    },
    {
     "name": "stderr",
     "output_type": "stream",
     "text": [
      "  3%|███▊                                                                                                                                  | 2/70 [00:00<00:00, 850.43it/s]\n"
     ]
    },
    {
     "name": "stdout",
     "output_type": "stream",
     "text": [
      "Bootstrapped 2 full traces after 2 examples for up to 1 rounds, amounting to 2 attempts.\n",
      "Bootstrapping set 17/19\n"
     ]
    },
    {
     "name": "stderr",
     "output_type": "stream",
     "text": [
      "  1%|█▉                                                                                                                                    | 1/70 [00:00<00:00, 880.97it/s]\n"
     ]
    },
    {
     "name": "stdout",
     "output_type": "stream",
     "text": [
      "Bootstrapped 1 full traces after 1 examples for up to 1 rounds, amounting to 1 attempts.\n",
      "Bootstrapping set 18/19\n"
     ]
    },
    {
     "name": "stderr",
     "output_type": "stream",
     "text": [
      "  1%|█▉                                                                                                                                     | 1/70 [00:00<00:01, 67.19it/s]\n"
     ]
    },
    {
     "name": "stdout",
     "output_type": "stream",
     "text": [
      "Bootstrapped 1 full traces after 1 examples for up to 1 rounds, amounting to 1 attempts.\n",
      "Bootstrapping set 19/19\n"
     ]
    },
    {
     "name": "stderr",
     "output_type": "stream",
     "text": [
      "  3%|███▊                                                                                                                                  | 2/70 [00:00<00:00, 720.73it/s]\n",
      "2024/12/01 16:36:07 INFO dspy.teleprompt.mipro_optimizer_v2: \n",
      "==> STEP 2: PROPOSE INSTRUCTION CANDIDATES <==\n",
      "2024/12/01 16:36:07 INFO dspy.teleprompt.mipro_optimizer_v2: We will use the few-shot examples from the previous step, a generated dataset summary, a summary of the program code, and a randomly selected prompting tip to propose instructions.\n",
      "2024/12/01 16:36:07 INFO dspy.teleprompt.mipro_optimizer_v2: \n",
      "Proposing instructions...\n",
      "\n",
      "2024/12/01 16:36:07 INFO dspy.teleprompt.mipro_optimizer_v2: Proposed Instructions for Predictor 0:\n",
      "\n",
      "2024/12/01 16:36:07 INFO dspy.teleprompt.mipro_optimizer_v2: 0: Given the fields `question`, produce the fields `answer`.\n",
      "\n",
      "2024/12/01 16:36:07 INFO dspy.teleprompt.mipro_optimizer_v2: 1: You are a mathematics tutor. Given the field `question`, provide a detailed step-by-step reasoning process and produce the corresponding `answer`.\n",
      "\n",
      "2024/12/01 16:36:07 INFO dspy.teleprompt.mipro_optimizer_v2: 2: You are a mathematics tutor. Given the fields `question`, provide a detailed step-by-step reasoning to arrive at the `answer`.\n",
      "\n",
      "2024/12/01 16:36:07 INFO dspy.teleprompt.mipro_optimizer_v2: 3: Using the provided `question`, thoroughly explain the reasoning process step-by-step to derive the final `answer`. Ensure clarity and precision in your explanation, and present the answer in a clear and user-friendly format.\n",
      "\n",
      "2024/12/01 16:36:07 INFO dspy.teleprompt.mipro_optimizer_v2: 4: You are a math tutor. Given the field `question`, provide a detailed step-by-step reasoning process and produce the field `answer` that accurately solves the problem.\n",
      "\n",
      "2024/12/01 16:36:07 INFO dspy.teleprompt.mipro_optimizer_v2: 5: Using the provided `question`, please generate a detailed `reasoning` process that breaks down the steps taken to arrive at the `answer`. Ensure that the reasoning is clear and systematic, guiding the reader through the logical progression of solving the mathematical problem.\n",
      "\n",
      "2024/12/01 16:36:07 INFO dspy.teleprompt.mipro_optimizer_v2: 6: Given a mathematical question, provide a detailed reasoning process that breaks down the solution step by step, and then present the final answer clearly.\n",
      "\n",
      "2024/12/01 16:36:07 INFO dspy.teleprompt.mipro_optimizer_v2: 7: You are a mathematics tutor. Given the field `question`, carefully analyze it and produce the fields `reasoning` and `answer` by explaining the steps taken to solve the problem in a clear and structured manner.\n",
      "\n",
      "2024/12/01 16:36:07 INFO dspy.teleprompt.mipro_optimizer_v2: 8: Given a mathematical question, provide a detailed step-by-step reasoning process that leads to the final answer. Ensure that each step is clearly articulated and that the answer is presented in a precise format.\n",
      "\n",
      "2024/12/01 16:36:08 INFO dspy.teleprompt.mipro_optimizer_v2: 9: Using the provided `question`, please generate a comprehensive `reasoning` explanation that breaks down the problem step-by-step, and conclude with the final `answer`. Make sure to clearly articulate each step to enhance understanding for learners.\n",
      "\n",
      "2024/12/01 16:36:08 INFO dspy.teleprompt.mipro_optimizer_v2: 10: Using the provided `question`, break down the problem into manageable steps and clearly explain the reasoning behind each step. After evaluating all possible cases, provide the final answer that meets any specified conditions. Ensure that your explanation is thorough and easy to understand.\n",
      "\n",
      "2024/12/01 16:36:08 INFO dspy.teleprompt.mipro_optimizer_v2: 11: Using the provided `question`, please generate a detailed `reasoning` process that breaks down the solution step-by-step, and then provide the final `answer` to the mathematical problem. Ensure that the reasoning is clear and educational, helping the user understand how to approach similar problems in the future.\n",
      "\n",
      "2024/12/01 16:36:08 INFO dspy.teleprompt.mipro_optimizer_v2: 12: Given a mathematical problem stated in the `question`, provide a detailed `reasoning` process that explains the steps taken to arrive at the `answer`. Ensure clarity by breaking down the calculations and logic involved.\n",
      "\n",
      "2024/12/01 16:36:08 INFO dspy.teleprompt.mipro_optimizer_v2: 13: Imagine you are a mathematician in a high-stakes mathematics competition where you must solve complex problems to win. Given the mathematical `question`, provide a detailed step-by-step `reasoning` process that leads to the correct `answer`. Ensure clarity and precision in your solution to maximize your chances of success.\n",
      "\n",
      "2024/12/01 16:36:08 INFO dspy.teleprompt.mipro_optimizer_v2: 14: Imagine you are a mathematician tasked with solving a critical problem that could impact a major project. You need to determine the value of $x$ based on the ratio of $x$ to $y$, which is $1$ to $2$. Additionally, you know that $y$ can be expressed as $4x - 36$. With this information, provide a detailed step-by-step reasoning process to arrive at the value of $x$, and present your final answer clearly.\n",
      "\n",
      "2024/12/01 16:36:08 INFO dspy.teleprompt.mipro_optimizer_v2: 15: Given the mathematical `question`, provide a detailed `reasoning` process that breaks down the problem step-by-step, and then produce the final `answer` based on your reasoning.\n",
      "\n",
      "2024/12/01 16:36:08 INFO dspy.teleprompt.mipro_optimizer_v2: 16: Imagine you are a math tutor helping a student who is struggling with arithmetic sequences. The student has presented you with a challenging question about an arithmetic sequence involving the first and ninth terms. Your task is to guide the student through a detailed reasoning process step by step, ultimately arriving at the correct answer. Given the question, produce a structured answer along with clear reasoning that explains how you arrived at the solution.\n",
      "\n",
      "2024/12/01 16:36:08 INFO dspy.teleprompt.mipro_optimizer_v2: 17: Given a mathematical problem stated in the `question`, provide a detailed step-by-step explanation in the `reasoning` field that leads to the final result, which should be presented in the `answer` field. Make sure to include any relevant formulas and apply Vieta's formulas appropriately to calculate the sum of the reciprocals of the roots of the quadratic equation. Your response should clearly format the question, reasoning, and answer for clarity and understanding.\n",
      "\n",
      "2024/12/01 16:36:08 INFO dspy.teleprompt.mipro_optimizer_v2: 18: Using the provided `question`, analyze the mathematical scenario, and articulate a detailed reasoning process to arrive at the final `answer`. Ensure that your explanation is clear and follows a logical sequence, demonstrating how you apply mathematical principles to solve the problem.\n",
      "\n",
      "2024/12/01 16:36:08 INFO dspy.teleprompt.mipro_optimizer_v2: \n",
      "\n",
      "2024/12/01 16:36:08 INFO dspy.teleprompt.mipro_optimizer_v2: Evaluating the default program...\n",
      "\n"
     ]
    },
    {
     "name": "stdout",
     "output_type": "stream",
     "text": [
      "Bootstrapped 1 full traces after 2 examples for up to 1 rounds, amounting to 2 attempts.\n",
      "Average Metric: 99.00 / 109 (90.8%):  42%|████████████████████████████████████████                                                       | 118/280 [23:30<32:16, 11.95s/it]\n",
      "Average Metric: 55.00 / 66 (83.3%):  27%|█████████████████████████▉                                                                       | 75/280 [21:26<58:35, 17.15s/it]\n",
      "Average Metric: 189.00 / 280 (67.5%): 100%|████████████████████████████████████████████████████████████████████████████████████████████| 280/280 [00:00<00:00, 2490.93it/s]"
     ]
    },
    {
     "name": "stderr",
     "output_type": "stream",
     "text": [
      "2024/12/01 16:36:08 INFO dspy.evaluate.evaluate: Average Metric: 189 / 280 (67.5%)\n",
      "2024/12/01 16:36:08 INFO dspy.teleprompt.mipro_optimizer_v2: Default program score: 67.5\n",
      "\n",
      "2024/12/01 16:36:08 INFO dspy.teleprompt.mipro_optimizer_v2: ==> STEP 3: FINDING OPTIMAL PROMPT PARAMETERS <==\n",
      "2024/12/01 16:36:08 INFO dspy.teleprompt.mipro_optimizer_v2: We will evaluate the program over a series of trials with different combinations of instructions and few-shot examples to find the optimal combination using Bayesian Optimization.\n",
      "\n",
      "/Users/arunesh/github/llm_agents/.venv_1/lib/python3.11/site-packages/optuna/_experimental.py:31: ExperimentalWarning: Argument ``multivariate`` is an experimental feature. The interface can change in the future.\n",
      "  warnings.warn(\n",
      "2024/12/01 16:36:08 INFO dspy.teleprompt.mipro_optimizer_v2: == Minibatch Trial 1 / 25 ==\n"
     ]
    },
    {
     "name": "stdout",
     "output_type": "stream",
     "text": [
      "\n",
      "Average Metric: 18.00 / 25 (72.0%): 100%|████████████████████████████████████████████████████████████████████████████████████████████████| 25/25 [00:00<00:00, 2768.59it/s]"
     ]
    },
    {
     "name": "stderr",
     "output_type": "stream",
     "text": [
      "2024/12/01 16:36:08 INFO dspy.evaluate.evaluate: Average Metric: 18 / 25 (72.0%)\n",
      "2024/12/01 16:36:08 INFO dspy.teleprompt.mipro_optimizer_v2: Score: 72.0 on minibatch of size 25 with parameters ['Predictor 0: Instruction 12', 'Predictor 0: Few-Shot Set 7'].\n",
      "2024/12/01 16:36:08 INFO dspy.teleprompt.mipro_optimizer_v2: Minibatch scores so far: [72.0]\n",
      "2024/12/01 16:36:08 INFO dspy.teleprompt.mipro_optimizer_v2: Full eval scores so far: [67.5]\n",
      "2024/12/01 16:36:08 INFO dspy.teleprompt.mipro_optimizer_v2: Best full score so far: 67.5\n",
      "2024/12/01 16:36:08 INFO dspy.teleprompt.mipro_optimizer_v2: ============================\n",
      "\n",
      "\n",
      "2024/12/01 16:36:08 INFO dspy.teleprompt.mipro_optimizer_v2: == Minibatch Trial 2 / 25 ==\n"
     ]
    },
    {
     "name": "stdout",
     "output_type": "stream",
     "text": [
      "\n",
      "Average Metric: 23.00 / 25 (92.0%): 100%|████████████████████████████████████████████████████████████████████████████████████████████████| 25/25 [00:00<00:00, 2984.00it/s]"
     ]
    },
    {
     "name": "stderr",
     "output_type": "stream",
     "text": [
      "2024/12/01 16:36:08 INFO dspy.evaluate.evaluate: Average Metric: 23 / 25 (92.0%)\n",
      "2024/12/01 16:36:08 INFO dspy.teleprompt.mipro_optimizer_v2: Score: 92.0 on minibatch of size 25 with parameters ['Predictor 0: Instruction 10', 'Predictor 0: Few-Shot Set 7'].\n",
      "2024/12/01 16:36:08 INFO dspy.teleprompt.mipro_optimizer_v2: Minibatch scores so far: [72.0, 92.0]\n",
      "2024/12/01 16:36:08 INFO dspy.teleprompt.mipro_optimizer_v2: Full eval scores so far: [67.5]\n",
      "2024/12/01 16:36:08 INFO dspy.teleprompt.mipro_optimizer_v2: Best full score so far: 67.5\n",
      "2024/12/01 16:36:08 INFO dspy.teleprompt.mipro_optimizer_v2: ============================\n",
      "\n",
      "\n",
      "2024/12/01 16:36:08 INFO dspy.teleprompt.mipro_optimizer_v2: == Minibatch Trial 3 / 25 ==\n"
     ]
    },
    {
     "name": "stdout",
     "output_type": "stream",
     "text": [
      "\n",
      "Average Metric: 21.00 / 25 (84.0%): 100%|████████████████████████████████████████████████████████████████████████████████████████████████| 25/25 [00:00<00:00, 3124.30it/s]\n"
     ]
    },
    {
     "name": "stderr",
     "output_type": "stream",
     "text": [
      "2024/12/01 16:36:08 INFO dspy.evaluate.evaluate: Average Metric: 21 / 25 (84.0%)\n",
      "2024/12/01 16:36:08 INFO dspy.teleprompt.mipro_optimizer_v2: Score: 84.0 on minibatch of size 25 with parameters ['Predictor 0: Instruction 7', 'Predictor 0: Few-Shot Set 18'].\n",
      "2024/12/01 16:36:08 INFO dspy.teleprompt.mipro_optimizer_v2: Minibatch scores so far: [72.0, 92.0, 84.0]\n",
      "2024/12/01 16:36:08 INFO dspy.teleprompt.mipro_optimizer_v2: Full eval scores so far: [67.5]\n",
      "2024/12/01 16:36:08 INFO dspy.teleprompt.mipro_optimizer_v2: Best full score so far: 67.5\n",
      "2024/12/01 16:36:08 INFO dspy.teleprompt.mipro_optimizer_v2: ============================\n",
      "\n",
      "\n",
      "2024/12/01 16:36:08 INFO dspy.teleprompt.mipro_optimizer_v2: == Minibatch Trial 4 / 25 ==\n"
     ]
    },
    {
     "name": "stdout",
     "output_type": "stream",
     "text": [
      "Average Metric: 21.00 / 25 (84.0%): 100%|████████████████████████████████████████████████████████████████████████████████████████████████| 25/25 [00:00<00:00, 2453.61it/s]\n"
     ]
    },
    {
     "name": "stderr",
     "output_type": "stream",
     "text": [
      "2024/12/01 16:36:08 INFO dspy.evaluate.evaluate: Average Metric: 21 / 25 (84.0%)\n",
      "2024/12/01 16:36:08 INFO dspy.teleprompt.mipro_optimizer_v2: Score: 84.0 on minibatch of size 25 with parameters ['Predictor 0: Instruction 15', 'Predictor 0: Few-Shot Set 2'].\n",
      "2024/12/01 16:36:08 INFO dspy.teleprompt.mipro_optimizer_v2: Minibatch scores so far: [72.0, 92.0, 84.0, 84.0]\n",
      "2024/12/01 16:36:08 INFO dspy.teleprompt.mipro_optimizer_v2: Full eval scores so far: [67.5]\n",
      "2024/12/01 16:36:08 INFO dspy.teleprompt.mipro_optimizer_v2: Best full score so far: 67.5\n",
      "2024/12/01 16:36:08 INFO dspy.teleprompt.mipro_optimizer_v2: ============================\n",
      "\n",
      "\n",
      "2024/12/01 16:36:08 INFO dspy.teleprompt.mipro_optimizer_v2: == Minibatch Trial 5 / 25 ==\n"
     ]
    },
    {
     "name": "stdout",
     "output_type": "stream",
     "text": [
      "Average Metric: 22.00 / 25 (88.0%): 100%|████████████████████████████████████████████████████████████████████████████████████████████████| 25/25 [00:00<00:00, 1617.92it/s]\n"
     ]
    },
    {
     "name": "stderr",
     "output_type": "stream",
     "text": [
      "2024/12/01 16:36:08 INFO dspy.evaluate.evaluate: Average Metric: 22 / 25 (88.0%)\n",
      "2024/12/01 16:36:08 INFO dspy.teleprompt.mipro_optimizer_v2: Score: 88.0 on minibatch of size 25 with parameters ['Predictor 0: Instruction 8', 'Predictor 0: Few-Shot Set 18'].\n",
      "2024/12/01 16:36:08 INFO dspy.teleprompt.mipro_optimizer_v2: Minibatch scores so far: [72.0, 92.0, 84.0, 84.0, 88.0]\n",
      "2024/12/01 16:36:08 INFO dspy.teleprompt.mipro_optimizer_v2: Full eval scores so far: [67.5]\n",
      "2024/12/01 16:36:08 INFO dspy.teleprompt.mipro_optimizer_v2: Best full score so far: 67.5\n",
      "2024/12/01 16:36:08 INFO dspy.teleprompt.mipro_optimizer_v2: ============================\n",
      "\n",
      "\n",
      "2024/12/01 16:36:08 INFO dspy.teleprompt.mipro_optimizer_v2: == Minibatch Trial 6 / 25 ==\n"
     ]
    },
    {
     "name": "stdout",
     "output_type": "stream",
     "text": [
      "Average Metric: 24.00 / 25 (96.0%): 100%|████████████████████████████████████████████████████████████████████████████████████████████████| 25/25 [00:00<00:00, 1818.17it/s]\n"
     ]
    },
    {
     "name": "stderr",
     "output_type": "stream",
     "text": [
      "2024/12/01 16:36:08 INFO dspy.evaluate.evaluate: Average Metric: 24 / 25 (96.0%)\n",
      "2024/12/01 16:36:08 INFO dspy.teleprompt.mipro_optimizer_v2: Score: 96.0 on minibatch of size 25 with parameters ['Predictor 0: Instruction 7', 'Predictor 0: Few-Shot Set 1'].\n",
      "2024/12/01 16:36:08 INFO dspy.teleprompt.mipro_optimizer_v2: Minibatch scores so far: [72.0, 92.0, 84.0, 84.0, 88.0, 96.0]\n",
      "2024/12/01 16:36:08 INFO dspy.teleprompt.mipro_optimizer_v2: Full eval scores so far: [67.5]\n",
      "2024/12/01 16:36:08 INFO dspy.teleprompt.mipro_optimizer_v2: Best full score so far: 67.5\n",
      "2024/12/01 16:36:08 INFO dspy.teleprompt.mipro_optimizer_v2: ============================\n",
      "\n",
      "\n",
      "2024/12/01 16:36:08 INFO dspy.teleprompt.mipro_optimizer_v2: == Minibatch Trial 7 / 25 ==\n"
     ]
    },
    {
     "name": "stdout",
     "output_type": "stream",
     "text": [
      "Average Metric: 19.00 / 25 (76.0%): 100%|████████████████████████████████████████████████████████████████████████████████████████████████| 25/25 [00:00<00:00, 1826.28it/s]"
     ]
    },
    {
     "name": "stderr",
     "output_type": "stream",
     "text": [
      "2024/12/01 16:36:08 INFO dspy.evaluate.evaluate: Average Metric: 19 / 25 (76.0%)\n",
      "2024/12/01 16:36:08 INFO dspy.teleprompt.mipro_optimizer_v2: Score: 76.0 on minibatch of size 25 with parameters ['Predictor 0: Instruction 7', 'Predictor 0: Few-Shot Set 12'].\n",
      "2024/12/01 16:36:08 INFO dspy.teleprompt.mipro_optimizer_v2: Minibatch scores so far: [72.0, 92.0, 84.0, 84.0, 88.0, 96.0, 76.0]\n",
      "2024/12/01 16:36:08 INFO dspy.teleprompt.mipro_optimizer_v2: Full eval scores so far: [67.5]\n",
      "2024/12/01 16:36:08 INFO dspy.teleprompt.mipro_optimizer_v2: Best full score so far: 67.5\n",
      "2024/12/01 16:36:08 INFO dspy.teleprompt.mipro_optimizer_v2: ============================\n",
      "\n",
      "\n",
      "2024/12/01 16:36:08 INFO dspy.teleprompt.mipro_optimizer_v2: == Minibatch Trial 8 / 25 ==\n"
     ]
    },
    {
     "name": "stdout",
     "output_type": "stream",
     "text": [
      "\n",
      "Average Metric: 20.00 / 25 (80.0%): 100%|████████████████████████████████████████████████████████████████████████████████████████████████| 25/25 [00:00<00:00, 1624.52it/s]"
     ]
    },
    {
     "name": "stderr",
     "output_type": "stream",
     "text": [
      "2024/12/01 16:36:08 INFO dspy.evaluate.evaluate: Average Metric: 20 / 25 (80.0%)\n",
      "2024/12/01 16:36:08 INFO dspy.teleprompt.mipro_optimizer_v2: Score: 80.0 on minibatch of size 25 with parameters ['Predictor 0: Instruction 11', 'Predictor 0: Few-Shot Set 13'].\n",
      "2024/12/01 16:36:08 INFO dspy.teleprompt.mipro_optimizer_v2: Minibatch scores so far: [72.0, 92.0, 84.0, 84.0, 88.0, 96.0, 76.0, 80.0]\n",
      "2024/12/01 16:36:08 INFO dspy.teleprompt.mipro_optimizer_v2: Full eval scores so far: [67.5]\n",
      "2024/12/01 16:36:08 INFO dspy.teleprompt.mipro_optimizer_v2: Best full score so far: 67.5\n",
      "2024/12/01 16:36:08 INFO dspy.teleprompt.mipro_optimizer_v2: ============================\n",
      "\n",
      "\n",
      "2024/12/01 16:36:08 INFO dspy.teleprompt.mipro_optimizer_v2: == Minibatch Trial 9 / 25 ==\n"
     ]
    },
    {
     "name": "stdout",
     "output_type": "stream",
     "text": [
      "\n",
      "Average Metric: 23.00 / 25 (92.0%): 100%|████████████████████████████████████████████████████████████████████████████████████████████████| 25/25 [00:00<00:00, 1917.31it/s]"
     ]
    },
    {
     "name": "stderr",
     "output_type": "stream",
     "text": [
      "2024/12/01 16:36:08 INFO dspy.evaluate.evaluate: Average Metric: 23 / 25 (92.0%)\n",
      "2024/12/01 16:36:08 INFO dspy.teleprompt.mipro_optimizer_v2: Score: 92.0 on minibatch of size 25 with parameters ['Predictor 0: Instruction 5', 'Predictor 0: Few-Shot Set 4'].\n",
      "2024/12/01 16:36:08 INFO dspy.teleprompt.mipro_optimizer_v2: Minibatch scores so far: [72.0, 92.0, 84.0, 84.0, 88.0, 96.0, 76.0, 80.0, 92.0]\n",
      "2024/12/01 16:36:08 INFO dspy.teleprompt.mipro_optimizer_v2: Full eval scores so far: [67.5]\n",
      "2024/12/01 16:36:08 INFO dspy.teleprompt.mipro_optimizer_v2: Best full score so far: 67.5\n",
      "2024/12/01 16:36:08 INFO dspy.teleprompt.mipro_optimizer_v2: ============================\n",
      "\n",
      "\n",
      "2024/12/01 16:36:08 INFO dspy.teleprompt.mipro_optimizer_v2: == Minibatch Trial 10 / 25 ==\n"
     ]
    },
    {
     "name": "stdout",
     "output_type": "stream",
     "text": [
      "\n",
      "Average Metric: 22.00 / 25 (88.0%): 100%|████████████████████████████████████████████████████████████████████████████████████████████████| 25/25 [00:00<00:00, 3816.75it/s]"
     ]
    },
    {
     "name": "stderr",
     "output_type": "stream",
     "text": [
      "2024/12/01 16:36:08 INFO dspy.evaluate.evaluate: Average Metric: 22 / 25 (88.0%)\n",
      "2024/12/01 16:36:08 INFO dspy.teleprompt.mipro_optimizer_v2: Score: 88.0 on minibatch of size 25 with parameters ['Predictor 0: Instruction 14', 'Predictor 0: Few-Shot Set 1'].\n",
      "2024/12/01 16:36:08 INFO dspy.teleprompt.mipro_optimizer_v2: Minibatch scores so far: [72.0, 92.0, 84.0, 84.0, 88.0, 96.0, 76.0, 80.0, 92.0, 88.0]\n",
      "2024/12/01 16:36:08 INFO dspy.teleprompt.mipro_optimizer_v2: Full eval scores so far: [67.5]\n",
      "2024/12/01 16:36:08 INFO dspy.teleprompt.mipro_optimizer_v2: Best full score so far: 67.5\n",
      "2024/12/01 16:36:08 INFO dspy.teleprompt.mipro_optimizer_v2: =============================\n",
      "\n",
      "\n",
      "2024/12/01 16:36:08 INFO dspy.teleprompt.mipro_optimizer_v2: ===== Full Eval 1 =====\n",
      "2024/12/01 16:36:08 INFO dspy.teleprompt.mipro_optimizer_v2: Doing full eval on next top averaging program (Avg Score: 96.0) from minibatch trials...\n"
     ]
    },
    {
     "name": "stdout",
     "output_type": "stream",
     "text": [
      "\n",
      "Average Metric: 242.00 / 280 (86.4%): 100%|██████████████████████████████████████████████████████████████████████████████████████████████| 280/280 [04:55<00:00,  1.06s/it]"
     ]
    },
    {
     "name": "stderr",
     "output_type": "stream",
     "text": [
      "2024/12/01 16:41:04 INFO dspy.evaluate.evaluate: Average Metric: 242 / 280 (86.4%)\n",
      "2024/12/01 16:41:04 INFO dspy.teleprompt.mipro_optimizer_v2: \u001b[92mNew best full eval score!\u001b[0m Score: 86.43\n",
      "2024/12/01 16:41:04 INFO dspy.teleprompt.mipro_optimizer_v2: Full eval scores so far: [67.5, 86.43]\n",
      "2024/12/01 16:41:04 INFO dspy.teleprompt.mipro_optimizer_v2: Best full score so far: 86.43\n",
      "2024/12/01 16:41:04 INFO dspy.teleprompt.mipro_optimizer_v2: =======================\n",
      "2024/12/01 16:41:04 INFO dspy.teleprompt.mipro_optimizer_v2: \n",
      "\n",
      "2024/12/01 16:41:04 INFO dspy.teleprompt.mipro_optimizer_v2: == Minibatch Trial 11 / 25 ==\n"
     ]
    },
    {
     "name": "stdout",
     "output_type": "stream",
     "text": [
      "\n",
      "Average Metric: 21.00 / 25 (84.0%): 100%|██████████████████████████████████████████████████████████████████████████████████████████████████| 25/25 [00:37<00:00,  1.50s/it]"
     ]
    },
    {
     "name": "stderr",
     "output_type": "stream",
     "text": [
      "2024/12/01 16:41:41 INFO dspy.evaluate.evaluate: Average Metric: 21 / 25 (84.0%)\n",
      "2024/12/01 16:41:41 INFO dspy.teleprompt.mipro_optimizer_v2: Score: 84.0 on minibatch of size 25 with parameters ['Predictor 0: Instruction 3', 'Predictor 0: Few-Shot Set 1'].\n",
      "2024/12/01 16:41:41 INFO dspy.teleprompt.mipro_optimizer_v2: Minibatch scores so far: [72.0, 92.0, 84.0, 84.0, 88.0, 96.0, 76.0, 80.0, 92.0, 88.0, 84.0]\n",
      "2024/12/01 16:41:41 INFO dspy.teleprompt.mipro_optimizer_v2: Full eval scores so far: [67.5, 86.43]\n",
      "2024/12/01 16:41:41 INFO dspy.teleprompt.mipro_optimizer_v2: Best full score so far: 86.43\n",
      "2024/12/01 16:41:41 INFO dspy.teleprompt.mipro_optimizer_v2: =============================\n",
      "\n",
      "\n",
      "2024/12/01 16:41:41 INFO dspy.teleprompt.mipro_optimizer_v2: == Minibatch Trial 12 / 25 ==\n"
     ]
    },
    {
     "name": "stdout",
     "output_type": "stream",
     "text": [
      "\n",
      "Average Metric: 23.00 / 25 (92.0%): 100%|████████████████████████████████████████████████████████████████████████████████████████████████| 25/25 [00:00<00:00, 2691.42it/s]"
     ]
    },
    {
     "name": "stderr",
     "output_type": "stream",
     "text": [
      "2024/12/01 16:41:41 INFO dspy.evaluate.evaluate: Average Metric: 23 / 25 (92.0%)\n",
      "2024/12/01 16:41:41 INFO dspy.teleprompt.mipro_optimizer_v2: Score: 92.0 on minibatch of size 25 with parameters ['Predictor 0: Instruction 10', 'Predictor 0: Few-Shot Set 2'].\n",
      "2024/12/01 16:41:41 INFO dspy.teleprompt.mipro_optimizer_v2: Minibatch scores so far: [72.0, 92.0, 84.0, 84.0, 88.0, 96.0, 76.0, 80.0, 92.0, 88.0, 84.0, 92.0]\n",
      "2024/12/01 16:41:41 INFO dspy.teleprompt.mipro_optimizer_v2: Full eval scores so far: [67.5, 86.43]\n",
      "2024/12/01 16:41:41 INFO dspy.teleprompt.mipro_optimizer_v2: Best full score so far: 86.43\n",
      "2024/12/01 16:41:41 INFO dspy.teleprompt.mipro_optimizer_v2: =============================\n",
      "\n",
      "\n",
      "2024/12/01 16:41:41 INFO dspy.teleprompt.mipro_optimizer_v2: == Minibatch Trial 13 / 25 ==\n"
     ]
    },
    {
     "name": "stdout",
     "output_type": "stream",
     "text": [
      "\n",
      "Average Metric: 22.00 / 25 (88.0%): 100%|████████████████████████████████████████████████████████████████████████████████████████████████| 25/25 [00:00<00:00, 3257.76it/s]"
     ]
    },
    {
     "name": "stderr",
     "output_type": "stream",
     "text": [
      "2024/12/01 16:41:41 INFO dspy.evaluate.evaluate: Average Metric: 22 / 25 (88.0%)\n",
      "2024/12/01 16:41:41 INFO dspy.teleprompt.mipro_optimizer_v2: Score: 88.0 on minibatch of size 25 with parameters ['Predictor 0: Instruction 7', 'Predictor 0: Few-Shot Set 1'].\n",
      "2024/12/01 16:41:41 INFO dspy.teleprompt.mipro_optimizer_v2: Minibatch scores so far: [72.0, 92.0, 84.0, 84.0, 88.0, 96.0, 76.0, 80.0, 92.0, 88.0, 84.0, 92.0, 88.0]\n",
      "2024/12/01 16:41:41 INFO dspy.teleprompt.mipro_optimizer_v2: Full eval scores so far: [67.5, 86.43]\n",
      "2024/12/01 16:41:41 INFO dspy.teleprompt.mipro_optimizer_v2: Best full score so far: 86.43\n",
      "2024/12/01 16:41:41 INFO dspy.teleprompt.mipro_optimizer_v2: =============================\n",
      "\n",
      "\n",
      "2024/12/01 16:41:41 INFO dspy.teleprompt.mipro_optimizer_v2: == Minibatch Trial 14 / 25 ==\n"
     ]
    },
    {
     "name": "stdout",
     "output_type": "stream",
     "text": [
      "\n",
      "Average Metric: 21.00 / 25 (84.0%): 100%|████████████████████████████████████████████████████████████████████████████████████████████████| 25/25 [00:00<00:00, 3606.95it/s]"
     ]
    },
    {
     "name": "stderr",
     "output_type": "stream",
     "text": [
      "2024/12/01 16:41:41 INFO dspy.evaluate.evaluate: Average Metric: 21 / 25 (84.0%)\n",
      "2024/12/01 16:41:41 INFO dspy.teleprompt.mipro_optimizer_v2: Score: 84.0 on minibatch of size 25 with parameters ['Predictor 0: Instruction 10', 'Predictor 0: Few-Shot Set 15'].\n",
      "2024/12/01 16:41:41 INFO dspy.teleprompt.mipro_optimizer_v2: Minibatch scores so far: [72.0, 92.0, 84.0, 84.0, 88.0, 96.0, 76.0, 80.0, 92.0, 88.0, 84.0, 92.0, 88.0, 84.0]\n",
      "2024/12/01 16:41:41 INFO dspy.teleprompt.mipro_optimizer_v2: Full eval scores so far: [67.5, 86.43]\n",
      "2024/12/01 16:41:41 INFO dspy.teleprompt.mipro_optimizer_v2: Best full score so far: 86.43\n",
      "2024/12/01 16:41:41 INFO dspy.teleprompt.mipro_optimizer_v2: =============================\n",
      "\n",
      "\n",
      "2024/12/01 16:41:41 INFO dspy.teleprompt.mipro_optimizer_v2: == Minibatch Trial 15 / 25 ==\n"
     ]
    },
    {
     "name": "stdout",
     "output_type": "stream",
     "text": [
      "\n",
      "Average Metric: 22.00 / 25 (88.0%): 100%|████████████████████████████████████████████████████████████████████████████████████████████████| 25/25 [00:00<00:00, 1231.91it/s]"
     ]
    },
    {
     "name": "stderr",
     "output_type": "stream",
     "text": [
      "2024/12/01 16:41:41 INFO dspy.evaluate.evaluate: Average Metric: 22 / 25 (88.0%)\n",
      "2024/12/01 16:41:41 INFO dspy.teleprompt.mipro_optimizer_v2: Score: 88.0 on minibatch of size 25 with parameters ['Predictor 0: Instruction 0', 'Predictor 0: Few-Shot Set 7'].\n"
     ]
    },
    {
     "name": "stdout",
     "output_type": "stream",
     "text": [
      "\n"
     ]
    },
    {
     "name": "stderr",
     "output_type": "stream",
     "text": [
      "2024/12/01 16:41:41 INFO dspy.teleprompt.mipro_optimizer_v2: Minibatch scores so far: [72.0, 92.0, 84.0, 84.0, 88.0, 96.0, 76.0, 80.0, 92.0, 88.0, 84.0, 92.0, 88.0, 84.0, 88.0]\n",
      "2024/12/01 16:41:41 INFO dspy.teleprompt.mipro_optimizer_v2: Full eval scores so far: [67.5, 86.43]\n",
      "2024/12/01 16:41:41 INFO dspy.teleprompt.mipro_optimizer_v2: Best full score so far: 86.43\n",
      "2024/12/01 16:41:41 INFO dspy.teleprompt.mipro_optimizer_v2: =============================\n",
      "\n",
      "\n",
      "2024/12/01 16:41:41 INFO dspy.teleprompt.mipro_optimizer_v2: == Minibatch Trial 16 / 25 ==\n"
     ]
    },
    {
     "name": "stdout",
     "output_type": "stream",
     "text": [
      "Average Metric: 22.00 / 25 (88.0%): 100%|████████████████████████████████████████████████████████████████████████████████████████████████| 25/25 [00:00<00:00, 3617.40it/s]"
     ]
    },
    {
     "name": "stderr",
     "output_type": "stream",
     "text": [
      "2024/12/01 16:41:42 INFO dspy.evaluate.evaluate: Average Metric: 22 / 25 (88.0%)\n",
      "2024/12/01 16:41:42 INFO dspy.teleprompt.mipro_optimizer_v2: Score: 88.0 on minibatch of size 25 with parameters ['Predictor 0: Instruction 10', 'Predictor 0: Few-Shot Set 7'].\n",
      "2024/12/01 16:41:42 INFO dspy.teleprompt.mipro_optimizer_v2: Minibatch scores so far: [72.0, 92.0, 84.0, 84.0, 88.0, 96.0, 76.0, 80.0, 92.0, 88.0, 84.0, 92.0, 88.0, 84.0, 88.0, 88.0]\n",
      "2024/12/01 16:41:42 INFO dspy.teleprompt.mipro_optimizer_v2: Full eval scores so far: [67.5, 86.43]\n",
      "2024/12/01 16:41:42 INFO dspy.teleprompt.mipro_optimizer_v2: Best full score so far: 86.43\n",
      "2024/12/01 16:41:42 INFO dspy.teleprompt.mipro_optimizer_v2: =============================\n",
      "\n",
      "\n",
      "2024/12/01 16:41:42 INFO dspy.teleprompt.mipro_optimizer_v2: == Minibatch Trial 17 / 25 ==\n"
     ]
    },
    {
     "name": "stdout",
     "output_type": "stream",
     "text": [
      "\n",
      "Average Metric: 24.00 / 25 (96.0%): 100%|████████████████████████████████████████████████████████████████████████████████████████████████| 25/25 [00:00<00:00, 3815.64it/s]"
     ]
    },
    {
     "name": "stderr",
     "output_type": "stream",
     "text": [
      "2024/12/01 16:41:42 INFO dspy.evaluate.evaluate: Average Metric: 24 / 25 (96.0%)\n",
      "2024/12/01 16:41:42 INFO dspy.teleprompt.mipro_optimizer_v2: Score: 96.0 on minibatch of size 25 with parameters ['Predictor 0: Instruction 13', 'Predictor 0: Few-Shot Set 10'].\n",
      "2024/12/01 16:41:42 INFO dspy.teleprompt.mipro_optimizer_v2: Minibatch scores so far: [72.0, 92.0, 84.0, 84.0, 88.0, 96.0, 76.0, 80.0, 92.0, 88.0, 84.0, 92.0, 88.0, 84.0, 88.0, 88.0, 96.0]\n",
      "2024/12/01 16:41:42 INFO dspy.teleprompt.mipro_optimizer_v2: Full eval scores so far: [67.5, 86.43]\n",
      "2024/12/01 16:41:42 INFO dspy.teleprompt.mipro_optimizer_v2: Best full score so far: 86.43\n",
      "2024/12/01 16:41:42 INFO dspy.teleprompt.mipro_optimizer_v2: =============================\n",
      "\n",
      "\n",
      "2024/12/01 16:41:42 INFO dspy.teleprompt.mipro_optimizer_v2: == Minibatch Trial 18 / 25 ==\n"
     ]
    },
    {
     "name": "stdout",
     "output_type": "stream",
     "text": [
      "\n",
      "Average Metric: 24.00 / 25 (96.0%): 100%|████████████████████████████████████████████████████████████████████████████████████████████████| 25/25 [00:00<00:00, 3942.02it/s]"
     ]
    },
    {
     "name": "stderr",
     "output_type": "stream",
     "text": [
      "2024/12/01 16:41:42 INFO dspy.evaluate.evaluate: Average Metric: 24 / 25 (96.0%)\n",
      "2024/12/01 16:41:42 INFO dspy.teleprompt.mipro_optimizer_v2: Score: 96.0 on minibatch of size 25 with parameters ['Predictor 0: Instruction 17', 'Predictor 0: Few-Shot Set 10'].\n",
      "2024/12/01 16:41:42 INFO dspy.teleprompt.mipro_optimizer_v2: Minibatch scores so far: [72.0, 92.0, 84.0, 84.0, 88.0, 96.0, 76.0, 80.0, 92.0, 88.0, 84.0, 92.0, 88.0, 84.0, 88.0, 88.0, 96.0, 96.0]\n",
      "2024/12/01 16:41:42 INFO dspy.teleprompt.mipro_optimizer_v2: Full eval scores so far: [67.5, 86.43]\n",
      "2024/12/01 16:41:42 INFO dspy.teleprompt.mipro_optimizer_v2: Best full score so far: 86.43\n",
      "2024/12/01 16:41:42 INFO dspy.teleprompt.mipro_optimizer_v2: =============================\n",
      "\n",
      "\n",
      "2024/12/01 16:41:42 INFO dspy.teleprompt.mipro_optimizer_v2: == Minibatch Trial 19 / 25 ==\n"
     ]
    },
    {
     "name": "stdout",
     "output_type": "stream",
     "text": [
      "\n",
      "Average Metric: 23.00 / 25 (92.0%): 100%|████████████████████████████████████████████████████████████████████████████████████████████████| 25/25 [00:00<00:00, 3432.21it/s]"
     ]
    },
    {
     "name": "stderr",
     "output_type": "stream",
     "text": [
      "2024/12/01 16:41:42 INFO dspy.evaluate.evaluate: Average Metric: 23 / 25 (92.0%)\n",
      "2024/12/01 16:41:42 INFO dspy.teleprompt.mipro_optimizer_v2: Score: 92.0 on minibatch of size 25 with parameters ['Predictor 0: Instruction 13', 'Predictor 0: Few-Shot Set 10'].\n",
      "2024/12/01 16:41:42 INFO dspy.teleprompt.mipro_optimizer_v2: Minibatch scores so far: [72.0, 92.0, 84.0, 84.0, 88.0, 96.0, 76.0, 80.0, 92.0, 88.0, 84.0, 92.0, 88.0, 84.0, 88.0, 88.0, 96.0, 96.0, 92.0]\n",
      "2024/12/01 16:41:42 INFO dspy.teleprompt.mipro_optimizer_v2: Full eval scores so far: [67.5, 86.43]\n",
      "2024/12/01 16:41:42 INFO dspy.teleprompt.mipro_optimizer_v2: Best full score so far: 86.43\n",
      "2024/12/01 16:41:42 INFO dspy.teleprompt.mipro_optimizer_v2: =============================\n",
      "\n",
      "\n",
      "2024/12/01 16:41:42 INFO dspy.teleprompt.mipro_optimizer_v2: == Minibatch Trial 20 / 25 ==\n"
     ]
    },
    {
     "name": "stdout",
     "output_type": "stream",
     "text": [
      "\n",
      "Average Metric: 21.00 / 25 (84.0%): 100%|████████████████████████████████████████████████████████████████████████████████████████████████| 25/25 [00:00<00:00, 3607.57it/s]"
     ]
    },
    {
     "name": "stderr",
     "output_type": "stream",
     "text": [
      "2024/12/01 16:41:42 INFO dspy.evaluate.evaluate: Average Metric: 21 / 25 (84.0%)\n",
      "2024/12/01 16:41:42 INFO dspy.teleprompt.mipro_optimizer_v2: Score: 84.0 on minibatch of size 25 with parameters ['Predictor 0: Instruction 13', 'Predictor 0: Few-Shot Set 5'].\n",
      "2024/12/01 16:41:42 INFO dspy.teleprompt.mipro_optimizer_v2: Minibatch scores so far: [72.0, 92.0, 84.0, 84.0, 88.0, 96.0, 76.0, 80.0, 92.0, 88.0, 84.0, 92.0, 88.0, 84.0, 88.0, 88.0, 96.0, 96.0, 92.0, 84.0]\n"
     ]
    },
    {
     "name": "stdout",
     "output_type": "stream",
     "text": [
      "\n"
     ]
    },
    {
     "name": "stderr",
     "output_type": "stream",
     "text": [
      "2024/12/01 16:41:42 INFO dspy.teleprompt.mipro_optimizer_v2: Full eval scores so far: [67.5, 86.43]\n",
      "2024/12/01 16:41:42 INFO dspy.teleprompt.mipro_optimizer_v2: Best full score so far: 86.43\n",
      "2024/12/01 16:41:42 INFO dspy.teleprompt.mipro_optimizer_v2: =============================\n",
      "\n",
      "\n",
      "2024/12/01 16:41:42 INFO dspy.teleprompt.mipro_optimizer_v2: ===== Full Eval 2 =====\n",
      "2024/12/01 16:41:42 INFO dspy.teleprompt.mipro_optimizer_v2: Doing full eval on next top averaging program (Avg Score: 96.0) from minibatch trials...\n"
     ]
    },
    {
     "name": "stdout",
     "output_type": "stream",
     "text": [
      "Average Metric: 248.00 / 280 (88.6%): 100%|██████████████████████████████████████████████████████████████████████████████████████████████| 280/280 [07:38<00:00,  1.64s/it]"
     ]
    },
    {
     "name": "stderr",
     "output_type": "stream",
     "text": [
      "2024/12/01 16:49:20 INFO dspy.evaluate.evaluate: Average Metric: 248 / 280 (88.6%)\n",
      "2024/12/01 16:49:20 INFO dspy.teleprompt.mipro_optimizer_v2: \u001b[92mNew best full eval score!\u001b[0m Score: 88.57\n",
      "2024/12/01 16:49:20 INFO dspy.teleprompt.mipro_optimizer_v2: Full eval scores so far: [67.5, 86.43, 88.57]\n",
      "2024/12/01 16:49:20 INFO dspy.teleprompt.mipro_optimizer_v2: Best full score so far: 88.57\n",
      "2024/12/01 16:49:20 INFO dspy.teleprompt.mipro_optimizer_v2: =======================\n",
      "2024/12/01 16:49:20 INFO dspy.teleprompt.mipro_optimizer_v2: \n",
      "\n",
      "2024/12/01 16:49:20 INFO dspy.teleprompt.mipro_optimizer_v2: == Minibatch Trial 21 / 25 ==\n"
     ]
    },
    {
     "name": "stdout",
     "output_type": "stream",
     "text": [
      "\n",
      "Average Metric: 21.00 / 25 (84.0%): 100%|████████████████████████████████████████████████████████████████████████████████████████████████| 25/25 [00:00<00:00, 3145.57it/s]"
     ]
    },
    {
     "name": "stderr",
     "output_type": "stream",
     "text": [
      "2024/12/01 16:49:20 INFO dspy.evaluate.evaluate: Average Metric: 21 / 25 (84.0%)\n",
      "2024/12/01 16:49:20 INFO dspy.teleprompt.mipro_optimizer_v2: Score: 84.0 on minibatch of size 25 with parameters ['Predictor 0: Instruction 1', 'Predictor 0: Few-Shot Set 16'].\n",
      "2024/12/01 16:49:20 INFO dspy.teleprompt.mipro_optimizer_v2: Minibatch scores so far: [72.0, 92.0, 84.0, 84.0, 88.0, 96.0, 76.0, 80.0, 92.0, 88.0, 84.0, 92.0, 88.0, 84.0, 88.0, 88.0, 96.0, 96.0, 92.0, 84.0, 84.0]\n",
      "2024/12/01 16:49:20 INFO dspy.teleprompt.mipro_optimizer_v2: Full eval scores so far: [67.5, 86.43, 88.57]\n",
      "2024/12/01 16:49:20 INFO dspy.teleprompt.mipro_optimizer_v2: Best full score so far: 88.57\n",
      "2024/12/01 16:49:20 INFO dspy.teleprompt.mipro_optimizer_v2: =============================\n",
      "\n",
      "\n",
      "2024/12/01 16:49:20 INFO dspy.teleprompt.mipro_optimizer_v2: == Minibatch Trial 22 / 25 ==\n"
     ]
    },
    {
     "name": "stdout",
     "output_type": "stream",
     "text": [
      "\n",
      "Average Metric: 24.00 / 25 (96.0%): 100%|████████████████████████████████████████████████████████████████████████████████████████████████| 25/25 [00:00<00:00, 3741.44it/s]"
     ]
    },
    {
     "name": "stderr",
     "output_type": "stream",
     "text": [
      "2024/12/01 16:49:20 INFO dspy.evaluate.evaluate: Average Metric: 24 / 25 (96.0%)\n",
      "2024/12/01 16:49:20 INFO dspy.teleprompt.mipro_optimizer_v2: Score: 96.0 on minibatch of size 25 with parameters ['Predictor 0: Instruction 17', 'Predictor 0: Few-Shot Set 3'].\n",
      "2024/12/01 16:49:20 INFO dspy.teleprompt.mipro_optimizer_v2: Minibatch scores so far: [72.0, 92.0, 84.0, 84.0, 88.0, 96.0, 76.0, 80.0, 92.0, 88.0, 84.0, 92.0, 88.0, 84.0, 88.0, 88.0, 96.0, 96.0, 92.0, 84.0, 84.0, 96.0]\n",
      "2024/12/01 16:49:20 INFO dspy.teleprompt.mipro_optimizer_v2: Full eval scores so far: [67.5, 86.43, 88.57]\n",
      "2024/12/01 16:49:20 INFO dspy.teleprompt.mipro_optimizer_v2: Best full score so far: 88.57\n",
      "2024/12/01 16:49:20 INFO dspy.teleprompt.mipro_optimizer_v2: =============================\n",
      "\n",
      "\n",
      "2024/12/01 16:49:20 INFO dspy.teleprompt.mipro_optimizer_v2: == Minibatch Trial 23 / 25 ==\n"
     ]
    },
    {
     "name": "stdout",
     "output_type": "stream",
     "text": [
      "\n",
      "Average Metric: 22.00 / 25 (88.0%): 100%|████████████████████████████████████████████████████████████████████████████████████████████████| 25/25 [00:00<00:00, 3928.13it/s]"
     ]
    },
    {
     "name": "stderr",
     "output_type": "stream",
     "text": [
      "2024/12/01 16:49:20 INFO dspy.evaluate.evaluate: Average Metric: 22 / 25 (88.0%)\n",
      "2024/12/01 16:49:20 INFO dspy.teleprompt.mipro_optimizer_v2: Score: 88.0 on minibatch of size 25 with parameters ['Predictor 0: Instruction 9', 'Predictor 0: Few-Shot Set 10'].\n",
      "2024/12/01 16:49:20 INFO dspy.teleprompt.mipro_optimizer_v2: Minibatch scores so far: [72.0, 92.0, 84.0, 84.0, 88.0, 96.0, 76.0, 80.0, 92.0, 88.0, 84.0, 92.0, 88.0, 84.0, 88.0, 88.0, 96.0, 96.0, 92.0, 84.0, 84.0, 96.0, 88.0]\n",
      "2024/12/01 16:49:20 INFO dspy.teleprompt.mipro_optimizer_v2: Full eval scores so far: [67.5, 86.43, 88.57]\n",
      "2024/12/01 16:49:20 INFO dspy.teleprompt.mipro_optimizer_v2: Best full score so far: 88.57\n",
      "2024/12/01 16:49:20 INFO dspy.teleprompt.mipro_optimizer_v2: =============================\n",
      "\n",
      "\n",
      "2024/12/01 16:49:20 INFO dspy.teleprompt.mipro_optimizer_v2: == Minibatch Trial 24 / 25 ==\n"
     ]
    },
    {
     "name": "stdout",
     "output_type": "stream",
     "text": [
      "\n",
      "Average Metric: 23.00 / 25 (92.0%): 100%|████████████████████████████████████████████████████████████████████████████████████████████████| 25/25 [00:00<00:00, 3883.90it/s]"
     ]
    },
    {
     "name": "stderr",
     "output_type": "stream",
     "text": [
      "2024/12/01 16:49:20 INFO dspy.evaluate.evaluate: Average Metric: 23 / 25 (92.0%)\n",
      "2024/12/01 16:49:20 INFO dspy.teleprompt.mipro_optimizer_v2: Score: 92.0 on minibatch of size 25 with parameters ['Predictor 0: Instruction 18', 'Predictor 0: Few-Shot Set 10'].\n",
      "2024/12/01 16:49:20 INFO dspy.teleprompt.mipro_optimizer_v2: Minibatch scores so far: [72.0, 92.0, 84.0, 84.0, 88.0, 96.0, 76.0, 80.0, 92.0, 88.0, 84.0, 92.0, 88.0, 84.0, 88.0, 88.0, 96.0, 96.0, 92.0, 84.0, 84.0, 96.0, 88.0, 92.0]\n",
      "2024/12/01 16:49:20 INFO dspy.teleprompt.mipro_optimizer_v2: Full eval scores so far: [67.5, 86.43, 88.57]\n",
      "2024/12/01 16:49:20 INFO dspy.teleprompt.mipro_optimizer_v2: Best full score so far: 88.57\n",
      "2024/12/01 16:49:20 INFO dspy.teleprompt.mipro_optimizer_v2: =============================\n",
      "\n",
      "\n",
      "2024/12/01 16:49:20 INFO dspy.teleprompt.mipro_optimizer_v2: == Minibatch Trial 25 / 25 ==\n"
     ]
    },
    {
     "name": "stdout",
     "output_type": "stream",
     "text": [
      "\n",
      "Average Metric: 20.00 / 25 (80.0%): 100%|████████████████████████████████████████████████████████████████████████████████████████████████| 25/25 [00:00<00:00, 3625.15it/s]"
     ]
    },
    {
     "name": "stderr",
     "output_type": "stream",
     "text": [
      "2024/12/01 16:49:20 INFO dspy.evaluate.evaluate: Average Metric: 20 / 25 (80.0%)\n",
      "2024/12/01 16:49:20 INFO dspy.teleprompt.mipro_optimizer_v2: Score: 80.0 on minibatch of size 25 with parameters ['Predictor 0: Instruction 17', 'Predictor 0: Few-Shot Set 17'].\n",
      "2024/12/01 16:49:20 INFO dspy.teleprompt.mipro_optimizer_v2: Minibatch scores so far: [72.0, 92.0, 84.0, 84.0, 88.0, 96.0, 76.0, 80.0, 92.0, 88.0, 84.0, 92.0, 88.0, 84.0, 88.0, 88.0, 96.0, 96.0, 92.0, 84.0, 84.0, 96.0, 88.0, 92.0, 80.0]\n",
      "2024/12/01 16:49:20 INFO dspy.teleprompt.mipro_optimizer_v2: Full eval scores so far: [67.5, 86.43, 88.57]\n",
      "2024/12/01 16:49:20 INFO dspy.teleprompt.mipro_optimizer_v2: Best full score so far: 88.57\n",
      "2024/12/01 16:49:20 INFO dspy.teleprompt.mipro_optimizer_v2: =============================\n",
      "\n",
      "\n",
      "2024/12/01 16:49:20 INFO dspy.teleprompt.mipro_optimizer_v2: ===== Full Eval 3 =====\n",
      "2024/12/01 16:49:20 INFO dspy.teleprompt.mipro_optimizer_v2: Doing full eval on next top averaging program (Avg Score: 96.0) from minibatch trials...\n"
     ]
    },
    {
     "name": "stdout",
     "output_type": "stream",
     "text": [
      "\n",
      "Average Metric: 221.00 / 280 (78.9%): 100%|██████████████████████████████████████████████████████████████████████████████████████████████| 280/280 [09:16<00:00,  1.99s/it]"
     ]
    },
    {
     "name": "stderr",
     "output_type": "stream",
     "text": [
      "2024/12/01 16:58:37 INFO dspy.evaluate.evaluate: Average Metric: 221 / 280 (78.9%)\n",
      "2024/12/01 16:58:37 INFO dspy.teleprompt.mipro_optimizer_v2: Full eval scores so far: [67.5, 86.43, 88.57, 78.93]\n",
      "2024/12/01 16:58:37 INFO dspy.teleprompt.mipro_optimizer_v2: Best full score so far: 88.57\n",
      "2024/12/01 16:58:37 INFO dspy.teleprompt.mipro_optimizer_v2: =======================\n",
      "2024/12/01 16:58:37 INFO dspy.teleprompt.mipro_optimizer_v2: \n",
      "\n",
      "2024/12/01 16:58:37 INFO dspy.teleprompt.mipro_optimizer_v2: Returning best identified program with score 88.57!\n"
     ]
    },
    {
     "name": "stdout",
     "output_type": "stream",
     "text": [
      "\n"
     ]
    }
   ],
   "source": [
    "THREADS=2\n",
    "kwargs = dict(num_threads=THREADS, teacher_settings=dict(lm=gpt4o), prompt_model=gpt4o_mini)\n",
    "optimizer = dspy.MIPROv2(metric=dataset.metric, auto=\"medium\", **kwargs)\n",
    "\n",
    "kwargs = dict(requires_permission_to_run=False, max_bootstrapped_demos=4, max_labeled_demos=4)\n",
    "optimized_module = optimizer.compile(module, trainset=dataset.train, **kwargs)"
   ]
  },
  {
   "cell_type": "code",
   "execution_count": 14,
   "id": "cd13b128-4783-48df-a9d2-e10579af1da5",
   "metadata": {},
   "outputs": [
    {
     "name": "stdout",
     "output_type": "stream",
     "text": [
      "Average Metric: 313.00 / 350 (89.4%): 100%|██████████████████████████████████████████████████████████████████████████████████████████████| 350/350 [03:42<00:00,  1.57it/s]"
     ]
    },
    {
     "name": "stderr",
     "output_type": "stream",
     "text": [
      "2024/12/01 17:11:25 INFO dspy.evaluate.evaluate: Average Metric: 313 / 350 (89.4%)\n"
     ]
    },
    {
     "name": "stdout",
     "output_type": "stream",
     "text": [
      "\n"
     ]
    },
    {
     "data": {
      "text/html": [
       "<div>\n",
       "<style scoped>\n",
       "    .dataframe tbody tr th:only-of-type {\n",
       "        vertical-align: middle;\n",
       "    }\n",
       "\n",
       "    .dataframe tbody tr th {\n",
       "        vertical-align: top;\n",
       "    }\n",
       "\n",
       "    .dataframe thead th {\n",
       "        text-align: right;\n",
       "    }\n",
       "</style>\n",
       "<table border=\"1\" class=\"dataframe\">\n",
       "  <thead>\n",
       "    <tr style=\"text-align: right;\">\n",
       "      <th></th>\n",
       "      <th>question</th>\n",
       "      <th>example_reasoning</th>\n",
       "      <th>example_answer</th>\n",
       "      <th>pred_reasoning</th>\n",
       "      <th>pred_answer</th>\n",
       "      <th>method</th>\n",
       "    </tr>\n",
       "  </thead>\n",
       "  <tbody>\n",
       "    <tr>\n",
       "      <th>0</th>\n",
       "      <td>What is the smallest integer value of $c$ such that the function $...</td>\n",
       "      <td>The given function has a domain of all real numbers if and only if...</td>\n",
       "      <td>1</td>\n",
       "      <td>To determine the smallest integer value of \\( c \\) such that the f...</td>\n",
       "      <td>1</td>\n",
       "      <td>✔️ [True]</td>\n",
       "    </tr>\n",
       "    <tr>\n",
       "      <th>1</th>\n",
       "      <td>What is the least value of $x$ that is a solution of $|{-x+3}|=7$?</td>\n",
       "      <td>In order to have $|{-x+3}| = 7$, we must have $-x + 3 = 7$ or $-x ...</td>\n",
       "      <td>-4</td>\n",
       "      <td>The equation \\( |{-x+3}|=7 \\) implies two possible cases: 1. \\(-x ...</td>\n",
       "      <td>-4</td>\n",
       "      <td>✔️ [True]</td>\n",
       "    </tr>\n",
       "    <tr>\n",
       "      <th>2</th>\n",
       "      <td>Evaluate $\\left\\lceil -\\frac{7}{4}\\right\\rceil$.</td>\n",
       "      <td>$-\\frac{7}{4}$ is between $-1$ and $-2$, so $\\left\\lceil -\\frac{7}...</td>\n",
       "      <td>-1</td>\n",
       "      <td>To evaluate \\(\\left\\lceil -\\frac{7}{4}\\right\\rceil\\), we first nee...</td>\n",
       "      <td>-1</td>\n",
       "      <td>✔️ [True]</td>\n",
       "    </tr>\n",
       "    <tr>\n",
       "      <th>3</th>\n",
       "      <td>A triangle has vertices at coordinates $(11,1)$, $(2,3)$ and $(3,7...</td>\n",
       "      <td>We must find the distance between each pair of points by using the...</td>\n",
       "      <td>10</td>\n",
       "      <td>To find the length of the sides of the triangle formed by the vert...</td>\n",
       "      <td>10</td>\n",
       "      <td>✔️ [True]</td>\n",
       "    </tr>\n",
       "    <tr>\n",
       "      <th>4</th>\n",
       "      <td>Let $f(x) = x + 2$ and $g(x) = 1/f(x)$. What is $g(f(-3))$?</td>\n",
       "      <td>First, we find that $f(-3) = (-3) + 2 = -1$. Then, $$g(f(-3)) = g(...</td>\n",
       "      <td>1</td>\n",
       "      <td>To find \\( g(f(-3)) \\), we first need to evaluate \\( f(-3) \\). The...</td>\n",
       "      <td>1</td>\n",
       "      <td>✔️ [True]</td>\n",
       "    </tr>\n",
       "  </tbody>\n",
       "</table>\n",
       "</div>"
      ],
      "text/plain": [
       "                                                                question  \\\n",
       "0  What is the smallest integer value of $c$ such that the function $...   \n",
       "1     What is the least value of $x$ that is a solution of $|{-x+3}|=7$?   \n",
       "2                       Evaluate $\\left\\lceil -\\frac{7}{4}\\right\\rceil$.   \n",
       "3  A triangle has vertices at coordinates $(11,1)$, $(2,3)$ and $(3,7...   \n",
       "4            Let $f(x) = x + 2$ and $g(x) = 1/f(x)$. What is $g(f(-3))$?   \n",
       "\n",
       "                                                       example_reasoning  \\\n",
       "0  The given function has a domain of all real numbers if and only if...   \n",
       "1  In order to have $|{-x+3}| = 7$, we must have $-x + 3 = 7$ or $-x ...   \n",
       "2  $-\\frac{7}{4}$ is between $-1$ and $-2$, so $\\left\\lceil -\\frac{7}...   \n",
       "3  We must find the distance between each pair of points by using the...   \n",
       "4  First, we find that $f(-3) = (-3) + 2 = -1$. Then, $$g(f(-3)) = g(...   \n",
       "\n",
       "  example_answer  \\\n",
       "0              1   \n",
       "1             -4   \n",
       "2             -1   \n",
       "3             10   \n",
       "4              1   \n",
       "\n",
       "                                                          pred_reasoning  \\\n",
       "0  To determine the smallest integer value of \\( c \\) such that the f...   \n",
       "1  The equation \\( |{-x+3}|=7 \\) implies two possible cases: 1. \\(-x ...   \n",
       "2  To evaluate \\(\\left\\lceil -\\frac{7}{4}\\right\\rceil\\), we first nee...   \n",
       "3  To find the length of the sides of the triangle formed by the vert...   \n",
       "4  To find \\( g(f(-3)) \\), we first need to evaluate \\( f(-3) \\). The...   \n",
       "\n",
       "  pred_answer     method  \n",
       "0           1  ✔️ [True]  \n",
       "1          -4  ✔️ [True]  \n",
       "2          -1  ✔️ [True]  \n",
       "3          10  ✔️ [True]  \n",
       "4           1  ✔️ [True]  "
      ]
     },
     "metadata": {},
     "output_type": "display_data"
    },
    {
     "data": {
      "text/html": [
       "\n",
       "                <div style='\n",
       "                    text-align: center;\n",
       "                    font-size: 16px;\n",
       "                    font-weight: bold;\n",
       "                    color: #555;\n",
       "                    margin: 10px 0;'>\n",
       "                    ... 345 more rows not displayed ...\n",
       "                </div>\n",
       "                "
      ],
      "text/plain": [
       "<IPython.core.display.HTML object>"
      ]
     },
     "metadata": {},
     "output_type": "display_data"
    },
    {
     "data": {
      "text/plain": [
       "89.43"
      ]
     },
     "execution_count": 14,
     "metadata": {},
     "output_type": "execute_result"
    }
   ],
   "source": [
    "THREADS = 2\n",
    "kwargs = dict(num_threads=THREADS, display_progress=True, display_table=5)\n",
    "evaluate = dspy.Evaluate(devset=dataset.dev, metric=dataset.metric, **kwargs)\n",
    "evaluate(optimized_module)"
   ]
  },
  {
   "cell_type": "code",
   "execution_count": 15,
   "id": "930b1981-37fa-42a4-bc65-eb4c3fe4f4d6",
   "metadata": {},
   "outputs": [
    {
     "name": "stdout",
     "output_type": "stream",
     "text": [
      "\n",
      "\n",
      "\n",
      "\n",
      "\u001b[34m[2024-12-01T17:11:25.594109]\u001b[0m\n",
      "\n",
      "\u001b[31mSystem message:\u001b[0m\n",
      "\n",
      "Your input fields are:\n",
      "1. `question` (str)\n",
      "\n",
      "Your output fields are:\n",
      "1. `reasoning` (str)\n",
      "2. `answer` (str)\n",
      "\n",
      "All interactions will be structured in the following way, with the appropriate values filled in.\n",
      "\n",
      "[[ ## question ## ]]\n",
      "{question}\n",
      "\n",
      "[[ ## reasoning ## ]]\n",
      "{reasoning}\n",
      "\n",
      "[[ ## answer ## ]]\n",
      "{answer}\n",
      "\n",
      "[[ ## completed ## ]]\n",
      "\n",
      "In adhering to this structure, your objective is: \n",
      "        Given a mathematical problem stated in the `question`, provide a detailed step-by-step explanation in the `reasoning` field that leads to the final result, which should be presented in the `answer` field. Make sure to include any relevant formulas and apply Vieta's formulas appropriately to calculate the sum of the reciprocals of the roots of the quadratic equation. Your response should clearly format the question, reasoning, and answer for clarity and understanding.\n",
      "\n",
      "\n",
      "\u001b[31mUser message:\u001b[0m\n",
      "\n",
      "[[ ## question ## ]]\n",
      "If $|4x+2|=10$ and $x<0$, what is the value of $x$?\n",
      "\n",
      "Respond with the corresponding output fields, starting with the field `[[ ## reasoning ## ]]`, then `[[ ## answer ## ]]`, and then ending with the marker for `[[ ## completed ## ]]`.\n",
      "\n",
      "\n",
      "\u001b[31mAssistant message:\u001b[0m\n",
      "\n",
      "[[ ## reasoning ## ]]\n",
      "The equation $|4x+2|=10$ implies two possible equations: $4x+2=10$ or $4x+2=-10$. We solve each equation separately.\n",
      "\n",
      "1. For $4x+2=10$:\n",
      "   \\[\n",
      "   4x + 2 = 10 \\\\\n",
      "   4x = 8 \\\\\n",
      "   x = 2\n",
      "   \\]\n",
      "   However, $x=2$ does not satisfy the condition $x<0$.\n",
      "\n",
      "2. For $4x+2=-10$:\n",
      "   \\[\n",
      "   4x + 2 = -10 \\\\\n",
      "   4x = -12 \\\\\n",
      "   x = -3\n",
      "   \\]\n",
      "   The solution $x = -3$ satisfies the condition $x<0$.\n",
      "\n",
      "Therefore, the value of $x$ is $\\boxed{-3}$.\n",
      "\n",
      "[[ ## answer ## ]]\n",
      "-3\n",
      "\n",
      "[[ ## completed ## ]]\n",
      "\n",
      "\n",
      "\u001b[31mUser message:\u001b[0m\n",
      "\n",
      "[[ ## question ## ]]\n",
      "Given that $-4$ is a solution to $x^2 + bx -36 = 0$, what is the value of $b$?\n",
      "\n",
      "Respond with the corresponding output fields, starting with the field `[[ ## reasoning ## ]]`, then `[[ ## answer ## ]]`, and then ending with the marker for `[[ ## completed ## ]]`.\n",
      "\n",
      "\n",
      "\u001b[31mAssistant message:\u001b[0m\n",
      "\n",
      "[[ ## reasoning ## ]]\n",
      "The product of the roots of this quadratic is $-36/1=-36$, so the other solution must be $-36/-4=9$. That means that the sum of the solutions is $-4+9=5$. The sum of the solutions is also $-b/1=-b$. Thus, $-b=5$ and $b=\\boxed{-5}$.\n",
      "\n",
      "[[ ## answer ## ]]\n",
      "-5\n",
      "\n",
      "[[ ## completed ## ]]\n",
      "\n",
      "\n",
      "\u001b[31mUser message:\u001b[0m\n",
      "\n",
      "[[ ## question ## ]]\n",
      "Richard is building a rectangular playground from 200 feet of fencing. The fencing must entirely enclose the playground. What is the maximum area of this playground?\n",
      "\n",
      "Respond with the corresponding output fields, starting with the field `[[ ## reasoning ## ]]`, then `[[ ## answer ## ]]`, and then ending with the marker for `[[ ## completed ## ]]`.\n",
      "\n",
      "\n",
      "\u001b[31mAssistant message:\u001b[0m\n",
      "\n",
      "[[ ## reasoning ## ]]\n",
      "Let the length of the playground be $l$ and the width be $w$. We have the equation $2l+2w=200 \\Rightarrow l + w = 100$. We want to maximize the area of this rectangular playground, which is given by $lw$. From our equation, we know that $l=100-w$. Substituting this in to our expression for area, we have \\[(100-w)(w)=100w-w^2\\]We will now complete the square to find the maximum value of this expression. Factoring a $-1$ out, we have \\[-(w^2-100w)\\]In order for the expression inside the parenthesis to be a perfect square, we need to add and subtract $(100/2)^2=2500$ inside the parenthesis. Doing this, we get \\[-(w^2-100w+2500-2500) \\Rightarrow -(w-50)^2+2500\\]Since the maximum value of $-(w-50)^2$ is 0 (perfect squares are always nonnegative), the maximum value of the entire expression is 2500, which is achieved when $w=50$ and $l=100-w=50$ (the playground is a square). Thus, the maximum area of the playground is $\\boxed{2500}$ square feet.\n",
      "\n",
      "[[ ## answer ## ]]\n",
      "2500\n",
      "\n",
      "[[ ## completed ## ]]\n",
      "\n",
      "\n",
      "\u001b[31mUser message:\u001b[0m\n",
      "\n",
      "[[ ## question ## ]]\n",
      "Alice and Bob are playing a game. Alice starts first. On Alice's turn, she flips a coin. If she gets a heads, she wins. If not, it becomes Bob's turn. On Bob's turn, he flips a coin. If he gets a tails, he wins. If not, it becomes Alice's turn. What is the probability that Alice wins the game?\n",
      "\n",
      "Respond with the corresponding output fields, starting with the field `[[ ## reasoning ## ]]`, then `[[ ## answer ## ]]`, and then ending with the marker for `[[ ## completed ## ]]`.\n",
      "\n",
      "\n",
      "\u001b[31mAssistant message:\u001b[0m\n",
      "\n",
      "[[ ## reasoning ## ]]\n",
      "Alice has a $1/2$ chance of winning the game on her first turn. If she doesn't, then the probability that she wins the game on her second turn is $1/8,$ since she must not win on her first flip ($1/2$ chance), Bob must not win on his first flip ($1/2$ chance), and then Alice must win on her second flip ($1/2$ chance). The probability that she wins the game on her third turn is $1/32,$ and in general, the probability that she wins the game on her $k^\\text{th}$ turn is $(1/2)^{2k-1}.$ Thus, the probability that Alice wins is an infinite geometric series with first term $1/2$ and common ratio $1/4.$ So, the probability that Alice wins the game is $$\\frac{\\frac12}{1-\\frac14} = \\boxed{\\frac{2}{3}}.$$OR\n",
      "\n",
      "Note that the only difference between the odds of Alice or Bob winning is who goes first. Because Bob goes second, the odds of him winning on his $k^\\text{th}$ flip is half of the odds that Alice wins on her $k^\\text{th}$ flip, since Alice must first get a tails before Bob gets a chance to win. Thus, if $a$ is Alice's chance of winning, and $b$ is Bob's chance of winning, then $a = 2b.$ Also, since someone must win, $a + b = 1.$ It follows that $a = 2/3$ and $b = 1/3,$ so Alice has a $\\boxed{\\frac{2}{3}}$ chance of winning the game.\n",
      "\n",
      "[[ ## answer ## ]]\n",
      "\\frac{2}{3}\n",
      "\n",
      "[[ ## completed ## ]]\n",
      "\n",
      "\n",
      "\u001b[31mUser message:\u001b[0m\n",
      "\n",
      "[[ ## question ## ]]\n",
      "At 50 miles per hour, how far would a car travel in $2\\frac{3}{4}$ hours? Express your answer as a mixed number.\n",
      "\n",
      "Respond with the corresponding output fields, starting with the field `[[ ## reasoning ## ]]`, then `[[ ## answer ## ]]`, and then ending with the marker for `[[ ## completed ## ]]`.\n",
      "\n",
      "\n",
      "\u001b[31mResponse:\u001b[0m\n",
      "\n",
      "\u001b[32m[[ ## reasoning ## ]]\n",
      "To find the distance traveled by the car, we can use the formula:\n",
      "\n",
      "\\[\n",
      "\\text{Distance} = \\text{Speed} \\times \\text{Time}\n",
      "\\]\n",
      "\n",
      "Given that the speed of the car is 50 miles per hour and the time is \\(2\\frac{3}{4}\\) hours, we first convert the mixed number \\(2\\frac{3}{4}\\) into an improper fraction:\n",
      "\n",
      "\\[\n",
      "2\\frac{3}{4} = 2 + \\frac{3}{4} = \\frac{8}{4} + \\frac{3}{4} = \\frac{11}{4}\n",
      "\\]\n",
      "\n",
      "Now we can calculate the distance:\n",
      "\n",
      "\\[\n",
      "\\text{Distance} = 50 \\times \\frac{11}{4}\n",
      "\\]\n",
      "\n",
      "To perform the multiplication:\n",
      "\n",
      "\\[\n",
      "\\text{Distance} = \\frac{50 \\times 11}{4} = \\frac{550}{4}\n",
      "\\]\n",
      "\n",
      "Next, we simplify \\(\\frac{550}{4}\\):\n",
      "\n",
      "\\[\n",
      "\\frac{550}{4} = 137.5\n",
      "\\]\n",
      "\n",
      "Now, we convert \\(137.5\\) into a mixed number. The whole number part is \\(137\\) and the fractional part is \\(0.5\\), which can be expressed as \\(\\frac{1}{2}\\). Therefore, we have:\n",
      "\n",
      "\\[\n",
      "137.5 = 137\\frac{1}{2}\n",
      "\\]\n",
      "\n",
      "Thus, the distance traveled by the car is:\n",
      "\n",
      "\\[\n",
      "\\boxed{137\\frac{1}{2}} \\text{ miles}\n",
      "\\]\n",
      "\n",
      "[[ ## answer ## ]]\n",
      "137\\frac{1}{2}\n",
      "\n",
      "[[ ## completed ## ]]\u001b[0m\n",
      "\n",
      "\n",
      "\n",
      "\n",
      "\n"
     ]
    }
   ],
   "source": [
    "dspy.inspect_history()"
   ]
  },
  {
   "cell_type": "code",
   "execution_count": null,
   "id": "85c76b03-6a20-4fb3-9d75-ead8f9b877b8",
   "metadata": {},
   "outputs": [],
   "source": []
  }
 ],
 "metadata": {
  "kernelspec": {
   "display_name": "Python 3 (ipykernel)",
   "language": "python",
   "name": "python3"
  },
  "language_info": {
   "codemirror_mode": {
    "name": "ipython",
    "version": 3
   },
   "file_extension": ".py",
   "mimetype": "text/x-python",
   "name": "python",
   "nbconvert_exporter": "python",
   "pygments_lexer": "ipython3",
   "version": "3.11.1"
  }
 },
 "nbformat": 4,
 "nbformat_minor": 5
}
